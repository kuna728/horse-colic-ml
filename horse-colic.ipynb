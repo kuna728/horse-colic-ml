{
 "cells": [
  {
   "cell_type": "markdown",
   "source": [
    "# Horse colic\n",
    "## Project goal\n",
    "The goal of the project is to train and build a horse colic complication model based on [Horse Colic Data Set](https://archive.ics.uci.edu/ml/datasets/Horse+Colic).\n",
    "The task is a multinomial classification problem and outcome model should predict whether a colic horse will die, survive or be euthanized."
   ],
   "metadata": {
    "collapsed": false
   }
  },
  {
   "cell_type": "markdown",
   "source": [
    "## Data acquisition, analysis and pre-processing\n",
    "### Data downloading\n",
    "Dataset is split into 3 parts:\n",
    "- file *horse-colic.data* with training data - 300 records\n",
    "- file *horse-colic.test* with test data - 68 records\n",
    "- file *horse-colic.names* with dataset description and column names\n",
    "\n",
    "Data is downloaded programmatically and saved into data subfolder of current working directory. However, *horse-colic.names* need to be parsed before pandas can use it as column names definition. Cell below does this task. Parsed column names are saved into *horse-colic.names.parsed* file."
   ],
   "metadata": {
    "collapsed": false
   }
  },
  {
   "cell_type": "code",
   "execution_count": 1,
   "outputs": [
    {
     "name": "stdout",
     "output_type": "stream",
     "text": [
      "Directory ./data already exists\n"
     ]
    }
   ],
   "source": [
    "URL = 'https://archive.ics.uci.edu/ml/machine-learning-databases/horse-colic'\n",
    "TRAIN_DATA_FILE_NAME = 'horse-colic.data'\n",
    "TEST_DATA_FILE_NAME = 'horse-colic.test'\n",
    "NAMES_FILE_NAME = 'horse-colic.names'\n",
    "DATA_DIRECTORY_PATH = './data'\n",
    "COLUMN_NAMES = []\n",
    "\n",
    "import os\n",
    "import re\n",
    "import requests\n",
    "\n",
    "#function downloads 3 files and saves it in given path. function also creates 4th file which contains parsed dataframe-ready column names\n",
    "def download_data(url=URL, train_file_name=TRAIN_DATA_FILE_NAME, test_file_name=TEST_DATA_FILE_NAME,\n",
    "                  names_file_name=NAMES_FILE_NAME, path=DATA_DIRECTORY_PATH):\n",
    "    try:\n",
    "        os.mkdir(path)\n",
    "    except FileExistsError:\n",
    "        print(f\"Directory {path} already exists\")\n",
    "    for filename in [train_file_name, test_file_name, names_file_name]:\n",
    "        download_save_file(url, filename, path=path)\n",
    "    parse_names(names_file_name, f\"{names_file_name}.parsed\")\n",
    "\n",
    "#function downloads single file and saves it in given path\n",
    "def download_save_file(url, filename, path=DATA_DIRECTORY_PATH):\n",
    "    content = requests.get(f\"{url}/{filename}\").content\n",
    "    with open(f\"{path}/{filename}\", 'w') as f:\n",
    "        f.write(bytes.decode(content, 'utf-8').replace(' \\n', '\\n')) #trailing space at the line endings leads to problems\n",
    "\n",
    "#function extracts column names from names file (file also contains column descriptions)\n",
    "def parse_names(filename_in, filename_out, path=DATA_DIRECTORY_PATH):\n",
    "    pattern = '^\\d+:\\s*' #columns are generally listed like '{id}:'\n",
    "    names = []\n",
    "    with open(f\"{path}/{filename_in}\") as f:\n",
    "        for line in [line.strip() for line in f.readlines()]:\n",
    "            if re.match(pattern, line):\n",
    "                names.append(re.sub(pattern, '', line))\n",
    "    last_name = names.pop()\n",
    "    names.extend(['lesion type 1', 'lesion type 2', 'lesion type 3']) #some columns are listed in different way\n",
    "    names.append(last_name)\n",
    "    names[names.index(\"pain - a subjective judgement of the horse's pain level\")] = \"pain\" #this column name is not parsed correctly\n",
    "    with open(f\"{path}/{filename_out}\", \"w\") as f:\n",
    "        f.write(','.join(names))\n",
    "    COLUMN_NAMES.extend(names) #save it in variable for later usage\n",
    "\n",
    "download_data()"
   ],
   "metadata": {
    "collapsed": false,
    "ExecuteTime": {
     "end_time": "2023-05-30T21:38:00.149694600Z",
     "start_time": "2023-05-30T21:37:56.968378400Z"
    }
   }
  },
  {
   "cell_type": "markdown",
   "source": [
    "### Data analysis\n",
    "#### Missing values\n",
    "Many fields with null values - according to description its about 30% of missing values. There are only 7 columns out of 28 with value in every row! Moreover, there are only 6 rows out of 300 in values in every col! Fixing those missing values will be quite challenging.\n",
    "Rows with missing values in outcome column definitely should be dropped, because outcome is the value that we predict."
   ],
   "metadata": {
    "collapsed": false
   }
  },
  {
   "cell_type": "code",
   "execution_count": 2,
   "outputs": [
    {
     "name": "stdout",
     "output_type": "stream",
     "text": [
      "<class 'pandas.core.frame.DataFrame'>\n",
      "RangeIndex: 300 entries, 0 to 299\n",
      "Data columns (total 28 columns):\n",
      " #   Column                       Non-Null Count  Dtype  \n",
      "---  ------                       --------------  -----  \n",
      " 0   surgery?                     299 non-null    float64\n",
      " 1   Age                          300 non-null    int64  \n",
      " 2   Hospital Number              300 non-null    int64  \n",
      " 3   rectal temperature           240 non-null    float64\n",
      " 4   pulse                        276 non-null    float64\n",
      " 5   respiratory rate             242 non-null    float64\n",
      " 6   temperature of extremities   244 non-null    float64\n",
      " 7   peripheral pulse             231 non-null    float64\n",
      " 8   mucous membranes             253 non-null    float64\n",
      " 9   capillary refill time        268 non-null    float64\n",
      " 10  pain                         245 non-null    float64\n",
      " 11  peristalsis                  256 non-null    float64\n",
      " 12  abdominal distension         244 non-null    float64\n",
      " 13  nasogastric tube             196 non-null    float64\n",
      " 14  nasogastric reflux           194 non-null    float64\n",
      " 15  nasogastric reflux PH        53 non-null     float64\n",
      " 16  rectal examination - feces   198 non-null    float64\n",
      " 17  abdomen                      182 non-null    float64\n",
      " 18  packed cell volume           271 non-null    float64\n",
      " 19  total protein                267 non-null    float64\n",
      " 20  abdominocentesis appearance  135 non-null    float64\n",
      " 21  abdomcentesis total protein  102 non-null    float64\n",
      " 22  outcome                      299 non-null    float64\n",
      " 23  surgical lesion?             300 non-null    int64  \n",
      " 24  lesion type 1                300 non-null    object \n",
      " 25  lesion type 2                300 non-null    object \n",
      " 26  lesion type 3                300 non-null    object \n",
      " 27  cp_data                      300 non-null    int64  \n",
      "dtypes: float64(21), int64(4), object(3)\n",
      "memory usage: 65.8+ KB\n",
      "not null rows count: 6\n"
     ]
    }
   ],
   "source": [
    "import pandas as pd\n",
    "\n",
    "#prevent information lose with dtype - lesions are encoded with 0s at beginning\n",
    "dtype = {'lesion type 1': str, 'lesion type 2': str, 'lesion type 3': str }\n",
    "\n",
    "horse_colic_train = pd.read_csv(\"./data/horse-colic.data\", sep=' ', na_values='?', header=None, names=COLUMN_NAMES, dtype=dtype)\n",
    "horse_colic_test = pd.read_csv(\"./data/horse-colic.test\", sep=' ', na_values='?', header=None, names=COLUMN_NAMES, dtype=dtype)\n",
    "horse_colic_train.info() #columns without nulls counted manually\n",
    "print(f\"not null rows count: {horse_colic_train[horse_colic_train.notnull().all(1)].shape[0]}\")"
   ],
   "metadata": {
    "collapsed": false,
    "ExecuteTime": {
     "end_time": "2023-05-30T21:38:00.619668900Z",
     "start_time": "2023-05-30T21:38:00.153055500Z"
    }
   }
  },
  {
   "cell_type": "markdown",
   "source": [
    "#### Column types\n",
    "All 27 columns are numerical. That's true only because every categorical column is encoded. We will of course need to deal with it.\n",
    "Continuous variables are fine as they are (for now let's omit data scaling etc.)\n",
    "Categorical variables with ordinal scale will stay encoded into numbers, however some modifications may be required e.g. when encoding does not represent natural order well.\n",
    "Categorical variables with nominal scale will be decoded back to strings. These variables will be dummy encoded in next steps so using string is better approach - readability will be improved."
   ],
   "metadata": {
    "collapsed": false
   }
  },
  {
   "cell_type": "code",
   "execution_count": 3,
   "outputs": [
    {
     "data": {
      "text/plain": "1.0    180\n2.0    119\nName: surgery?, dtype: int64"
     },
     "execution_count": 3,
     "metadata": {},
     "output_type": "execute_result"
    }
   ],
   "source": [
    "#it can be binary encoded with '0' and '1'\n",
    "horse_colic_train['surgery?'].value_counts()"
   ],
   "metadata": {
    "collapsed": false,
    "ExecuteTime": {
     "end_time": "2023-05-30T21:38:00.631995100Z",
     "start_time": "2023-05-30T21:38:00.618161600Z"
    }
   }
  },
  {
   "cell_type": "code",
   "execution_count": 4,
   "outputs": [
    {
     "data": {
      "text/plain": "1    276\n9     24\nName: Age, dtype: int64"
     },
     "execution_count": 4,
     "metadata": {},
     "output_type": "execute_result"
    }
   ],
   "source": [
    "#2 possible age values - according to description '1' for adult horse (>6 month) and '2' for young horse (<6 months)\n",
    "#however current column values are different. we assume that '9' means that horse is young\n",
    "#it's also better to rename this column to 'adult?' and encode it binary\n",
    "horse_colic_train['Age'].value_counts()"
   ],
   "metadata": {
    "collapsed": false,
    "ExecuteTime": {
     "end_time": "2023-05-30T21:38:00.709467600Z",
     "start_time": "2023-05-30T21:38:00.633992900Z"
    }
   }
  },
  {
   "cell_type": "code",
   "execution_count": 5,
   "outputs": [
    {
     "data": {
      "text/plain": "0       530101\n1       534817\n2       530334\n3      5290409\n4       530255\n        ...   \n295     533886\n296     527702\n297     529386\n298     530612\n299     534618\nName: Hospital Number, Length: 300, dtype: int64"
     },
     "execution_count": 5,
     "metadata": {},
     "output_type": "execute_result"
    }
   ],
   "source": [
    "#this column indicates horse unique identifier, some rows are repeated because one horse may have more than one row in dataset\n",
    "#this column may useful for creating an interesting time series but there is not enough data, so we will probably delete it.\n",
    "horse_colic_train['Hospital Number']"
   ],
   "metadata": {
    "collapsed": false,
    "ExecuteTime": {
     "end_time": "2023-05-30T21:38:00.709973200Z",
     "start_time": "2023-05-30T21:38:00.650537600Z"
    }
   }
  },
  {
   "cell_type": "code",
   "execution_count": 6,
   "outputs": [
    {
     "name": "stdout",
     "output_type": "stream",
     "text": [
      "       rectal temperature       pulse  respiratory rate\n",
      "count          240.000000  276.000000        242.000000\n",
      "mean            38.167917   71.913043         30.417355\n",
      "std              0.732289   28.630557         17.642231\n",
      "min             35.400000   30.000000          8.000000\n",
      "25%             37.800000   48.000000         18.500000\n",
      "50%             38.200000   64.000000         24.500000\n",
      "75%             38.500000   88.000000         36.000000\n",
      "max             40.800000  184.000000         96.000000\n",
      "255    184.0\n",
      "3      164.0\n",
      "55     160.0\n",
      "275    150.0\n",
      "41     150.0\n",
      "Name: pulse, dtype: float64\n",
      "39     96.0\n",
      "106    96.0\n",
      "269    90.0\n",
      "186    90.0\n",
      "244    88.0\n",
      "Name: respiratory rate, dtype: float64\n"
     ]
    }
   ],
   "source": [
    "#next 3 columns (rectal temperature, pulse, respiratory rate) are continuous. They will probably be very relevant because they determine horse base vital signs.\n",
    "#pulse and respiratory rate have max value much bigger than 3rd quartile but as we see there are not single cases so we don't treat it as outliers\n",
    "print(horse_colic_train.iloc[:, 3:6].describe())\n",
    "print(horse_colic_train['pulse'].sort_values(ascending=False).head())\n",
    "print(horse_colic_train['respiratory rate'].sort_values(ascending=False).head())"
   ],
   "metadata": {
    "collapsed": false,
    "ExecuteTime": {
     "end_time": "2023-05-30T21:38:00.958378700Z",
     "start_time": "2023-05-30T21:38:00.893575500Z"
    }
   }
  },
  {
   "cell_type": "code",
   "execution_count": 7,
   "outputs": [
    {
     "data": {
      "text/plain": "3.0    109\n1.0     78\n2.0     30\n4.0     27\nName: temperature of extremities, dtype: int64"
     },
     "execution_count": 7,
     "metadata": {},
     "output_type": "execute_result"
    }
   ],
   "source": [
    "#this column is in ordinal scale, so we will keep it encoded. however we will need to change encoding because\n",
    "#current one doesn't represent natural order (1 = Normal, 2 = Warm, 3 = Cool, 4 = Cold)\n",
    "#in case of regression model we will probably delete this column because it's strongly correlated with rectal temperature\n",
    "horse_colic_train['temperature of extremities'].value_counts()"
   ],
   "metadata": {
    "collapsed": false,
    "ExecuteTime": {
     "end_time": "2023-05-30T21:38:01.398548100Z",
     "start_time": "2023-05-30T21:38:01.383520Z"
    }
   }
  },
  {
   "cell_type": "code",
   "execution_count": 8,
   "outputs": [
    {
     "data": {
      "text/plain": "1.0    115\n3.0    103\n4.0      8\n2.0      5\nName: peripheral pulse, dtype: int64"
     },
     "execution_count": 8,
     "metadata": {},
     "output_type": "execute_result"
    }
   ],
   "source": [
    "#this column encoding should be also fixed, because for now it doesn't represent natural order (1 = normal, 2 = increased, 3 = reduced, 4 = absent)\n",
    "#we will consider removing this column because it's values are missing in 69 rows and it's very subjective\n",
    "horse_colic_train['peripheral pulse'].value_counts()"
   ],
   "metadata": {
    "collapsed": false,
    "ExecuteTime": {
     "end_time": "2023-05-30T21:38:01.887850100Z",
     "start_time": "2023-05-30T21:38:01.864197700Z"
    }
   }
  },
  {
   "cell_type": "code",
   "execution_count": 9,
   "outputs": [
    {
     "data": {
      "text/plain": "1.0    79\n3.0    58\n4.0    41\n2.0    30\n5.0    25\n6.0    20\nName: mucous membranes, dtype: int64"
     },
     "execution_count": 9,
     "metadata": {},
     "output_type": "execute_result"
    }
   ],
   "source": [
    "#this column ordering is also wrong, but this time we only need to swap '5' with '6'\n",
    "#encoding meaning - 1 = normal pink, 2 = bright pink, 3 = pale pink, 4 = pale cyanotic, 5 = bright red / injected, 6 = dark cyanotic\n",
    "#dataset description specifies 4 groups for these 6 values, so we would be able to reduce value count, however we will not do it\n",
    "#because we could lose some information and value count is not critical (ordinal scale = not dummies = no extra dimensions)\n",
    "horse_colic_train['mucous membranes'].value_counts()"
   ],
   "metadata": {
    "collapsed": false,
    "ExecuteTime": {
     "end_time": "2023-05-30T21:38:02.354552100Z",
     "start_time": "2023-05-30T21:38:02.345470600Z"
    }
   }
  },
  {
   "cell_type": "code",
   "execution_count": 10,
   "outputs": [
    {
     "name": "stdout",
     "output_type": "stream",
     "text": [
      "1.0    188\n",
      "2.0     78\n",
      "3.0      2\n",
      "Name: capillary refill time, dtype: int64\n",
      "1.0    188\n",
      "2.0     78\n",
      "Name: capillary refill time, dtype: int64\n"
     ]
    }
   ],
   "source": [
    "#this column can be encoded binary. according to dataset description there are only 2 possible values - '1' and '2', so we have to delete values from rows with '3' (meaningless)\n",
    "#The Capillary refill test (CRT) is a rapid test used for assessing the blood flow through peripheral tissues.\n",
    "print(horse_colic_train['capillary refill time'].value_counts())\n",
    "\n",
    "horse_colic_train.loc[horse_colic_train['capillary refill time'] == 3, 'capillary refill time'] = None\n",
    "print(horse_colic_train['capillary refill time'].value_counts())"
   ],
   "metadata": {
    "collapsed": false,
    "ExecuteTime": {
     "end_time": "2023-05-30T21:38:02.865436400Z",
     "start_time": "2023-05-30T21:38:02.847803400Z"
    }
   }
  },
  {
   "cell_type": "code",
   "execution_count": 11,
   "outputs": [
    {
     "data": {
      "text/plain": "3.0    67\n2.0    59\n5.0    42\n4.0    39\n1.0    38\nName: pain, dtype: int64"
     },
     "execution_count": 11,
     "metadata": {},
     "output_type": "execute_result"
    }
   ],
   "source": [
    "#this column data is in ordinal scale but according to dataset description we should not treat this column as a ordered variable.\n",
    "# we will use dummy variables but before that we will decode it back to text representation (improved readability)\n",
    "horse_colic_train['pain'].value_counts()"
   ],
   "metadata": {
    "collapsed": false,
    "ExecuteTime": {
     "end_time": "2023-05-30T21:38:03.488715800Z",
     "start_time": "2023-05-30T21:38:03.478199700Z"
    }
   }
  },
  {
   "cell_type": "code",
   "execution_count": null,
   "outputs": [],
   "source": [
    "#Peristalsis is the automatic wave-like movement of the muscles that line gastrointestinal tract.\n",
    "#this column will be treated like a nominal variable because it's values meaning is not clear\n",
    "horse_colic_train['peristalsis'].value_counts()"
   ],
   "metadata": {
    "collapsed": false
   }
  },
  {
   "cell_type": "code",
   "execution_count": null,
   "outputs": [],
   "source": [
    "#this column is a ordinal variable and finally its encoded correctly (1 = none, 2 = slight, 3 = moderate, 4 = severe) - however we could subtract one from each value to start encoding from 0\n",
    "#moreover this variable is marked as an IMPORTANT parameter in dataset description\n",
    "horse_colic_train['abdominal distension'].value_counts()"
   ],
   "metadata": {
    "collapsed": false
   }
  },
  {
   "cell_type": "code",
   "execution_count": null,
   "outputs": [],
   "source": [
    "#according to dataset description this column refers to any gas coming out of the tube\n",
    "#encoding is correct with a good order (1 = none, 2 = slight, 3 = significant)\n",
    "horse_colic_train['nasogastric tube'].value_counts()"
   ],
   "metadata": {
    "collapsed": false
   }
  },
  {
   "cell_type": "code",
   "execution_count": null,
   "outputs": [],
   "source": [
    "#column order is not correct (1 = none, 2 = > 1 liter, 3 = < 1 liter)\n",
    "horse_colic_train['nasogastric reflux'].value_counts()"
   ],
   "metadata": {
    "collapsed": false
   }
  },
  {
   "cell_type": "code",
   "execution_count": null,
   "outputs": [],
   "source": [
    "#this column has values in only 53 rows! we will probably delete it\n",
    "horse_colic_train['nasogastric reflux PH'].describe()"
   ],
   "metadata": {
    "collapsed": false
   }
  },
  {
   "cell_type": "code",
   "execution_count": null,
   "outputs": [],
   "source": [
    "#these columns will be encoded with dummy variables\n",
    "print(horse_colic_train['rectal examination - feces'].value_counts())\n",
    "print(horse_colic_train['abdomen'].value_counts())"
   ],
   "metadata": {
    "collapsed": false
   }
  },
  {
   "cell_type": "code",
   "execution_count": null,
   "outputs": [],
   "source": [
    "#this column is a continuous variable, values look good - probably no outliers\n",
    "print(horse_colic_train['packed cell volume'].describe())\n",
    "print(horse_colic_train['packed cell volume'].sort_values(ascending=False).head())"
   ],
   "metadata": {
    "collapsed": false
   }
  },
  {
   "cell_type": "code",
   "execution_count": null,
   "outputs": [],
   "source": [
    "#this column is a continuous variable, values also look good - probably no outliers\n",
    "print(horse_colic_train['total protein'].describe())\n",
    "print(horse_colic_train['total protein'].sort_values(ascending=False).head())"
   ],
   "metadata": {
    "collapsed": false
   }
  },
  {
   "cell_type": "code",
   "execution_count": null,
   "outputs": [],
   "source": [
    "#we will remove these columns because they have many missing values\n",
    "print(horse_colic_train['abdominocentesis appearance'].value_counts())\n",
    "print(horse_colic_train['abdomcentesis total protein'].describe())"
   ],
   "metadata": {
    "collapsed": false
   }
  },
  {
   "cell_type": "code",
   "execution_count": null,
   "outputs": [],
   "source": [
    "#we want to predict the value of this column - its missing in one row in training set so this row will be removed\n",
    "horse_colic_train['outcome'].value_counts()"
   ],
   "metadata": {
    "collapsed": false
   }
  },
  {
   "cell_type": "code",
   "execution_count": 12,
   "outputs": [
    {
     "name": "stdout",
     "output_type": "stream",
     "text": [
      "1    191\n",
      "2    109\n",
      "Name: surgical lesion?, dtype: int64\n"
     ]
    }
   ],
   "source": [
    "#this column indicates whether the horse had a lesion. it will be removed because we will be more interested in total number of lesion - see below\n",
    "print(horse_colic_train['surgical lesion?'].value_counts())"
   ],
   "metadata": {
    "collapsed": false,
    "ExecuteTime": {
     "end_time": "2023-05-30T21:38:08.178439500Z",
     "start_time": "2023-05-30T21:38:08.165917300Z"
    }
   }
  },
  {
   "cell_type": "code",
   "execution_count": 19,
   "outputs": [
    {
     "name": "stdout",
     "output_type": "stream",
     "text": [
      "56 horse(s) with 0 lesion(s)\n",
      "237 horse(s) with 1 lesion(s)\n",
      "6 horse(s) with 2 lesion(s)\n",
      "1 horse(s) with 3 lesion(s)\n",
      "-------------------------\n",
      "total=300\n"
     ]
    }
   ],
   "source": [
    "#3 next columns indicates horse's lesions. there are max 3 lesions listed in dataset but horse can have 0, 1, 2 or 3 lesions. statistics are computed and showed below\n",
    "_lesions = horse_colic_train.loc[:, ['lesion type 1', 'lesion type 2', 'lesion type 3']]\n",
    "_lesions_counts = [\n",
    "    _lesions[_lesions.iloc[:, 0] == '00000'].count()[0],\n",
    "    _lesions[(_lesions.iloc[:,0] != '00000') & (_lesions.iloc[:,1] == '00000')].count()[0],\n",
    "    _lesions[(_lesions.iloc[:,0] != '00000') & (_lesions.iloc[:,1] != '00000') & (_lesions.iloc[:,2] == '00000')].count()[0],\n",
    "    _lesions[(_lesions.iloc[:,0] != '00000') & (_lesions.iloc[:,1] != '00000') & (_lesions.iloc[:,2] != '00000')].count()[0]\n",
    "]\n",
    "\n",
    "for i, count in zip(range(4), _lesions_counts):\\\n",
    "    print(f\"{count} horse(s) with {i} lesion(s)\")\n",
    "print(f\"-------------------------\\ntotal={sum(_lesions_counts)}\")"
   ],
   "metadata": {
    "collapsed": false,
    "ExecuteTime": {
     "end_time": "2023-05-30T21:44:54.735808500Z",
     "start_time": "2023-05-30T21:44:54.725299800Z"
    }
   }
  },
  {
   "cell_type": "code",
   "execution_count": 20,
   "outputs": [
    {
     "data": {
      "text/plain": "  lesion type 1 lesion type 2 lesion type 3\n0         11300         00000         00000\n1         02208         00000         00000\n2         00000         00000         00000\n3         02208         00000         00000\n4         04300         00000         00000",
      "text/html": "<div>\n<style scoped>\n    .dataframe tbody tr th:only-of-type {\n        vertical-align: middle;\n    }\n\n    .dataframe tbody tr th {\n        vertical-align: top;\n    }\n\n    .dataframe thead th {\n        text-align: right;\n    }\n</style>\n<table border=\"1\" class=\"dataframe\">\n  <thead>\n    <tr style=\"text-align: right;\">\n      <th></th>\n      <th>lesion type 1</th>\n      <th>lesion type 2</th>\n      <th>lesion type 3</th>\n    </tr>\n  </thead>\n  <tbody>\n    <tr>\n      <th>0</th>\n      <td>11300</td>\n      <td>00000</td>\n      <td>00000</td>\n    </tr>\n    <tr>\n      <th>1</th>\n      <td>02208</td>\n      <td>00000</td>\n      <td>00000</td>\n    </tr>\n    <tr>\n      <th>2</th>\n      <td>00000</td>\n      <td>00000</td>\n      <td>00000</td>\n    </tr>\n    <tr>\n      <th>3</th>\n      <td>02208</td>\n      <td>00000</td>\n      <td>00000</td>\n    </tr>\n    <tr>\n      <th>4</th>\n      <td>04300</td>\n      <td>00000</td>\n      <td>00000</td>\n    </tr>\n  </tbody>\n</table>\n</div>"
     },
     "execution_count": 20,
     "metadata": {},
     "output_type": "execute_result"
    }
   ],
   "source": [
    "#moreover each lesion is composed of 4 parts: site of lesion (11 possible values),\n",
    "# type (4 possible values), subtype (3 possible values) and \"specific code\" (11 possible values).\n",
    "#this in total gives (11 + 4 + 3 + 11) * 3 = 87 dummy variables!\n",
    "#its definitely too much so our approach will use only one lesion (the newest one) details and total number of lesions.\n",
    "_lesions.head()"
   ],
   "metadata": {
    "collapsed": false,
    "ExecuteTime": {
     "end_time": "2023-05-30T21:45:15.338154600Z",
     "start_time": "2023-05-30T21:45:15.330947300Z"
    }
   }
  },
  {
   "cell_type": "code",
   "execution_count": 26,
   "outputs": [
    {
     "name": "stdout",
     "output_type": "stream",
     "text": [
      "5    300\n",
      "Name: lesion type 1, dtype: int64\n",
      "5    300\n",
      "Name: lesion type 2, dtype: int64\n",
      "5    299\n",
      "6      1\n",
      "Name: lesion type 3, dtype: int64\n"
     ]
    }
   ],
   "source": [
    "#lesion parts are encoded with positional numbers but its length is not fixed. 1st part is can have 1 or 2 digits (range from 00 to 11), 2nd and 3rd are fixed to 1 digit, 4th part can have 1 or 2 digits (range from 0 to 10).\n",
    "#As we see we practically always have 5 digits. In this case if 2 first digits are in 1t part range then we will\n",
    "#always interpret them as 1st part. Else we will interpret 2 last digits as a 4th part.\n",
    "print(_lesions['lesion type 1'].apply(lambda x: len(x)).value_counts())\n",
    "print(_lesions['lesion type 2'].apply(lambda x: len(x)).value_counts())\n",
    "print(_lesions['lesion type 3'].apply(lambda x: len(x)).value_counts())"
   ],
   "metadata": {
    "collapsed": false,
    "ExecuteTime": {
     "end_time": "2023-05-30T21:48:49.975611400Z",
     "start_time": "2023-05-30T21:48:49.927518900Z"
    }
   }
  },
  {
   "cell_type": "code",
   "execution_count": null,
   "outputs": [],
   "source": [
    "#meaning of this column is not clear, so it will be deleted\n",
    "horse_colic_train['cp_data'].value_counts()"
   ],
   "metadata": {
    "collapsed": false
   }
  },
  {
   "cell_type": "markdown",
   "source": [
    "#### Test set quick inspection\n",
    "Now we will look at test set. We will check if every column with no NA values in train set is also filled in test set. If not and we don't handle this now it could lead to problems in model evaluation. We won't touch test set! If its true we will adjust our pipe in next section."
   ],
   "metadata": {
    "collapsed": false
   }
  },
  {
   "cell_type": "code",
   "execution_count": null,
   "outputs": [],
   "source": [
    "horse_colic_test.info()"
   ],
   "metadata": {
    "collapsed": false
   }
  },
  {
   "cell_type": "code",
   "execution_count": null,
   "outputs": [],
   "source": [
    "#we had invalid value in this column in train set but in test set its fine\n",
    "horse_colic_test['capillary refill time'].value_counts()"
   ],
   "metadata": {
    "collapsed": false
   }
  },
  {
   "cell_type": "code",
   "execution_count": null,
   "outputs": [],
   "source": [
    "#columns with na in test AND columns with NOT na in train (we don't care about opposite direction)\n",
    "horse_colic_test.isna().any() & ~horse_colic_train.isna().any()\n",
    "#all columns with False so our test set if fine (we will handle NA in outcome column later)"
   ],
   "metadata": {
    "collapsed": false
   }
  },
  {
   "cell_type": "markdown",
   "source": [
    "### Data pre-processing\n",
    "Now, based on last section, we will prepare our data for machine learning algorithms. We will use sklearn Pipeline so this steps will be reusable (and used for test set in evaluation phase).\n",
    "We start with columns dropping. Then we will drop rows for which columns have max one missing value - in our example in column 'surgery?' and 'outcome'."
   ],
   "metadata": {
    "collapsed": false
   }
  },
  {
   "cell_type": "code",
   "execution_count": 135,
   "outputs": [
    {
     "name": "stdout",
     "output_type": "stream",
     "text": [
      "<class 'pandas.core.frame.DataFrame'>\n",
      "RangeIndex: 300 entries, 0 to 299\n",
      "Data columns (total 20 columns):\n",
      " #   Column                      Non-Null Count  Dtype  \n",
      "---  ------                      --------------  -----  \n",
      " 0   surgery?                    299 non-null    float64\n",
      " 1   Age                         300 non-null    int64  \n",
      " 2   rectal temperature          240 non-null    float64\n",
      " 3   pulse                       276 non-null    float64\n",
      " 4   respiratory rate            242 non-null    float64\n",
      " 5   mucous membranes            253 non-null    float64\n",
      " 6   capillary refill time       266 non-null    float64\n",
      " 7   pain                        245 non-null    float64\n",
      " 8   peristalsis                 256 non-null    float64\n",
      " 9   abdominal distension        244 non-null    float64\n",
      " 10  nasogastric tube            196 non-null    float64\n",
      " 11  nasogastric reflux          194 non-null    float64\n",
      " 12  rectal examination - feces  198 non-null    float64\n",
      " 13  abdomen                     182 non-null    float64\n",
      " 14  packed cell volume          271 non-null    float64\n",
      " 15  total protein               267 non-null    float64\n",
      " 16  outcome                     299 non-null    float64\n",
      " 17  lesion type 1               300 non-null    object \n",
      " 18  lesion type 2               300 non-null    object \n",
      " 19  lesion type 3               300 non-null    object \n",
      "dtypes: float64(16), int64(1), object(3)\n",
      "memory usage: 47.0+ KB\n"
     ]
    }
   ],
   "source": [
    "#https://stackoverflow.com/questions/68402691/adding-dropping-column-instance-into-a-pipeline\n",
    "class ColumnDropperTransformer:\n",
    "    def __init__(self,columns):\n",
    "        self.columns=columns\n",
    "\n",
    "    def transform(self,X,y=None):\n",
    "        return X.drop(self.columns,axis=1)\n",
    "\n",
    "    def fit(self, X, y=None):\n",
    "        return self\n",
    "\n",
    "columnDropper = ColumnDropperTransformer(['Hospital Number','temperature of extremities',\n",
    "                                          'peripheral pulse', 'nasogastric reflux PH',\n",
    "                                          'abdominocentesis appearance', 'abdomcentesis total protein',\n",
    "                                          'surgical lesion?', 'cp_data'\n",
    "                                          ])\n",
    "\n",
    "horse_colic_train_cp = horse_colic_train.copy()\n",
    "horse_colic_train_cp = columnDropper.transform(horse_colic_train_cp)\n",
    "horse_colic_train_cp.info()"
   ],
   "metadata": {
    "collapsed": false,
    "ExecuteTime": {
     "end_time": "2023-05-30T23:50:18.500210Z",
     "start_time": "2023-05-30T23:50:18.476644900Z"
    }
   }
  },
  {
   "cell_type": "code",
   "execution_count": 136,
   "outputs": [
    {
     "name": "stdout",
     "output_type": "stream",
     "text": [
      "<class 'pandas.core.frame.DataFrame'>\n",
      "Int64Index: 299 entries, 0 to 299\n",
      "Data columns (total 20 columns):\n",
      " #   Column                      Non-Null Count  Dtype  \n",
      "---  ------                      --------------  -----  \n",
      " 0   surgery?                    299 non-null    float64\n",
      " 1   Age                         299 non-null    int64  \n",
      " 2   rectal temperature          239 non-null    float64\n",
      " 3   pulse                       275 non-null    float64\n",
      " 4   respiratory rate            241 non-null    float64\n",
      " 5   mucous membranes            252 non-null    float64\n",
      " 6   capillary refill time       265 non-null    float64\n",
      " 7   pain                        244 non-null    float64\n",
      " 8   peristalsis                 255 non-null    float64\n",
      " 9   abdominal distension        243 non-null    float64\n",
      " 10  nasogastric tube            195 non-null    float64\n",
      " 11  nasogastric reflux          193 non-null    float64\n",
      " 12  rectal examination - feces  197 non-null    float64\n",
      " 13  abdomen                     181 non-null    float64\n",
      " 14  packed cell volume          270 non-null    float64\n",
      " 15  total protein               266 non-null    float64\n",
      " 16  outcome                     299 non-null    float64\n",
      " 17  lesion type 1               299 non-null    object \n",
      " 18  lesion type 2               299 non-null    object \n",
      " 19  lesion type 3               299 non-null    object \n",
      "dtypes: float64(16), int64(1), object(3)\n",
      "memory usage: 49.1+ KB\n"
     ]
    }
   ],
   "source": [
    "class RowDropperTransformer:\n",
    "    def __init__(self,columns):\n",
    "        self.columns=columns\n",
    "\n",
    "    def transform(self,X,y=None):\n",
    "        return X.dropna(subset = self.columns)\n",
    "\n",
    "    def fit(self, X, y=None):\n",
    "        return self\n",
    "\n",
    "rowDropper = RowDropperTransformer(['surgery?', 'outcome'])\n",
    "horse_colic_train_cp = rowDropper.transform(horse_colic_train_cp)\n",
    "horse_colic_train_cp.info()"
   ],
   "metadata": {
    "collapsed": false,
    "ExecuteTime": {
     "end_time": "2023-05-30T23:50:18.682620400Z",
     "start_time": "2023-05-30T23:50:18.650902Z"
    }
   }
  },
  {
   "cell_type": "code",
   "execution_count": 137,
   "outputs": [
    {
     "data": {
      "text/plain": "   surgery?  Age  rectal temperature  pulse  respiratory rate  \\\n0       2.0    1                38.5   66.0              28.0   \n1       1.0    1                39.2   88.0              20.0   \n2       2.0    1                38.3   40.0              24.0   \n3       1.0    9                39.1  164.0              84.0   \n4       2.0    1                37.3  104.0              35.0   \n\n   mucous membranes  capillary refill time  pain  peristalsis  \\\n0               NaN                    2.0   5.0          4.0   \n1               4.0                    1.0   3.0          4.0   \n2               3.0                    1.0   3.0          3.0   \n3               6.0                    2.0   2.0          4.0   \n4               6.0                    2.0   NaN          NaN   \n\n   abdominal distension  nasogastric tube  nasogastric reflux  \\\n0                   4.0               NaN                 NaN   \n1                   2.0               NaN                 NaN   \n2                   1.0               NaN                 NaN   \n3                   4.0               1.0                 2.0   \n4                   NaN               NaN                 NaN   \n\n   rectal examination - feces  abdomen  packed cell volume  total protein  \\\n0                         3.0      5.0                45.0            8.4   \n1                         4.0      2.0                50.0           85.0   \n2                         1.0      1.0                33.0            6.7   \n3                         3.0      NaN                48.0            7.2   \n4                         NaN      NaN                74.0            7.4   \n\n   outcome lesion type 1 lesion type 2 lesion type 3  \n0      2.0         11300         00000         00000  \n1      3.0         02208         00000         00000  \n2      1.0         00000         00000         00000  \n3      2.0         02208         00000         00000  \n4      2.0         04300         00000         00000  ",
      "text/html": "<div>\n<style scoped>\n    .dataframe tbody tr th:only-of-type {\n        vertical-align: middle;\n    }\n\n    .dataframe tbody tr th {\n        vertical-align: top;\n    }\n\n    .dataframe thead th {\n        text-align: right;\n    }\n</style>\n<table border=\"1\" class=\"dataframe\">\n  <thead>\n    <tr style=\"text-align: right;\">\n      <th></th>\n      <th>surgery?</th>\n      <th>Age</th>\n      <th>rectal temperature</th>\n      <th>pulse</th>\n      <th>respiratory rate</th>\n      <th>mucous membranes</th>\n      <th>capillary refill time</th>\n      <th>pain</th>\n      <th>peristalsis</th>\n      <th>abdominal distension</th>\n      <th>nasogastric tube</th>\n      <th>nasogastric reflux</th>\n      <th>rectal examination - feces</th>\n      <th>abdomen</th>\n      <th>packed cell volume</th>\n      <th>total protein</th>\n      <th>outcome</th>\n      <th>lesion type 1</th>\n      <th>lesion type 2</th>\n      <th>lesion type 3</th>\n    </tr>\n  </thead>\n  <tbody>\n    <tr>\n      <th>0</th>\n      <td>2.0</td>\n      <td>1</td>\n      <td>38.5</td>\n      <td>66.0</td>\n      <td>28.0</td>\n      <td>NaN</td>\n      <td>2.0</td>\n      <td>5.0</td>\n      <td>4.0</td>\n      <td>4.0</td>\n      <td>NaN</td>\n      <td>NaN</td>\n      <td>3.0</td>\n      <td>5.0</td>\n      <td>45.0</td>\n      <td>8.4</td>\n      <td>2.0</td>\n      <td>11300</td>\n      <td>00000</td>\n      <td>00000</td>\n    </tr>\n    <tr>\n      <th>1</th>\n      <td>1.0</td>\n      <td>1</td>\n      <td>39.2</td>\n      <td>88.0</td>\n      <td>20.0</td>\n      <td>4.0</td>\n      <td>1.0</td>\n      <td>3.0</td>\n      <td>4.0</td>\n      <td>2.0</td>\n      <td>NaN</td>\n      <td>NaN</td>\n      <td>4.0</td>\n      <td>2.0</td>\n      <td>50.0</td>\n      <td>85.0</td>\n      <td>3.0</td>\n      <td>02208</td>\n      <td>00000</td>\n      <td>00000</td>\n    </tr>\n    <tr>\n      <th>2</th>\n      <td>2.0</td>\n      <td>1</td>\n      <td>38.3</td>\n      <td>40.0</td>\n      <td>24.0</td>\n      <td>3.0</td>\n      <td>1.0</td>\n      <td>3.0</td>\n      <td>3.0</td>\n      <td>1.0</td>\n      <td>NaN</td>\n      <td>NaN</td>\n      <td>1.0</td>\n      <td>1.0</td>\n      <td>33.0</td>\n      <td>6.7</td>\n      <td>1.0</td>\n      <td>00000</td>\n      <td>00000</td>\n      <td>00000</td>\n    </tr>\n    <tr>\n      <th>3</th>\n      <td>1.0</td>\n      <td>9</td>\n      <td>39.1</td>\n      <td>164.0</td>\n      <td>84.0</td>\n      <td>6.0</td>\n      <td>2.0</td>\n      <td>2.0</td>\n      <td>4.0</td>\n      <td>4.0</td>\n      <td>1.0</td>\n      <td>2.0</td>\n      <td>3.0</td>\n      <td>NaN</td>\n      <td>48.0</td>\n      <td>7.2</td>\n      <td>2.0</td>\n      <td>02208</td>\n      <td>00000</td>\n      <td>00000</td>\n    </tr>\n    <tr>\n      <th>4</th>\n      <td>2.0</td>\n      <td>1</td>\n      <td>37.3</td>\n      <td>104.0</td>\n      <td>35.0</td>\n      <td>6.0</td>\n      <td>2.0</td>\n      <td>NaN</td>\n      <td>NaN</td>\n      <td>NaN</td>\n      <td>NaN</td>\n      <td>NaN</td>\n      <td>NaN</td>\n      <td>NaN</td>\n      <td>74.0</td>\n      <td>7.4</td>\n      <td>2.0</td>\n      <td>04300</td>\n      <td>00000</td>\n      <td>00000</td>\n    </tr>\n  </tbody>\n</table>\n</div>"
     },
     "execution_count": 137,
     "metadata": {},
     "output_type": "execute_result"
    }
   ],
   "source": [
    "horse_colic_train_cp.head()"
   ],
   "metadata": {
    "collapsed": false,
    "ExecuteTime": {
     "end_time": "2023-05-30T23:50:18.871568600Z",
     "start_time": "2023-05-30T23:50:18.834346700Z"
    }
   }
  },
  {
   "cell_type": "code",
   "execution_count": 138,
   "outputs": [
    {
     "data": {
      "text/plain": "  rectal temperature  pulse respiratory rate packed cell volume total protein  \\\n0               38.5   66.0             28.0               45.0           8.4   \n1               39.2   88.0             20.0               50.0          85.0   \n2               38.3   40.0             24.0               33.0           6.7   \n3               39.1  164.0             84.0               48.0           7.2   \n4               37.3  104.0             35.0               74.0           7.4   \n\n  mucous membranes capillary refill time pain peristalsis nasogastric tube  \\\n0              1.0                   2.0  5.0         4.0              2.0   \n1              4.0                   1.0  3.0         4.0              2.0   \n2              3.0                   1.0  3.0         3.0              2.0   \n3              6.0                   2.0  2.0         4.0              1.0   \n4              6.0                   2.0  3.0         3.0              2.0   \n\n  nasogastric reflux rectal examination - feces abdomen abdominal distension  \\\n0                1.0                        3.0     5.0                  4.0   \n1                1.0                        4.0     2.0                  2.0   \n2                1.0                        1.0     1.0                  1.0   \n3                2.0                        3.0     5.0                  4.0   \n4                1.0                        4.0     5.0             2.271605   \n\n  surgery? Age outcome lesion type 1 lesion type 2 lesion type 3  \n0      2.0   1     2.0         11300         00000         00000  \n1      1.0   1     3.0         02208         00000         00000  \n2      2.0   1     1.0         00000         00000         00000  \n3      1.0   9     2.0         02208         00000         00000  \n4      2.0   1     2.0         04300         00000         00000  ",
      "text/html": "<div>\n<style scoped>\n    .dataframe tbody tr th:only-of-type {\n        vertical-align: middle;\n    }\n\n    .dataframe tbody tr th {\n        vertical-align: top;\n    }\n\n    .dataframe thead th {\n        text-align: right;\n    }\n</style>\n<table border=\"1\" class=\"dataframe\">\n  <thead>\n    <tr style=\"text-align: right;\">\n      <th></th>\n      <th>rectal temperature</th>\n      <th>pulse</th>\n      <th>respiratory rate</th>\n      <th>packed cell volume</th>\n      <th>total protein</th>\n      <th>mucous membranes</th>\n      <th>capillary refill time</th>\n      <th>pain</th>\n      <th>peristalsis</th>\n      <th>nasogastric tube</th>\n      <th>nasogastric reflux</th>\n      <th>rectal examination - feces</th>\n      <th>abdomen</th>\n      <th>abdominal distension</th>\n      <th>surgery?</th>\n      <th>Age</th>\n      <th>outcome</th>\n      <th>lesion type 1</th>\n      <th>lesion type 2</th>\n      <th>lesion type 3</th>\n    </tr>\n  </thead>\n  <tbody>\n    <tr>\n      <th>0</th>\n      <td>38.5</td>\n      <td>66.0</td>\n      <td>28.0</td>\n      <td>45.0</td>\n      <td>8.4</td>\n      <td>1.0</td>\n      <td>2.0</td>\n      <td>5.0</td>\n      <td>4.0</td>\n      <td>2.0</td>\n      <td>1.0</td>\n      <td>3.0</td>\n      <td>5.0</td>\n      <td>4.0</td>\n      <td>2.0</td>\n      <td>1</td>\n      <td>2.0</td>\n      <td>11300</td>\n      <td>00000</td>\n      <td>00000</td>\n    </tr>\n    <tr>\n      <th>1</th>\n      <td>39.2</td>\n      <td>88.0</td>\n      <td>20.0</td>\n      <td>50.0</td>\n      <td>85.0</td>\n      <td>4.0</td>\n      <td>1.0</td>\n      <td>3.0</td>\n      <td>4.0</td>\n      <td>2.0</td>\n      <td>1.0</td>\n      <td>4.0</td>\n      <td>2.0</td>\n      <td>2.0</td>\n      <td>1.0</td>\n      <td>1</td>\n      <td>3.0</td>\n      <td>02208</td>\n      <td>00000</td>\n      <td>00000</td>\n    </tr>\n    <tr>\n      <th>2</th>\n      <td>38.3</td>\n      <td>40.0</td>\n      <td>24.0</td>\n      <td>33.0</td>\n      <td>6.7</td>\n      <td>3.0</td>\n      <td>1.0</td>\n      <td>3.0</td>\n      <td>3.0</td>\n      <td>2.0</td>\n      <td>1.0</td>\n      <td>1.0</td>\n      <td>1.0</td>\n      <td>1.0</td>\n      <td>2.0</td>\n      <td>1</td>\n      <td>1.0</td>\n      <td>00000</td>\n      <td>00000</td>\n      <td>00000</td>\n    </tr>\n    <tr>\n      <th>3</th>\n      <td>39.1</td>\n      <td>164.0</td>\n      <td>84.0</td>\n      <td>48.0</td>\n      <td>7.2</td>\n      <td>6.0</td>\n      <td>2.0</td>\n      <td>2.0</td>\n      <td>4.0</td>\n      <td>1.0</td>\n      <td>2.0</td>\n      <td>3.0</td>\n      <td>5.0</td>\n      <td>4.0</td>\n      <td>1.0</td>\n      <td>9</td>\n      <td>2.0</td>\n      <td>02208</td>\n      <td>00000</td>\n      <td>00000</td>\n    </tr>\n    <tr>\n      <th>4</th>\n      <td>37.3</td>\n      <td>104.0</td>\n      <td>35.0</td>\n      <td>74.0</td>\n      <td>7.4</td>\n      <td>6.0</td>\n      <td>2.0</td>\n      <td>3.0</td>\n      <td>3.0</td>\n      <td>2.0</td>\n      <td>1.0</td>\n      <td>4.0</td>\n      <td>5.0</td>\n      <td>2.271605</td>\n      <td>2.0</td>\n      <td>1</td>\n      <td>2.0</td>\n      <td>04300</td>\n      <td>00000</td>\n      <td>00000</td>\n    </tr>\n  </tbody>\n</table>\n</div>"
     },
     "execution_count": 138,
     "metadata": {},
     "output_type": "execute_result"
    }
   ],
   "source": [
    "from sklearn.compose import ColumnTransformer\n",
    "from sklearn.impute import SimpleImputer, KNNImputer\n",
    "\n",
    "#these columns will be imputed with a mean\n",
    "continuousColumns = ['rectal temperature', 'pulse', 'respiratory rate', 'packed cell volume', 'total protein', ]\n",
    "#these columns will be imputed with a median\n",
    "discreteColumns = ['mucous membranes', 'capillary refill time', 'pain', 'peristalsis', 'nasogastric tube', 'nasogastric reflux', 'rectal examination - feces', 'abdomen', ]\n",
    "#this column will be imputed with a KNN because its marked as an important parameter\n",
    "knnColumns = ['abdominal distension']\n",
    "\n",
    "fillNaTransformer = ColumnTransformer([\n",
    "    ('fillWithMean', SimpleImputer(strategy='mean'), continuousColumns),\n",
    "    ('fillWithMedian', SimpleImputer(strategy=\"most_frequent\"), discreteColumns),\n",
    "    ('fillWithKnn', KNNImputer(n_neighbors=3), knnColumns)\n",
    "], remainder=\"passthrough\")\n",
    "\n",
    "result = fillNaTransformer.fit_transform(horse_colic_train_cp)\n",
    "column_names = [name[name.index('__')+2:] for name in fillNaTransformer.get_feature_names_out()]\n",
    "\n",
    "horse_colic_train_cp = pd.DataFrame(result, columns = column_names)\n",
    "horse_colic_train_cp.head()"
   ],
   "metadata": {
    "collapsed": false,
    "ExecuteTime": {
     "end_time": "2023-05-30T23:50:19.032389300Z",
     "start_time": "2023-05-30T23:50:19.000800200Z"
    }
   }
  },
  {
   "cell_type": "code",
   "execution_count": 139,
   "outputs": [],
   "source": [
    "class DiscreteEncodingTransformer:\n",
    "    def __init__(self, column, mapping, target_name=None, target_type='uint8'):\n",
    "        self.column = column\n",
    "        self.mapping = mapping\n",
    "        self.target_name = target_name\n",
    "        self.target_type = target_type\n",
    "\n",
    "    def transform(self,X,y=None):\n",
    "        X[self.column] = X[self.column].map(self.mapping).fillna(X[self.column])\n",
    "        if self.target_type:\n",
    "            X[self.column] = X[self.column].astype({self.column: self.target_type})\n",
    "        if self.target_name:\n",
    "            X = X.rename(columns={self.column: self.target_name})\n",
    "        return X\n",
    "\n",
    "    def fit(self, X, y=None):\n",
    "        return self\n",
    "\n",
    "    def get_params(self, deep=True):\n",
    "        return {\"column\": self.column, \"mapping\": self.mapping,\n",
    "                \"target_name\": self.target_name, \"target_type\": self.target_type}"
   ],
   "metadata": {
    "collapsed": false,
    "ExecuteTime": {
     "end_time": "2023-05-30T23:50:19.205710Z",
     "start_time": "2023-05-30T23:50:19.183141900Z"
    }
   }
  },
  {
   "cell_type": "code",
   "execution_count": 140,
   "outputs": [
    {
     "name": "stdout",
     "output_type": "stream",
     "text": [
      "<class 'pandas.core.frame.DataFrame'>\n",
      "RangeIndex: 299 entries, 0 to 298\n",
      "Data columns (total 20 columns):\n",
      " #   Column                        Non-Null Count  Dtype   \n",
      "---  ------                        --------------  -----   \n",
      " 0   rectal temperature            299 non-null    object  \n",
      " 1   pulse                         299 non-null    object  \n",
      " 2   respiratory rate              299 non-null    object  \n",
      " 3   packed cell volume            299 non-null    object  \n",
      " 4   total protein                 299 non-null    object  \n",
      " 5   mucous membranes              299 non-null    uint8   \n",
      " 6   capillary refill time >= 3s?  299 non-null    uint8   \n",
      " 7   pain                          299 non-null    category\n",
      " 8   peristalsis                   299 non-null    category\n",
      " 9   nasogastric tube              299 non-null    uint8   \n",
      " 10  nasogastric reflux            299 non-null    uint8   \n",
      " 11  rectal examination - feces    299 non-null    category\n",
      " 12  abdomen                       299 non-null    category\n",
      " 13  abdominal distension          299 non-null    uint8   \n",
      " 14  surgery?                      299 non-null    uint8   \n",
      " 15  adult?                        299 non-null    uint8   \n",
      " 16  outcome                       299 non-null    category\n",
      " 17  lesion type 1                 299 non-null    object  \n",
      " 18  lesion type 2                 299 non-null    object  \n",
      " 19  lesion type 3                 299 non-null    object  \n",
      "dtypes: category(5), object(8), uint8(7)\n",
      "memory usage: 23.3+ KB\n"
     ]
    }
   ],
   "source": [
    "from sklearn.pipeline import Pipeline\n",
    "\n",
    "discreteEncodingTransformersPipe = Pipeline([\n",
    "    ('det_1', DiscreteEncodingTransformer('surgery?', {2: 0})),\n",
    "    ('det_2', DiscreteEncodingTransformer('Age', {9:0}, target_name='adult?')),\n",
    "    ('det_3', DiscreteEncodingTransformer('mucous membranes', {5: 6, 6: 5})),\n",
    "    ('det_4', DiscreteEncodingTransformer('mucous membranes', lambda x: x-1)),\n",
    "    ('det_5', DiscreteEncodingTransformer('capillary refill time', lambda x: x-1, target_name='capillary refill time >= 3s?')),\n",
    "    ('det_6', DiscreteEncodingTransformer('pain', {1: 'alert, no pain', 2: 'depressed',\n",
    "                                                   3: 'intermittent mild pain',\n",
    "                                                   4: 'intermittent severe pain',\n",
    "                                                   5: 'continuous severe pain'},\n",
    "                                          target_type='category')),\n",
    "    ('det_7', DiscreteEncodingTransformer('peristalsis', {1: 'hypermotile', 2: 'normal',\n",
    "                                                          3: 'hypomotile', 4: 'absent'},\n",
    "                                          target_type='category')),\n",
    "    ('det_8', DiscreteEncodingTransformer('abdominal distension', lambda x: round(x-1))),\n",
    "    ('det_9', DiscreteEncodingTransformer('nasogastric tube', lambda x: x-1)),\n",
    "    ('det_10', DiscreteEncodingTransformer('nasogastric reflux', {1: 0, 3: 1})),\n",
    "    ('det_11', DiscreteEncodingTransformer('rectal examination - feces', {1: 'normal', 2:'increased',\n",
    "                                                                          3: 'decreased', 4: 'absent'},\n",
    "                                           target_type='category')),\n",
    "    ('det_12', DiscreteEncodingTransformer('abdomen', {1: 'normal', 2:'other', 3: 'firm feces in the large intestine',\n",
    "                                                       4: 'distended small intestine', 5: 'distended large intestine'},\n",
    "                                           target_type='category')),\n",
    "    ('det_13', DiscreteEncodingTransformer('outcome', {1: 'lived', 2: 'died', 3: 'was euthanized'},\n",
    "                                           target_type='category'))\n",
    "])\n",
    "\n",
    "horse_colic_train_cp = discreteEncodingTransformersPipe.fit_transform(horse_colic_train_cp)\n",
    "horse_colic_train_cp.info()"
   ],
   "metadata": {
    "collapsed": false,
    "ExecuteTime": {
     "end_time": "2023-05-30T23:50:19.351652Z",
     "start_time": "2023-05-30T23:50:19.300966Z"
    }
   }
  },
  {
   "cell_type": "code",
   "execution_count": 141,
   "outputs": [
    {
     "data": {
      "text/plain": "  rectal temperature  pulse respiratory rate packed cell volume total protein  \\\n0               38.5   66.0             28.0               45.0           8.4   \n1               39.2   88.0             20.0               50.0          85.0   \n2               38.3   40.0             24.0               33.0           6.7   \n3               39.1  164.0             84.0               48.0           7.2   \n4               37.3  104.0             35.0               74.0           7.4   \n\n   mucous membranes  capillary refill time >= 3s?                    pain  \\\n0                 0                             1  continuous severe pain   \n1                 3                             0  intermittent mild pain   \n2                 2                             0  intermittent mild pain   \n3                 4                             1               depressed   \n4                 4                             1  intermittent mild pain   \n\n  peristalsis  nasogastric tube  nasogastric reflux  \\\n0      absent                 1                   0   \n1      absent                 1                   0   \n2  hypomotile                 1                   0   \n3      absent                 0                   2   \n4  hypomotile                 1                   0   \n\n  rectal examination - feces                    abdomen  abdominal distension  \\\n0                  decreased  distended large intestine                     3   \n1                     absent                      other                     1   \n2                     normal                     normal                     0   \n3                  decreased  distended large intestine                     3   \n4                     absent  distended large intestine                     1   \n\n   surgery?  adult?         outcome lesion type 1 lesion type 2 lesion type 3  \n0         0       1            died         11300         00000         00000  \n1         1       1  was euthanized         02208         00000         00000  \n2         0       1           lived         00000         00000         00000  \n3         1       0            died         02208         00000         00000  \n4         0       1            died         04300         00000         00000  ",
      "text/html": "<div>\n<style scoped>\n    .dataframe tbody tr th:only-of-type {\n        vertical-align: middle;\n    }\n\n    .dataframe tbody tr th {\n        vertical-align: top;\n    }\n\n    .dataframe thead th {\n        text-align: right;\n    }\n</style>\n<table border=\"1\" class=\"dataframe\">\n  <thead>\n    <tr style=\"text-align: right;\">\n      <th></th>\n      <th>rectal temperature</th>\n      <th>pulse</th>\n      <th>respiratory rate</th>\n      <th>packed cell volume</th>\n      <th>total protein</th>\n      <th>mucous membranes</th>\n      <th>capillary refill time &gt;= 3s?</th>\n      <th>pain</th>\n      <th>peristalsis</th>\n      <th>nasogastric tube</th>\n      <th>nasogastric reflux</th>\n      <th>rectal examination - feces</th>\n      <th>abdomen</th>\n      <th>abdominal distension</th>\n      <th>surgery?</th>\n      <th>adult?</th>\n      <th>outcome</th>\n      <th>lesion type 1</th>\n      <th>lesion type 2</th>\n      <th>lesion type 3</th>\n    </tr>\n  </thead>\n  <tbody>\n    <tr>\n      <th>0</th>\n      <td>38.5</td>\n      <td>66.0</td>\n      <td>28.0</td>\n      <td>45.0</td>\n      <td>8.4</td>\n      <td>0</td>\n      <td>1</td>\n      <td>continuous severe pain</td>\n      <td>absent</td>\n      <td>1</td>\n      <td>0</td>\n      <td>decreased</td>\n      <td>distended large intestine</td>\n      <td>3</td>\n      <td>0</td>\n      <td>1</td>\n      <td>died</td>\n      <td>11300</td>\n      <td>00000</td>\n      <td>00000</td>\n    </tr>\n    <tr>\n      <th>1</th>\n      <td>39.2</td>\n      <td>88.0</td>\n      <td>20.0</td>\n      <td>50.0</td>\n      <td>85.0</td>\n      <td>3</td>\n      <td>0</td>\n      <td>intermittent mild pain</td>\n      <td>absent</td>\n      <td>1</td>\n      <td>0</td>\n      <td>absent</td>\n      <td>other</td>\n      <td>1</td>\n      <td>1</td>\n      <td>1</td>\n      <td>was euthanized</td>\n      <td>02208</td>\n      <td>00000</td>\n      <td>00000</td>\n    </tr>\n    <tr>\n      <th>2</th>\n      <td>38.3</td>\n      <td>40.0</td>\n      <td>24.0</td>\n      <td>33.0</td>\n      <td>6.7</td>\n      <td>2</td>\n      <td>0</td>\n      <td>intermittent mild pain</td>\n      <td>hypomotile</td>\n      <td>1</td>\n      <td>0</td>\n      <td>normal</td>\n      <td>normal</td>\n      <td>0</td>\n      <td>0</td>\n      <td>1</td>\n      <td>lived</td>\n      <td>00000</td>\n      <td>00000</td>\n      <td>00000</td>\n    </tr>\n    <tr>\n      <th>3</th>\n      <td>39.1</td>\n      <td>164.0</td>\n      <td>84.0</td>\n      <td>48.0</td>\n      <td>7.2</td>\n      <td>4</td>\n      <td>1</td>\n      <td>depressed</td>\n      <td>absent</td>\n      <td>0</td>\n      <td>2</td>\n      <td>decreased</td>\n      <td>distended large intestine</td>\n      <td>3</td>\n      <td>1</td>\n      <td>0</td>\n      <td>died</td>\n      <td>02208</td>\n      <td>00000</td>\n      <td>00000</td>\n    </tr>\n    <tr>\n      <th>4</th>\n      <td>37.3</td>\n      <td>104.0</td>\n      <td>35.0</td>\n      <td>74.0</td>\n      <td>7.4</td>\n      <td>4</td>\n      <td>1</td>\n      <td>intermittent mild pain</td>\n      <td>hypomotile</td>\n      <td>1</td>\n      <td>0</td>\n      <td>absent</td>\n      <td>distended large intestine</td>\n      <td>1</td>\n      <td>0</td>\n      <td>1</td>\n      <td>died</td>\n      <td>04300</td>\n      <td>00000</td>\n      <td>00000</td>\n    </tr>\n  </tbody>\n</table>\n</div>"
     },
     "execution_count": 141,
     "metadata": {},
     "output_type": "execute_result"
    }
   ],
   "source": [
    "horse_colic_train_cp.head()"
   ],
   "metadata": {
    "collapsed": false,
    "ExecuteTime": {
     "end_time": "2023-05-30T23:50:19.468921400Z",
     "start_time": "2023-05-30T23:50:19.450886900Z"
    }
   }
  },
  {
   "cell_type": "code",
   "execution_count": 142,
   "outputs": [],
   "source": [
    "class LesionTransformer:\n",
    "    def transform(self,X,y=None):\n",
    "        lesion_type_names = ['lesion type 1', 'lesion type 2', 'lesion type 3']\n",
    "        lesion_part_names = ['lesion site', 'lesion type', 'lesion subtype', 'lesion specific code']\n",
    "        X['number of lesions'] = (X.loc[:, lesion_type_names] != '00000').sum(axis=1)\n",
    "        X['lesion'] = X.apply(LesionTransformer._get_latest_lesion, axis=1)\n",
    "        for index, name in zip(range(4), lesion_part_names):\n",
    "            X[name] = X.apply(lambda x: LesionTransformer._split_lesion(x, index), axis=1)\n",
    "        X.drop([*lesion_type_names, 'lesion'], inplace=True, axis=1)\n",
    "        return X\n",
    "\n",
    "    def fit(self, X, y=None):\n",
    "        return self\n",
    "\n",
    "    @staticmethod\n",
    "    def _get_latest_lesion(row):\n",
    "        num_of_lesions = row['number of lesions']\n",
    "        if num_of_lesions != 0:\n",
    "            return row[f'lesion type {num_of_lesions}']\n",
    "        else:\n",
    "            return '00000'\n",
    "\n",
    "    @staticmethod\n",
    "    def _split_lesion(row, part):\n",
    "        lesion = row['lesion']\n",
    "        split_1 = [int(part) for part in (lesion[:2], lesion[2], lesion[3], lesion[4:])]\n",
    "        split_2 = [int(part) for part in (lesion[0], lesion[1], lesion[2], lesion[3:])]\n",
    "        if len(lesion) == 6:\n",
    "            return split_1[part]\n",
    "        else:\n",
    "            if int(lesion[:2]) <= 11:\n",
    "                return split_1[part]\n",
    "            else:\n",
    "                return split_2[part]"
   ],
   "metadata": {
    "collapsed": false,
    "ExecuteTime": {
     "end_time": "2023-05-30T23:50:19.651244600Z",
     "start_time": "2023-05-30T23:50:19.638780200Z"
    }
   }
  },
  {
   "cell_type": "code",
   "execution_count": 143,
   "outputs": [
    {
     "name": "stdout",
     "output_type": "stream",
     "text": [
      "<class 'pandas.core.frame.DataFrame'>\n",
      "RangeIndex: 299 entries, 0 to 298\n",
      "Data columns (total 22 columns):\n",
      " #   Column                        Non-Null Count  Dtype   \n",
      "---  ------                        --------------  -----   \n",
      " 0   rectal temperature            299 non-null    object  \n",
      " 1   pulse                         299 non-null    object  \n",
      " 2   respiratory rate              299 non-null    object  \n",
      " 3   packed cell volume            299 non-null    object  \n",
      " 4   total protein                 299 non-null    object  \n",
      " 5   mucous membranes              299 non-null    uint8   \n",
      " 6   capillary refill time >= 3s?  299 non-null    uint8   \n",
      " 7   pain                          299 non-null    category\n",
      " 8   peristalsis                   299 non-null    category\n",
      " 9   nasogastric tube              299 non-null    uint8   \n",
      " 10  nasogastric reflux            299 non-null    uint8   \n",
      " 11  rectal examination - feces    299 non-null    category\n",
      " 12  abdomen                       299 non-null    category\n",
      " 13  abdominal distension          299 non-null    uint8   \n",
      " 14  surgery?                      299 non-null    uint8   \n",
      " 15  adult?                        299 non-null    uint8   \n",
      " 16  outcome                       299 non-null    category\n",
      " 17  number of lesions             299 non-null    int64   \n",
      " 18  lesion site                   299 non-null    category\n",
      " 19  lesion type                   299 non-null    category\n",
      " 20  lesion subtype                299 non-null    category\n",
      " 21  lesion specific code          299 non-null    category\n",
      "dtypes: category(9), int64(1), object(5), uint8(7)\n",
      "memory usage: 20.9+ KB\n"
     ]
    }
   ],
   "source": [
    "lesion_site_values_map = {1: 'gastric', 2: 'sm intestine', 3: 'lg colo',\n",
    "                          4: 'lg colon and cecum', 5: 'cecum', 6: 'transverse colon',\n",
    "                          7: 'retum/descending colon', 8: 'uterus', 9: 'bladder',\n",
    "                          11: 'all intestinal sites'}\n",
    "lesion_type_values_map = {1: 'simple', 2: 'strangulation', 3: 'inflammation'}\n",
    "lesion_subtype_values_map = {1: 'mechanical', 2: 'paralytic'}\n",
    "lesion_spec_code_values_map = {1: 'obturation', 2: 'intrinsic', 3: 'extrinsic',\n",
    "                               4: 'adynamic', 5: 'volvulus/torsion', 6: 'intussuption',\n",
    "                               7: 'thromboembolic', 8: 'hernia', 9: 'lipoma/slenic incarceration',\n",
    "                               10: 'displacement'}\n",
    "lesionPipe = Pipeline([\n",
    "    ('lesion_transformer', LesionTransformer()),\n",
    "    ('det_1', DiscreteEncodingTransformer('lesion site', lesion_site_values_map, target_type='category')),\n",
    "    ('det_2', DiscreteEncodingTransformer('lesion type', lesion_type_values_map, target_type='category')),\n",
    "    ('det_3', DiscreteEncodingTransformer('lesion subtype', lesion_subtype_values_map, target_type='category')),\n",
    "    ('det_4', DiscreteEncodingTransformer('lesion specific code', lesion_spec_code_values_map, target_type='category')),\n",
    "])\n",
    "\n",
    "#lesion\n",
    "horse_colic_train_cp = lesionPipe.fit_transform(horse_colic_train_cp)\n",
    "horse_colic_train_cp.info()"
   ],
   "metadata": {
    "collapsed": false,
    "ExecuteTime": {
     "end_time": "2023-05-30T23:50:19.803315800Z",
     "start_time": "2023-05-30T23:50:19.775147400Z"
    }
   }
  },
  {
   "cell_type": "code",
   "execution_count": 144,
   "outputs": [
    {
     "name": "stdout",
     "output_type": "stream",
     "text": [
      "lg colo                   85\n",
      "sm intestine              79\n",
      "0                         63\n",
      "lg colon and cecum        21\n",
      "retum/descending colon    13\n",
      "cecum                     12\n",
      "gastric                   12\n",
      "all intestinal sites       4\n",
      "transverse colon           4\n",
      "bladder                    3\n",
      "uterus                     3\n",
      "Name: lesion site, dtype: int64\n",
      "strangulation    104\n",
      "simple            97\n",
      "0                 61\n",
      "4                 25\n",
      "inflammation      12\n",
      "Name: lesion type, dtype: int64\n",
      "0             197\n",
      "mechanical     77\n",
      "paralytic      24\n",
      "3               1\n",
      "Name: lesion subtype, dtype: int64\n",
      "0                              93\n",
      "volvulus/torsion               56\n",
      "obturation                     48\n",
      "hernia                         21\n",
      "lipoma/slenic incarceration    19\n",
      "adynamic                       18\n",
      "intrinsic                      14\n",
      "displacement                    9\n",
      "extrinsic                       9\n",
      "intussuption                    7\n",
      "thromboembolic                  5\n",
      "Name: lesion specific code, dtype: int64\n"
     ]
    }
   ],
   "source": [
    "#values that are not encoded (some of them are invalid according to dataset description) will be treated as\n",
    "#unknown in OneHotEncoder\n",
    "print(horse_colic_train_cp['lesion site'].value_counts())\n",
    "print(horse_colic_train_cp['lesion type'].value_counts())\n",
    "print(horse_colic_train_cp['lesion subtype'].value_counts())#\n",
    "print(horse_colic_train_cp['lesion specific code'].value_counts())"
   ],
   "metadata": {
    "collapsed": false,
    "ExecuteTime": {
     "end_time": "2023-05-30T23:50:19.942657600Z",
     "start_time": "2023-05-30T23:50:19.922403500Z"
    }
   }
  },
  {
   "cell_type": "code",
   "execution_count": 145,
   "outputs": [
    {
     "data": {
      "text/plain": "  rectal temperature  pulse respiratory rate packed cell volume total protein  \\\n0               38.5   66.0             28.0               45.0           8.4   \n1               39.2   88.0             20.0               50.0          85.0   \n2               38.3   40.0             24.0               33.0           6.7   \n3               39.1  164.0             84.0               48.0           7.2   \n4               37.3  104.0             35.0               74.0           7.4   \n\n   mucous membranes  capillary refill time >= 3s?                    pain  \\\n0                 0                             1  continuous severe pain   \n1                 3                             0  intermittent mild pain   \n2                 2                             0  intermittent mild pain   \n3                 4                             1               depressed   \n4                 4                             1  intermittent mild pain   \n\n  peristalsis  nasogastric tube  ...                    abdomen  \\\n0      absent                 1  ...  distended large intestine   \n1      absent                 1  ...                      other   \n2  hypomotile                 1  ...                     normal   \n3      absent                 0  ...  distended large intestine   \n4  hypomotile                 1  ...  distended large intestine   \n\n  abdominal distension surgery?  adult?         outcome  number of lesions  \\\n0                    3        0       1            died                  1   \n1                    1        1       1  was euthanized                  1   \n2                    0        0       1           lived                  0   \n3                    3        1       0            died                  1   \n4                    1        0       1            died                  1   \n\n            lesion site    lesion type lesion subtype lesion specific code  \n0  all intestinal sites   inflammation              0                    0  \n1          sm intestine  strangulation              0               hernia  \n2                     0              0              0                    0  \n3          sm intestine  strangulation              0               hernia  \n4    lg colon and cecum   inflammation              0                    0  \n\n[5 rows x 22 columns]",
      "text/html": "<div>\n<style scoped>\n    .dataframe tbody tr th:only-of-type {\n        vertical-align: middle;\n    }\n\n    .dataframe tbody tr th {\n        vertical-align: top;\n    }\n\n    .dataframe thead th {\n        text-align: right;\n    }\n</style>\n<table border=\"1\" class=\"dataframe\">\n  <thead>\n    <tr style=\"text-align: right;\">\n      <th></th>\n      <th>rectal temperature</th>\n      <th>pulse</th>\n      <th>respiratory rate</th>\n      <th>packed cell volume</th>\n      <th>total protein</th>\n      <th>mucous membranes</th>\n      <th>capillary refill time &gt;= 3s?</th>\n      <th>pain</th>\n      <th>peristalsis</th>\n      <th>nasogastric tube</th>\n      <th>...</th>\n      <th>abdomen</th>\n      <th>abdominal distension</th>\n      <th>surgery?</th>\n      <th>adult?</th>\n      <th>outcome</th>\n      <th>number of lesions</th>\n      <th>lesion site</th>\n      <th>lesion type</th>\n      <th>lesion subtype</th>\n      <th>lesion specific code</th>\n    </tr>\n  </thead>\n  <tbody>\n    <tr>\n      <th>0</th>\n      <td>38.5</td>\n      <td>66.0</td>\n      <td>28.0</td>\n      <td>45.0</td>\n      <td>8.4</td>\n      <td>0</td>\n      <td>1</td>\n      <td>continuous severe pain</td>\n      <td>absent</td>\n      <td>1</td>\n      <td>...</td>\n      <td>distended large intestine</td>\n      <td>3</td>\n      <td>0</td>\n      <td>1</td>\n      <td>died</td>\n      <td>1</td>\n      <td>all intestinal sites</td>\n      <td>inflammation</td>\n      <td>0</td>\n      <td>0</td>\n    </tr>\n    <tr>\n      <th>1</th>\n      <td>39.2</td>\n      <td>88.0</td>\n      <td>20.0</td>\n      <td>50.0</td>\n      <td>85.0</td>\n      <td>3</td>\n      <td>0</td>\n      <td>intermittent mild pain</td>\n      <td>absent</td>\n      <td>1</td>\n      <td>...</td>\n      <td>other</td>\n      <td>1</td>\n      <td>1</td>\n      <td>1</td>\n      <td>was euthanized</td>\n      <td>1</td>\n      <td>sm intestine</td>\n      <td>strangulation</td>\n      <td>0</td>\n      <td>hernia</td>\n    </tr>\n    <tr>\n      <th>2</th>\n      <td>38.3</td>\n      <td>40.0</td>\n      <td>24.0</td>\n      <td>33.0</td>\n      <td>6.7</td>\n      <td>2</td>\n      <td>0</td>\n      <td>intermittent mild pain</td>\n      <td>hypomotile</td>\n      <td>1</td>\n      <td>...</td>\n      <td>normal</td>\n      <td>0</td>\n      <td>0</td>\n      <td>1</td>\n      <td>lived</td>\n      <td>0</td>\n      <td>0</td>\n      <td>0</td>\n      <td>0</td>\n      <td>0</td>\n    </tr>\n    <tr>\n      <th>3</th>\n      <td>39.1</td>\n      <td>164.0</td>\n      <td>84.0</td>\n      <td>48.0</td>\n      <td>7.2</td>\n      <td>4</td>\n      <td>1</td>\n      <td>depressed</td>\n      <td>absent</td>\n      <td>0</td>\n      <td>...</td>\n      <td>distended large intestine</td>\n      <td>3</td>\n      <td>1</td>\n      <td>0</td>\n      <td>died</td>\n      <td>1</td>\n      <td>sm intestine</td>\n      <td>strangulation</td>\n      <td>0</td>\n      <td>hernia</td>\n    </tr>\n    <tr>\n      <th>4</th>\n      <td>37.3</td>\n      <td>104.0</td>\n      <td>35.0</td>\n      <td>74.0</td>\n      <td>7.4</td>\n      <td>4</td>\n      <td>1</td>\n      <td>intermittent mild pain</td>\n      <td>hypomotile</td>\n      <td>1</td>\n      <td>...</td>\n      <td>distended large intestine</td>\n      <td>1</td>\n      <td>0</td>\n      <td>1</td>\n      <td>died</td>\n      <td>1</td>\n      <td>lg colon and cecum</td>\n      <td>inflammation</td>\n      <td>0</td>\n      <td>0</td>\n    </tr>\n  </tbody>\n</table>\n<p>5 rows × 22 columns</p>\n</div>"
     },
     "execution_count": 145,
     "metadata": {},
     "output_type": "execute_result"
    }
   ],
   "source": [
    "horse_colic_train_cp.head()"
   ],
   "metadata": {
    "collapsed": false,
    "ExecuteTime": {
     "end_time": "2023-05-30T23:50:20.153003600Z",
     "start_time": "2023-05-30T23:50:20.131542400Z"
    }
   }
  },
  {
   "cell_type": "code",
   "execution_count": 146,
   "outputs": [
    {
     "name": "stdout",
     "output_type": "stream",
     "text": [
      "<class 'pandas.core.frame.DataFrame'>\n",
      "RangeIndex: 299 entries, 0 to 298\n",
      "Data columns (total 57 columns):\n",
      " #   Column                                               Non-Null Count  Dtype \n",
      "---  ------                                               --------------  ----- \n",
      " 0   lesion site -> gastric                               299 non-null    object\n",
      " 1   lesion site -> sm intestine                          299 non-null    object\n",
      " 2   lesion site -> lg colo                               299 non-null    object\n",
      " 3   lesion site -> lg colon and cecum                    299 non-null    object\n",
      " 4   lesion site -> cecum                                 299 non-null    object\n",
      " 5   lesion site -> transverse colon                      299 non-null    object\n",
      " 6   lesion site -> retum/descending colon                299 non-null    object\n",
      " 7   lesion site -> uterus                                299 non-null    object\n",
      " 8   lesion site -> bladder                               299 non-null    object\n",
      " 9   lesion site -> all intestinal sites                  299 non-null    object\n",
      " 10  lesion type -> simple                                299 non-null    object\n",
      " 11  lesion type -> strangulation                         299 non-null    object\n",
      " 12  lesion type -> inflammation                          299 non-null    object\n",
      " 13  lesion subtype -> mechanical                         299 non-null    object\n",
      " 14  lesion subtype -> paralytic                          299 non-null    object\n",
      " 15  lesion specific code -> obturation                   299 non-null    object\n",
      " 16  lesion specific code -> intrinsic                    299 non-null    object\n",
      " 17  lesion specific code -> extrinsic                    299 non-null    object\n",
      " 18  lesion specific code -> adynamic                     299 non-null    object\n",
      " 19  lesion specific code -> volvulus/torsion             299 non-null    object\n",
      " 20  lesion specific code -> intussuption                 299 non-null    object\n",
      " 21  lesion specific code -> thromboembolic               299 non-null    object\n",
      " 22  lesion specific code -> hernia                       299 non-null    object\n",
      " 23  lesion specific code -> lipoma/slenic incarceration  299 non-null    object\n",
      " 24  lesion specific code -> displacement                 299 non-null    object\n",
      " 25  pain -> alert, no pain                               299 non-null    object\n",
      " 26  pain -> continuous severe pain                       299 non-null    object\n",
      " 27  pain -> depressed                                    299 non-null    object\n",
      " 28  pain -> intermittent mild pain                       299 non-null    object\n",
      " 29  pain -> intermittent severe pain                     299 non-null    object\n",
      " 30  peristalsis -> absent                                299 non-null    object\n",
      " 31  peristalsis -> hypermotile                           299 non-null    object\n",
      " 32  peristalsis -> hypomotile                            299 non-null    object\n",
      " 33  peristalsis -> normal                                299 non-null    object\n",
      " 34  rectal examination - feces -> absent                 299 non-null    object\n",
      " 35  rectal examination - feces -> decreased              299 non-null    object\n",
      " 36  rectal examination - feces -> increased              299 non-null    object\n",
      " 37  rectal examination - feces -> normal                 299 non-null    object\n",
      " 38  abdomen -> distended large intestine                 299 non-null    object\n",
      " 39  abdomen -> distended small intestine                 299 non-null    object\n",
      " 40  abdomen -> firm feces in the large intestine         299 non-null    object\n",
      " 41  abdomen -> normal                                    299 non-null    object\n",
      " 42  abdomen -> other                                     299 non-null    object\n",
      " 43  rectal temperature                                   299 non-null    object\n",
      " 44  pulse                                                299 non-null    object\n",
      " 45  respiratory rate                                     299 non-null    object\n",
      " 46  packed cell volume                                   299 non-null    object\n",
      " 47  total protein                                        299 non-null    object\n",
      " 48  mucous membranes                                     299 non-null    object\n",
      " 49  capillary refill time >= 3s?                         299 non-null    object\n",
      " 50  nasogastric tube                                     299 non-null    object\n",
      " 51  nasogastric reflux                                   299 non-null    object\n",
      " 52  abdominal distension                                 299 non-null    object\n",
      " 53  surgery?                                             299 non-null    object\n",
      " 54  adult?                                               299 non-null    object\n",
      " 55  outcome                                              299 non-null    object\n",
      " 56  number of lesions                                    299 non-null    object\n",
      "dtypes: object(57)\n",
      "memory usage: 133.3+ KB\n"
     ]
    }
   ],
   "source": [
    "from sklearn.preprocessing import OneHotEncoder\n",
    "\n",
    "oneHotEncodersTransformer = ColumnTransformer([\n",
    "    ('encodeLesionSite', OneHotEncoder(categories=[list(lesion_site_values_map.values())], handle_unknown='ignore'), ['lesion site']),\n",
    "    ('encodeLesionType', OneHotEncoder(categories=[list(lesion_type_values_map.values())], handle_unknown='ignore'), ['lesion type']),\n",
    "    ('encodeLesionSubtype', OneHotEncoder(categories=[list(lesion_subtype_values_map.values())], handle_unknown='ignore'), ['lesion subtype']),\n",
    "    ('encodeLesionSpecCode', OneHotEncoder(categories=[list(lesion_spec_code_values_map.values())], handle_unknown='ignore'), ['lesion specific code']),\n",
    "    ('encodeOther', OneHotEncoder(), ['pain', 'peristalsis', 'rectal examination - feces', 'abdomen']),\n",
    "], remainder=\"passthrough\")\n",
    "\n",
    "result = oneHotEncodersTransformer.fit_transform(horse_colic_train_cp)\n",
    "column_names = [name[name.index('__')+2:].replace('_', ' -> ') for name in oneHotEncodersTransformer.get_feature_names_out()]\n",
    "\n",
    "horse_colic_train_cp = pd.DataFrame(result, columns = column_names)\n",
    "horse_colic_train_cp.info()"
   ],
   "metadata": {
    "collapsed": false,
    "ExecuteTime": {
     "end_time": "2023-05-30T23:50:20.517827Z",
     "start_time": "2023-05-30T23:50:20.486076300Z"
    }
   }
  },
  {
   "cell_type": "code",
   "execution_count": 147,
   "outputs": [
    {
     "data": {
      "text/plain": "  lesion site -> gastric lesion site -> sm intestine lesion site -> lg colo  \\\n0                    0.0                         0.0                    0.0   \n1                    0.0                         1.0                    0.0   \n2                    0.0                         0.0                    0.0   \n3                    0.0                         1.0                    0.0   \n4                    0.0                         0.0                    0.0   \n\n  lesion site -> lg colon and cecum lesion site -> cecum  \\\n0                               0.0                  0.0   \n1                               0.0                  0.0   \n2                               0.0                  0.0   \n3                               0.0                  0.0   \n4                               1.0                  0.0   \n\n  lesion site -> transverse colon lesion site -> retum/descending colon  \\\n0                             0.0                                   0.0   \n1                             0.0                                   0.0   \n2                             0.0                                   0.0   \n3                             0.0                                   0.0   \n4                             0.0                                   0.0   \n\n  lesion site -> uterus lesion site -> bladder  \\\n0                   0.0                    0.0   \n1                   0.0                    0.0   \n2                   0.0                    0.0   \n3                   0.0                    0.0   \n4                   0.0                    0.0   \n\n  lesion site -> all intestinal sites  ... total protein mucous membranes  \\\n0                                 1.0  ...           8.4                0   \n1                                 0.0  ...          85.0                3   \n2                                 0.0  ...           6.7                2   \n3                                 0.0  ...           7.2                4   \n4                                 0.0  ...           7.4                4   \n\n  capillary refill time >= 3s? nasogastric tube nasogastric reflux  \\\n0                            1                1                  0   \n1                            0                1                  0   \n2                            0                1                  0   \n3                            1                0                  2   \n4                            1                1                  0   \n\n  abdominal distension surgery? adult?         outcome number of lesions  \n0                    3        0      1            died                 1  \n1                    1        1      1  was euthanized                 1  \n2                    0        0      1           lived                 0  \n3                    3        1      0            died                 1  \n4                    1        0      1            died                 1  \n\n[5 rows x 57 columns]",
      "text/html": "<div>\n<style scoped>\n    .dataframe tbody tr th:only-of-type {\n        vertical-align: middle;\n    }\n\n    .dataframe tbody tr th {\n        vertical-align: top;\n    }\n\n    .dataframe thead th {\n        text-align: right;\n    }\n</style>\n<table border=\"1\" class=\"dataframe\">\n  <thead>\n    <tr style=\"text-align: right;\">\n      <th></th>\n      <th>lesion site -&gt; gastric</th>\n      <th>lesion site -&gt; sm intestine</th>\n      <th>lesion site -&gt; lg colo</th>\n      <th>lesion site -&gt; lg colon and cecum</th>\n      <th>lesion site -&gt; cecum</th>\n      <th>lesion site -&gt; transverse colon</th>\n      <th>lesion site -&gt; retum/descending colon</th>\n      <th>lesion site -&gt; uterus</th>\n      <th>lesion site -&gt; bladder</th>\n      <th>lesion site -&gt; all intestinal sites</th>\n      <th>...</th>\n      <th>total protein</th>\n      <th>mucous membranes</th>\n      <th>capillary refill time &gt;= 3s?</th>\n      <th>nasogastric tube</th>\n      <th>nasogastric reflux</th>\n      <th>abdominal distension</th>\n      <th>surgery?</th>\n      <th>adult?</th>\n      <th>outcome</th>\n      <th>number of lesions</th>\n    </tr>\n  </thead>\n  <tbody>\n    <tr>\n      <th>0</th>\n      <td>0.0</td>\n      <td>0.0</td>\n      <td>0.0</td>\n      <td>0.0</td>\n      <td>0.0</td>\n      <td>0.0</td>\n      <td>0.0</td>\n      <td>0.0</td>\n      <td>0.0</td>\n      <td>1.0</td>\n      <td>...</td>\n      <td>8.4</td>\n      <td>0</td>\n      <td>1</td>\n      <td>1</td>\n      <td>0</td>\n      <td>3</td>\n      <td>0</td>\n      <td>1</td>\n      <td>died</td>\n      <td>1</td>\n    </tr>\n    <tr>\n      <th>1</th>\n      <td>0.0</td>\n      <td>1.0</td>\n      <td>0.0</td>\n      <td>0.0</td>\n      <td>0.0</td>\n      <td>0.0</td>\n      <td>0.0</td>\n      <td>0.0</td>\n      <td>0.0</td>\n      <td>0.0</td>\n      <td>...</td>\n      <td>85.0</td>\n      <td>3</td>\n      <td>0</td>\n      <td>1</td>\n      <td>0</td>\n      <td>1</td>\n      <td>1</td>\n      <td>1</td>\n      <td>was euthanized</td>\n      <td>1</td>\n    </tr>\n    <tr>\n      <th>2</th>\n      <td>0.0</td>\n      <td>0.0</td>\n      <td>0.0</td>\n      <td>0.0</td>\n      <td>0.0</td>\n      <td>0.0</td>\n      <td>0.0</td>\n      <td>0.0</td>\n      <td>0.0</td>\n      <td>0.0</td>\n      <td>...</td>\n      <td>6.7</td>\n      <td>2</td>\n      <td>0</td>\n      <td>1</td>\n      <td>0</td>\n      <td>0</td>\n      <td>0</td>\n      <td>1</td>\n      <td>lived</td>\n      <td>0</td>\n    </tr>\n    <tr>\n      <th>3</th>\n      <td>0.0</td>\n      <td>1.0</td>\n      <td>0.0</td>\n      <td>0.0</td>\n      <td>0.0</td>\n      <td>0.0</td>\n      <td>0.0</td>\n      <td>0.0</td>\n      <td>0.0</td>\n      <td>0.0</td>\n      <td>...</td>\n      <td>7.2</td>\n      <td>4</td>\n      <td>1</td>\n      <td>0</td>\n      <td>2</td>\n      <td>3</td>\n      <td>1</td>\n      <td>0</td>\n      <td>died</td>\n      <td>1</td>\n    </tr>\n    <tr>\n      <th>4</th>\n      <td>0.0</td>\n      <td>0.0</td>\n      <td>0.0</td>\n      <td>1.0</td>\n      <td>0.0</td>\n      <td>0.0</td>\n      <td>0.0</td>\n      <td>0.0</td>\n      <td>0.0</td>\n      <td>0.0</td>\n      <td>...</td>\n      <td>7.4</td>\n      <td>4</td>\n      <td>1</td>\n      <td>1</td>\n      <td>0</td>\n      <td>1</td>\n      <td>0</td>\n      <td>1</td>\n      <td>died</td>\n      <td>1</td>\n    </tr>\n  </tbody>\n</table>\n<p>5 rows × 57 columns</p>\n</div>"
     },
     "execution_count": 147,
     "metadata": {},
     "output_type": "execute_result"
    }
   ],
   "source": [
    "horse_colic_train_cp.head()"
   ],
   "metadata": {
    "collapsed": false,
    "ExecuteTime": {
     "end_time": "2023-05-30T23:50:20.879044600Z",
     "start_time": "2023-05-30T23:50:20.850503900Z"
    }
   }
  },
  {
   "cell_type": "code",
   "execution_count": 148,
   "outputs": [
    {
     "name": "stdout",
     "output_type": "stream",
     "text": [
      "<class 'pandas.core.frame.DataFrame'>\n",
      "RangeIndex: 299 entries, 0 to 298\n",
      "Data columns (total 57 columns):\n",
      " #   Column                                               Non-Null Count  Dtype \n",
      "---  ------                                               --------------  ----- \n",
      " 0   lesion site -> gastric                               299 non-null    object\n",
      " 1   lesion site -> sm intestine                          299 non-null    object\n",
      " 2   lesion site -> lg colo                               299 non-null    object\n",
      " 3   lesion site -> lg colon and cecum                    299 non-null    object\n",
      " 4   lesion site -> cecum                                 299 non-null    object\n",
      " 5   lesion site -> transverse colon                      299 non-null    object\n",
      " 6   lesion site -> retum/descending colon                299 non-null    object\n",
      " 7   lesion site -> uterus                                299 non-null    object\n",
      " 8   lesion site -> bladder                               299 non-null    object\n",
      " 9   lesion site -> all intestinal sites                  299 non-null    object\n",
      " 10  lesion type -> simple                                299 non-null    object\n",
      " 11  lesion type -> strangulation                         299 non-null    object\n",
      " 12  lesion type -> inflammation                          299 non-null    object\n",
      " 13  lesion subtype -> mechanical                         299 non-null    object\n",
      " 14  lesion subtype -> paralytic                          299 non-null    object\n",
      " 15  lesion specific code -> obturation                   299 non-null    object\n",
      " 16  lesion specific code -> intrinsic                    299 non-null    object\n",
      " 17  lesion specific code -> extrinsic                    299 non-null    object\n",
      " 18  lesion specific code -> adynamic                     299 non-null    object\n",
      " 19  lesion specific code -> volvulus/torsion             299 non-null    object\n",
      " 20  lesion specific code -> intussuption                 299 non-null    object\n",
      " 21  lesion specific code -> thromboembolic               299 non-null    object\n",
      " 22  lesion specific code -> hernia                       299 non-null    object\n",
      " 23  lesion specific code -> lipoma/slenic incarceration  299 non-null    object\n",
      " 24  lesion specific code -> displacement                 299 non-null    object\n",
      " 25  pain -> alert, no pain                               299 non-null    object\n",
      " 26  pain -> continuous severe pain                       299 non-null    object\n",
      " 27  pain -> depressed                                    299 non-null    object\n",
      " 28  pain -> intermittent mild pain                       299 non-null    object\n",
      " 29  pain -> intermittent severe pain                     299 non-null    object\n",
      " 30  peristalsis -> absent                                299 non-null    object\n",
      " 31  peristalsis -> hypermotile                           299 non-null    object\n",
      " 32  peristalsis -> hypomotile                            299 non-null    object\n",
      " 33  peristalsis -> normal                                299 non-null    object\n",
      " 34  rectal examination - feces -> absent                 299 non-null    object\n",
      " 35  rectal examination - feces -> decreased              299 non-null    object\n",
      " 36  rectal examination - feces -> increased              299 non-null    object\n",
      " 37  rectal examination - feces -> normal                 299 non-null    object\n",
      " 38  abdomen -> distended large intestine                 299 non-null    object\n",
      " 39  abdomen -> distended small intestine                 299 non-null    object\n",
      " 40  abdomen -> firm feces in the large intestine         299 non-null    object\n",
      " 41  abdomen -> normal                                    299 non-null    object\n",
      " 42  abdomen -> other                                     299 non-null    object\n",
      " 43  rectal temperature                                   299 non-null    object\n",
      " 44  pulse                                                299 non-null    object\n",
      " 45  respiratory rate                                     299 non-null    object\n",
      " 46  packed cell volume                                   299 non-null    object\n",
      " 47  total protein                                        299 non-null    object\n",
      " 48  mucous membranes                                     299 non-null    object\n",
      " 49  capillary refill time >= 3s?                         299 non-null    object\n",
      " 50  nasogastric tube                                     299 non-null    object\n",
      " 51  nasogastric reflux                                   299 non-null    object\n",
      " 52  abdominal distension                                 299 non-null    object\n",
      " 53  surgery?                                             299 non-null    object\n",
      " 54  adult?                                               299 non-null    object\n",
      " 55  number of lesions                                    299 non-null    object\n",
      " 56  outcome                                              299 non-null    object\n",
      "dtypes: object(57)\n",
      "memory usage: 133.3+ KB\n"
     ]
    }
   ],
   "source": [
    "from sklearn.preprocessing import MinMaxScaler\n",
    "\n",
    "minMaxScalerTransformer = ColumnTransformer([\n",
    "    ('scaler', MinMaxScaler(), horse_colic_train_cp.columns.drop('outcome'))\n",
    "], remainder=\"passthrough\")\n",
    "\n",
    "result = minMaxScalerTransformer.fit_transform(horse_colic_train_cp)\n",
    "column_names = [name[name.index('__')+2:] for name in minMaxScalerTransformer.get_feature_names_out()]\n",
    "\n",
    "horse_colic_train_cp = pd.DataFrame(result, columns = column_names)\n",
    "horse_colic_train_cp.info()"
   ],
   "metadata": {
    "collapsed": false,
    "ExecuteTime": {
     "end_time": "2023-05-30T23:50:21.358691100Z",
     "start_time": "2023-05-30T23:50:21.329494400Z"
    }
   }
  },
  {
   "cell_type": "code",
   "execution_count": 149,
   "outputs": [
    {
     "data": {
      "text/plain": "  lesion site -> gastric lesion site -> sm intestine lesion site -> lg colo  \\\n0                    0.0                         0.0                    0.0   \n1                    0.0                         1.0                    0.0   \n2                    0.0                         0.0                    0.0   \n3                    0.0                         1.0                    0.0   \n4                    0.0                         0.0                    0.0   \n\n  lesion site -> lg colon and cecum lesion site -> cecum  \\\n0                               0.0                  0.0   \n1                               0.0                  0.0   \n2                               0.0                  0.0   \n3                               0.0                  0.0   \n4                               1.0                  0.0   \n\n  lesion site -> transverse colon lesion site -> retum/descending colon  \\\n0                             0.0                                   0.0   \n1                             0.0                                   0.0   \n2                             0.0                                   0.0   \n3                             0.0                                   0.0   \n4                             0.0                                   0.0   \n\n  lesion site -> uterus lesion site -> bladder  \\\n0                   0.0                    0.0   \n1                   0.0                    0.0   \n2                   0.0                    0.0   \n3                   0.0                    0.0   \n4                   0.0                    0.0   \n\n  lesion site -> all intestinal sites  ... total protein mucous membranes  \\\n0                                 1.0  ...       0.05951              0.0   \n1                                 0.0  ...      0.953326              0.6   \n2                                 0.0  ...      0.039673              0.4   \n3                                 0.0  ...      0.045508              0.8   \n4                                 0.0  ...      0.047841              0.8   \n\n  capillary refill time >= 3s? nasogastric tube nasogastric reflux  \\\n0                          1.0              0.5                0.0   \n1                          0.0              0.5                0.0   \n2                          0.0              0.5                0.0   \n3                          1.0              0.0                1.0   \n4                          1.0              0.5                0.0   \n\n  abdominal distension surgery? adult? number of lesions         outcome  \n0                  1.0      0.0    1.0          0.333333            died  \n1             0.333333      1.0    1.0          0.333333  was euthanized  \n2                  0.0      0.0    1.0               0.0           lived  \n3                  1.0      1.0    0.0          0.333333            died  \n4             0.333333      0.0    1.0          0.333333            died  \n\n[5 rows x 57 columns]",
      "text/html": "<div>\n<style scoped>\n    .dataframe tbody tr th:only-of-type {\n        vertical-align: middle;\n    }\n\n    .dataframe tbody tr th {\n        vertical-align: top;\n    }\n\n    .dataframe thead th {\n        text-align: right;\n    }\n</style>\n<table border=\"1\" class=\"dataframe\">\n  <thead>\n    <tr style=\"text-align: right;\">\n      <th></th>\n      <th>lesion site -&gt; gastric</th>\n      <th>lesion site -&gt; sm intestine</th>\n      <th>lesion site -&gt; lg colo</th>\n      <th>lesion site -&gt; lg colon and cecum</th>\n      <th>lesion site -&gt; cecum</th>\n      <th>lesion site -&gt; transverse colon</th>\n      <th>lesion site -&gt; retum/descending colon</th>\n      <th>lesion site -&gt; uterus</th>\n      <th>lesion site -&gt; bladder</th>\n      <th>lesion site -&gt; all intestinal sites</th>\n      <th>...</th>\n      <th>total protein</th>\n      <th>mucous membranes</th>\n      <th>capillary refill time &gt;= 3s?</th>\n      <th>nasogastric tube</th>\n      <th>nasogastric reflux</th>\n      <th>abdominal distension</th>\n      <th>surgery?</th>\n      <th>adult?</th>\n      <th>number of lesions</th>\n      <th>outcome</th>\n    </tr>\n  </thead>\n  <tbody>\n    <tr>\n      <th>0</th>\n      <td>0.0</td>\n      <td>0.0</td>\n      <td>0.0</td>\n      <td>0.0</td>\n      <td>0.0</td>\n      <td>0.0</td>\n      <td>0.0</td>\n      <td>0.0</td>\n      <td>0.0</td>\n      <td>1.0</td>\n      <td>...</td>\n      <td>0.05951</td>\n      <td>0.0</td>\n      <td>1.0</td>\n      <td>0.5</td>\n      <td>0.0</td>\n      <td>1.0</td>\n      <td>0.0</td>\n      <td>1.0</td>\n      <td>0.333333</td>\n      <td>died</td>\n    </tr>\n    <tr>\n      <th>1</th>\n      <td>0.0</td>\n      <td>1.0</td>\n      <td>0.0</td>\n      <td>0.0</td>\n      <td>0.0</td>\n      <td>0.0</td>\n      <td>0.0</td>\n      <td>0.0</td>\n      <td>0.0</td>\n      <td>0.0</td>\n      <td>...</td>\n      <td>0.953326</td>\n      <td>0.6</td>\n      <td>0.0</td>\n      <td>0.5</td>\n      <td>0.0</td>\n      <td>0.333333</td>\n      <td>1.0</td>\n      <td>1.0</td>\n      <td>0.333333</td>\n      <td>was euthanized</td>\n    </tr>\n    <tr>\n      <th>2</th>\n      <td>0.0</td>\n      <td>0.0</td>\n      <td>0.0</td>\n      <td>0.0</td>\n      <td>0.0</td>\n      <td>0.0</td>\n      <td>0.0</td>\n      <td>0.0</td>\n      <td>0.0</td>\n      <td>0.0</td>\n      <td>...</td>\n      <td>0.039673</td>\n      <td>0.4</td>\n      <td>0.0</td>\n      <td>0.5</td>\n      <td>0.0</td>\n      <td>0.0</td>\n      <td>0.0</td>\n      <td>1.0</td>\n      <td>0.0</td>\n      <td>lived</td>\n    </tr>\n    <tr>\n      <th>3</th>\n      <td>0.0</td>\n      <td>1.0</td>\n      <td>0.0</td>\n      <td>0.0</td>\n      <td>0.0</td>\n      <td>0.0</td>\n      <td>0.0</td>\n      <td>0.0</td>\n      <td>0.0</td>\n      <td>0.0</td>\n      <td>...</td>\n      <td>0.045508</td>\n      <td>0.8</td>\n      <td>1.0</td>\n      <td>0.0</td>\n      <td>1.0</td>\n      <td>1.0</td>\n      <td>1.0</td>\n      <td>0.0</td>\n      <td>0.333333</td>\n      <td>died</td>\n    </tr>\n    <tr>\n      <th>4</th>\n      <td>0.0</td>\n      <td>0.0</td>\n      <td>0.0</td>\n      <td>1.0</td>\n      <td>0.0</td>\n      <td>0.0</td>\n      <td>0.0</td>\n      <td>0.0</td>\n      <td>0.0</td>\n      <td>0.0</td>\n      <td>...</td>\n      <td>0.047841</td>\n      <td>0.8</td>\n      <td>1.0</td>\n      <td>0.5</td>\n      <td>0.0</td>\n      <td>0.333333</td>\n      <td>0.0</td>\n      <td>1.0</td>\n      <td>0.333333</td>\n      <td>died</td>\n    </tr>\n  </tbody>\n</table>\n<p>5 rows × 57 columns</p>\n</div>"
     },
     "execution_count": 149,
     "metadata": {},
     "output_type": "execute_result"
    }
   ],
   "source": [
    "horse_colic_train_cp.head()"
   ],
   "metadata": {
    "collapsed": false,
    "ExecuteTime": {
     "end_time": "2023-05-30T23:50:34.333592900Z",
     "start_time": "2023-05-30T23:50:34.282501800Z"
    }
   }
  },
  {
   "cell_type": "code",
   "execution_count": null,
   "outputs": [],
   "source": [],
   "metadata": {
    "collapsed": false
   }
  },
  {
   "cell_type": "markdown",
   "source": [
    "## Modeling"
   ],
   "metadata": {
    "collapsed": false
   }
  },
  {
   "cell_type": "code",
   "execution_count": null,
   "outputs": [],
   "source": [],
   "metadata": {
    "collapsed": false
   }
  }
 ],
 "metadata": {
  "kernelspec": {
   "display_name": "Python 3 (ipykernel)",
   "language": "python",
   "name": "python3"
  },
  "language_info": {
   "codemirror_mode": {
    "name": "ipython",
    "version": 3
   },
   "file_extension": ".py",
   "mimetype": "text/x-python",
   "name": "python",
   "nbconvert_exporter": "python",
   "pygments_lexer": "ipython3",
   "version": "3.8.15"
  }
 },
 "nbformat": 4,
 "nbformat_minor": 5
}
