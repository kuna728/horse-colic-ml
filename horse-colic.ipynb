{
 "cells": [
  {
   "cell_type": "markdown",
   "source": [
    "# Horse colic\n",
    "## Project goal\n",
    "The goal of the project is to train and build a horse colic complication model based on [Horse Colic Data Set](https://archive.ics.uci.edu/ml/datasets/Horse+Colic).\n",
    "The task is a multiclass classification problem and outcome model should predict whether a colic horse will die, survive or be euthanized."
   ],
   "metadata": {
    "collapsed": false
   }
  },
  {
   "cell_type": "markdown",
   "source": [
    "## Data acquisition, analysis and pre-processing\n",
    "### Data downloading\n",
    "Dataset is split into 3 parts:\n",
    "- file *horse-colic.data* with training data - 300 records\n",
    "- file *horse-colic.test* with test data - 68 records\n",
    "- file *horse-colic.names* with dataset description and column names\n",
    "\n",
    "Data is downloaded programmatically and saved into data subfolder of current working directory. However, *horse-colic.names* need to be parsed before pandas can use it as column names definition. Cell below does this task. Parsed column names are saved into *horse-colic.names.parsed* file."
   ],
   "metadata": {
    "collapsed": false
   }
  },
  {
   "cell_type": "code",
   "execution_count": 1,
   "outputs": [
    {
     "name": "stdout",
     "output_type": "stream",
     "text": [
      "Directory ./data already exists\n"
     ]
    }
   ],
   "source": [
    "URL = 'https://archive.ics.uci.edu/ml/machine-learning-databases/horse-colic'\n",
    "TRAIN_DATA_FILE_NAME = 'horse-colic.data'\n",
    "TEST_DATA_FILE_NAME = 'horse-colic.test'\n",
    "NAMES_FILE_NAME = 'horse-colic.names'\n",
    "DATA_DIRECTORY_PATH = './data'\n",
    "COLUMN_NAMES = []\n",
    "\n",
    "import os\n",
    "import re\n",
    "import requests\n",
    "\n",
    "#function downloads 3 files and saves it in given path. function also creates 4th file which contains parsed dataframe-ready column names\n",
    "def download_data(url=URL, train_file_name=TRAIN_DATA_FILE_NAME, test_file_name=TEST_DATA_FILE_NAME,\n",
    "                  names_file_name=NAMES_FILE_NAME, path=DATA_DIRECTORY_PATH):\n",
    "    try:\n",
    "        os.mkdir(path)\n",
    "    except FileExistsError:\n",
    "        print(f\"Directory {path} already exists\")\n",
    "    for filename in [train_file_name, test_file_name, names_file_name]:\n",
    "        download_save_file(url, filename, path=path)\n",
    "    parse_names(names_file_name, f\"{names_file_name}.parsed\")\n",
    "\n",
    "#function downloads single file and saves it in given path\n",
    "def download_save_file(url, filename, path=DATA_DIRECTORY_PATH):\n",
    "    content = requests.get(f\"{url}/{filename}\").content\n",
    "    with open(f\"{path}/{filename}\", 'w') as f:\n",
    "        f.write(bytes.decode(content, 'utf-8').replace(' \\n', '\\n')) #trailing space at the line endings leads to problems\n",
    "\n",
    "#function extracts column names from names file (file also contains column descriptions)\n",
    "def parse_names(filename_in, filename_out, path=DATA_DIRECTORY_PATH):\n",
    "    pattern = '^\\d+:\\s*' #columns are generally listed like '{id}:'\n",
    "    names = []\n",
    "    with open(f\"{path}/{filename_in}\") as f:\n",
    "        for line in [line.strip() for line in f.readlines()]:\n",
    "            if re.match(pattern, line):\n",
    "                names.append(re.sub(pattern, '', line))\n",
    "    last_name = names.pop()\n",
    "    names.extend(['lesion type 1', 'lesion type 2', 'lesion type 3']) #some columns are listed in different way\n",
    "    names.append(last_name)\n",
    "    names[names.index(\"pain - a subjective judgement of the horse's pain level\")] = \"pain\" #this column name is not parsed correctly\n",
    "    with open(f\"{path}/{filename_out}\", \"w\") as f:\n",
    "        f.write(','.join(names))\n",
    "    COLUMN_NAMES.extend(names) #save it in variable for later usage\n",
    "\n",
    "download_data()"
   ],
   "metadata": {
    "collapsed": false,
    "ExecuteTime": {
     "end_time": "2023-06-02T07:09:47.857369300Z",
     "start_time": "2023-06-02T07:09:45.018709700Z"
    }
   }
  },
  {
   "cell_type": "markdown",
   "source": [
    "### Data analysis\n",
    "#### Missing values\n",
    "Many fields with null values - according to description its about 30% of missing values. There are only 7 columns out of 28 with value in every row! Moreover, there are only 6 rows out of 300 in values in every col! Fixing those missing values will be quite challenging.\n",
    "Rows with missing values in outcome column should be definitely dropped, because outcome is the value that we predict."
   ],
   "metadata": {
    "collapsed": false
   }
  },
  {
   "cell_type": "code",
   "execution_count": 2,
   "outputs": [
    {
     "name": "stdout",
     "output_type": "stream",
     "text": [
      "<class 'pandas.core.frame.DataFrame'>\n",
      "RangeIndex: 300 entries, 0 to 299\n",
      "Data columns (total 28 columns):\n",
      " #   Column                       Non-Null Count  Dtype  \n",
      "---  ------                       --------------  -----  \n",
      " 0   surgery?                     299 non-null    float64\n",
      " 1   Age                          300 non-null    int64  \n",
      " 2   Hospital Number              300 non-null    int64  \n",
      " 3   rectal temperature           240 non-null    float64\n",
      " 4   pulse                        276 non-null    float64\n",
      " 5   respiratory rate             242 non-null    float64\n",
      " 6   temperature of extremities   244 non-null    float64\n",
      " 7   peripheral pulse             231 non-null    float64\n",
      " 8   mucous membranes             253 non-null    float64\n",
      " 9   capillary refill time        268 non-null    float64\n",
      " 10  pain                         245 non-null    float64\n",
      " 11  peristalsis                  256 non-null    float64\n",
      " 12  abdominal distension         244 non-null    float64\n",
      " 13  nasogastric tube             196 non-null    float64\n",
      " 14  nasogastric reflux           194 non-null    float64\n",
      " 15  nasogastric reflux PH        53 non-null     float64\n",
      " 16  rectal examination - feces   198 non-null    float64\n",
      " 17  abdomen                      182 non-null    float64\n",
      " 18  packed cell volume           271 non-null    float64\n",
      " 19  total protein                267 non-null    float64\n",
      " 20  abdominocentesis appearance  135 non-null    float64\n",
      " 21  abdomcentesis total protein  102 non-null    float64\n",
      " 22  outcome                      299 non-null    float64\n",
      " 23  surgical lesion?             300 non-null    int64  \n",
      " 24  lesion type 1                300 non-null    object \n",
      " 25  lesion type 2                300 non-null    object \n",
      " 26  lesion type 3                300 non-null    object \n",
      " 27  cp_data                      300 non-null    int64  \n",
      "dtypes: float64(21), int64(4), object(3)\n",
      "memory usage: 65.8+ KB\n",
      "not null rows count: 6\n"
     ]
    }
   ],
   "source": [
    "import pandas as pd\n",
    "\n",
    "#prevent information lose with dtype - lesions are encoded with 0s at beginning\n",
    "dtype = {'lesion type 1': str, 'lesion type 2': str, 'lesion type 3': str }\n",
    "\n",
    "horse_colic_train = pd.read_csv(\"./data/horse-colic.data\", sep=' ', na_values='?', header=None, names=COLUMN_NAMES, dtype=dtype)\n",
    "horse_colic_test = pd.read_csv(\"./data/horse-colic.test\", sep=' ', na_values='?', header=None, names=COLUMN_NAMES, dtype=dtype)\n",
    "horse_colic_train.info() #columns without nulls counted manually\n",
    "print(f\"not null rows count: {horse_colic_train[horse_colic_train.notnull().all(1)].shape[0]}\")"
   ],
   "metadata": {
    "collapsed": false,
    "ExecuteTime": {
     "end_time": "2023-06-02T07:11:18.269865Z",
     "start_time": "2023-06-02T07:11:17.432402300Z"
    }
   }
  },
  {
   "cell_type": "markdown",
   "source": [
    "#### Column types\n",
    "All 27 columns are numerical. That's true only because all categorical columns are encoded. We will of course need to deal with it.\n",
    "Continuous variables are fine as they are (for now let's omit data scaling etc.)\n",
    "Categorical variables with ordinal scale will stay encoded as numbers, however some modifications may be required e.g. when encoding does not represent natural order well.\n",
    "Categorical variables with nominal scale will be decoded back to strings. These variables will be dummy encoded in next steps so using string is better approach - readability will be improved."
   ],
   "metadata": {
    "collapsed": false
   }
  },
  {
   "cell_type": "code",
   "execution_count": 3,
   "outputs": [
    {
     "data": {
      "text/plain": "1.0    180\n2.0    119\nName: surgery?, dtype: int64"
     },
     "execution_count": 3,
     "metadata": {},
     "output_type": "execute_result"
    }
   ],
   "source": [
    "#it can be binary encoded with '0' and '1'\n",
    "horse_colic_train['surgery?'].value_counts()"
   ],
   "metadata": {
    "collapsed": false,
    "ExecuteTime": {
     "end_time": "2023-06-02T07:13:25.701718400Z",
     "start_time": "2023-06-02T07:13:25.666384700Z"
    }
   }
  },
  {
   "cell_type": "code",
   "execution_count": 4,
   "outputs": [
    {
     "data": {
      "text/plain": "1    276\n9     24\nName: Age, dtype: int64"
     },
     "execution_count": 4,
     "metadata": {},
     "output_type": "execute_result"
    }
   ],
   "source": [
    "#2 possible age values - according to description '1' for adult horse (>6 month) and '2' for young horse (<6 months)\n",
    "#however current column values are different. we assume that '9' means that horse is young\n",
    "#it's also better to rename this column to 'adult?' and encode it binary\n",
    "horse_colic_train['Age'].value_counts()"
   ],
   "metadata": {
    "collapsed": false,
    "ExecuteTime": {
     "end_time": "2023-06-02T07:14:03.272931300Z",
     "start_time": "2023-06-02T07:14:03.256933800Z"
    }
   }
  },
  {
   "cell_type": "code",
   "execution_count": 5,
   "outputs": [
    {
     "data": {
      "text/plain": "0       530101\n1       534817\n2       530334\n3      5290409\n4       530255\n        ...   \n295     533886\n296     527702\n297     529386\n298     530612\n299     534618\nName: Hospital Number, Length: 300, dtype: int64"
     },
     "execution_count": 5,
     "metadata": {},
     "output_type": "execute_result"
    }
   ],
   "source": [
    "#this column indicates horse unique identifier, some rows are repeated because single horse may have more than one row in dataset\n",
    "#this column could be useful for creating an interesting time series but there is not enough data, so we will probably delete it.\n",
    "horse_colic_train['Hospital Number']"
   ],
   "metadata": {
    "collapsed": false,
    "ExecuteTime": {
     "end_time": "2023-06-02T07:15:38.159615600Z",
     "start_time": "2023-06-02T07:15:38.105409900Z"
    }
   }
  },
  {
   "cell_type": "code",
   "execution_count": 6,
   "outputs": [
    {
     "name": "stdout",
     "output_type": "stream",
     "text": [
      "       rectal temperature       pulse  respiratory rate\n",
      "count          240.000000  276.000000        242.000000\n",
      "mean            38.167917   71.913043         30.417355\n",
      "std              0.732289   28.630557         17.642231\n",
      "min             35.400000   30.000000          8.000000\n",
      "25%             37.800000   48.000000         18.500000\n",
      "50%             38.200000   64.000000         24.500000\n",
      "75%             38.500000   88.000000         36.000000\n",
      "max             40.800000  184.000000         96.000000\n",
      "255    184.0\n",
      "3      164.0\n",
      "55     160.0\n",
      "275    150.0\n",
      "41     150.0\n",
      "Name: pulse, dtype: float64\n",
      "39     96.0\n",
      "106    96.0\n",
      "269    90.0\n",
      "186    90.0\n",
      "244    88.0\n",
      "Name: respiratory rate, dtype: float64\n"
     ]
    }
   ],
   "source": [
    "#next 3 columns (rectal temperature, pulse, respiratory rate) are continuous. They will probably be very relevant because they determine horse base vital signs.\n",
    "#pulse and respiratory rate have max value much bigger than 3rd quartile but as we see these are not single cases, so we don't treat it as outliers\n",
    "print(horse_colic_train.iloc[:, 3:6].describe())\n",
    "print(horse_colic_train['pulse'].sort_values(ascending=False).head())\n",
    "print(horse_colic_train['respiratory rate'].sort_values(ascending=False).head())"
   ],
   "metadata": {
    "collapsed": false,
    "ExecuteTime": {
     "end_time": "2023-06-02T07:17:14.345715300Z",
     "start_time": "2023-06-02T07:17:14.321708500Z"
    }
   }
  },
  {
   "cell_type": "code",
   "execution_count": 7,
   "outputs": [
    {
     "data": {
      "text/plain": "3.0    109\n1.0     78\n2.0     30\n4.0     27\nName: temperature of extremities, dtype: int64"
     },
     "execution_count": 7,
     "metadata": {},
     "output_type": "execute_result"
    }
   ],
   "source": [
    "#this column is in ordinal scale, so we will keep it encoded. however we will need to change encoding because\n",
    "#current one doesn't represent natural order (1 = Normal, 2 = Warm, 3 = Cool, 4 = Cold)\n",
    "#in case of regression model we will probably delete this column because it's strongly correlated with rectal temperature\n",
    "horse_colic_train['temperature of extremities'].value_counts()"
   ],
   "metadata": {
    "collapsed": false,
    "ExecuteTime": {
     "end_time": "2023-06-02T07:17:46.740532800Z",
     "start_time": "2023-06-02T07:17:46.728524700Z"
    }
   }
  },
  {
   "cell_type": "code",
   "execution_count": 8,
   "outputs": [
    {
     "data": {
      "text/plain": "1.0    115\n3.0    103\n4.0      8\n2.0      5\nName: peripheral pulse, dtype: int64"
     },
     "execution_count": 8,
     "metadata": {},
     "output_type": "execute_result"
    }
   ],
   "source": [
    "#this column encoding should be also fixed, because for now it doesn't represent natural order (1 = normal, 2 = increased, 3 = reduced, 4 = absent)\n",
    "#we will consider removing this column because it's values are missing in 69 rows and it's very subjective\n",
    "horse_colic_train['peripheral pulse'].value_counts()"
   ],
   "metadata": {
    "collapsed": false,
    "ExecuteTime": {
     "end_time": "2023-06-02T07:18:07.741219400Z",
     "start_time": "2023-06-02T07:18:07.722935100Z"
    }
   }
  },
  {
   "cell_type": "code",
   "execution_count": 9,
   "outputs": [
    {
     "data": {
      "text/plain": "1.0    79\n3.0    58\n4.0    41\n2.0    30\n5.0    25\n6.0    20\nName: mucous membranes, dtype: int64"
     },
     "execution_count": 9,
     "metadata": {},
     "output_type": "execute_result"
    }
   ],
   "source": [
    "#this column ordering is also wrong, but this time we only need to swap '5' with '6'\n",
    "#encoding meaning - 1 = normal pink, 2 = bright pink, 3 = pale pink, 4 = pale cyanotic, 5 = bright red / injected, 6 = dark cyanotic\n",
    "#dataset description specifies 4 groups for these 6 values, so we would be able to reduce value count, however we will not do it\n",
    "#because we could lose some information and value count is not critical (ordinal scale = not dummies = no extra dimensions)\n",
    "horse_colic_train['mucous membranes'].value_counts()"
   ],
   "metadata": {
    "collapsed": false,
    "ExecuteTime": {
     "end_time": "2023-06-02T07:18:37.331070600Z",
     "start_time": "2023-06-02T07:18:37.323006600Z"
    }
   }
  },
  {
   "cell_type": "code",
   "execution_count": 10,
   "outputs": [
    {
     "name": "stdout",
     "output_type": "stream",
     "text": [
      "1.0    188\n",
      "2.0     78\n",
      "3.0      2\n",
      "Name: capillary refill time, dtype: int64\n",
      "1.0    188\n",
      "2.0     78\n",
      "Name: capillary refill time, dtype: int64\n"
     ]
    }
   ],
   "source": [
    "#this column can be encoded binary. according to dataset description there are only 2 possible values - '1' (< 3 seconds) and '2' (>= 3 seconds), so we have to delete values from rows with '3' (meaningless)\n",
    "#The Capillary refill test (CRT) is a rapid test used for assessing the blood flow through peripheral tissues.\n",
    "print(horse_colic_train['capillary refill time'].value_counts())\n",
    "\n",
    "horse_colic_train.loc[horse_colic_train['capillary refill time'] == 3, 'capillary refill time'] = None\n",
    "print(horse_colic_train['capillary refill time'].value_counts())"
   ],
   "metadata": {
    "collapsed": false,
    "ExecuteTime": {
     "end_time": "2023-06-02T07:19:19.057295400Z",
     "start_time": "2023-06-02T07:19:19.048291500Z"
    }
   }
  },
  {
   "cell_type": "code",
   "execution_count": 11,
   "outputs": [
    {
     "data": {
      "text/plain": "3.0    67\n2.0    59\n5.0    42\n4.0    39\n1.0    38\nName: pain, dtype: int64"
     },
     "execution_count": 11,
     "metadata": {},
     "output_type": "execute_result"
    }
   ],
   "source": [
    "#this column data is in ordinal scale but according to dataset description we should not treat this column as an ordered variable.\n",
    "# we will use dummy variables but before that we will decode it back to text representation (improved readability)\n",
    "horse_colic_train['pain'].value_counts()"
   ],
   "metadata": {
    "collapsed": false,
    "ExecuteTime": {
     "end_time": "2023-06-02T07:20:19.254846Z",
     "start_time": "2023-06-02T07:20:19.210813600Z"
    }
   }
  },
  {
   "cell_type": "code",
   "execution_count": 12,
   "outputs": [
    {
     "data": {
      "text/plain": "3.0    128\n4.0     73\n1.0     39\n2.0     16\nName: peristalsis, dtype: int64"
     },
     "execution_count": 12,
     "metadata": {},
     "output_type": "execute_result"
    }
   ],
   "source": [
    "#Peristalsis is the automatic wave-like movement of the muscles that line gastrointestinal tract.\n",
    "#this column will be treated like a nominal variable because it's values meaning is not clear\n",
    "horse_colic_train['peristalsis'].value_counts()"
   ],
   "metadata": {
    "collapsed": false,
    "ExecuteTime": {
     "end_time": "2023-06-02T07:20:37.674935100Z",
     "start_time": "2023-06-02T07:20:37.659241100Z"
    }
   }
  },
  {
   "cell_type": "code",
   "execution_count": 13,
   "outputs": [
    {
     "data": {
      "text/plain": "1.0    76\n2.0    65\n3.0    65\n4.0    38\nName: abdominal distension, dtype: int64"
     },
     "execution_count": 13,
     "metadata": {},
     "output_type": "execute_result"
    }
   ],
   "source": [
    "#this column is an ordinal variable and finally its encoded correctly (1 = none, 2 = slight, 3 = moderate, 4 = severe) - however we could subtract one from each value to start encoding from 0\n",
    "#moreover this variable is marked as an IMPORTANT parameter in dataset description\n",
    "horse_colic_train['abdominal distension'].value_counts()"
   ],
   "metadata": {
    "collapsed": false,
    "ExecuteTime": {
     "end_time": "2023-06-02T07:20:58.930151700Z",
     "start_time": "2023-06-02T07:20:58.898721400Z"
    }
   }
  },
  {
   "cell_type": "code",
   "execution_count": 14,
   "outputs": [
    {
     "data": {
      "text/plain": "2.0    102\n1.0     71\n3.0     23\nName: nasogastric tube, dtype: int64"
     },
     "execution_count": 14,
     "metadata": {},
     "output_type": "execute_result"
    }
   ],
   "source": [
    "#according to dataset description this column refers to any gas coming out of the tube\n",
    "#encoding is correct with a good order (1 = none, 2 = slight, 3 = significant)\n",
    "horse_colic_train['nasogastric tube'].value_counts()"
   ],
   "metadata": {
    "collapsed": false,
    "ExecuteTime": {
     "end_time": "2023-06-02T07:21:13.821034200Z",
     "start_time": "2023-06-02T07:21:13.800024300Z"
    }
   }
  },
  {
   "cell_type": "code",
   "execution_count": 15,
   "outputs": [
    {
     "data": {
      "text/plain": "1.0    120\n3.0     39\n2.0     35\nName: nasogastric reflux, dtype: int64"
     },
     "execution_count": 15,
     "metadata": {},
     "output_type": "execute_result"
    }
   ],
   "source": [
    "#encoding order is not correct (1 = none, 2 = > 1 liter, 3 = < 1 liter)\n",
    "horse_colic_train['nasogastric reflux'].value_counts()"
   ],
   "metadata": {
    "collapsed": false,
    "ExecuteTime": {
     "end_time": "2023-06-02T07:21:38.029921900Z",
     "start_time": "2023-06-02T07:21:37.998722100Z"
    }
   }
  },
  {
   "cell_type": "code",
   "execution_count": 16,
   "outputs": [
    {
     "data": {
      "text/plain": "count    53.000000\nmean      4.707547\nstd       1.982311\nmin       1.000000\n25%       3.000000\n50%       5.000000\n75%       6.500000\nmax       7.500000\nName: nasogastric reflux PH, dtype: float64"
     },
     "execution_count": 16,
     "metadata": {},
     "output_type": "execute_result"
    }
   ],
   "source": [
    "#this column has values in only 53 rows! we will probably delete it\n",
    "horse_colic_train['nasogastric reflux PH'].describe()"
   ],
   "metadata": {
    "collapsed": false,
    "ExecuteTime": {
     "end_time": "2023-06-02T07:21:58.376720Z",
     "start_time": "2023-06-02T07:21:58.352968400Z"
    }
   }
  },
  {
   "cell_type": "code",
   "execution_count": 17,
   "outputs": [
    {
     "name": "stdout",
     "output_type": "stream",
     "text": [
      "4.0    79\n",
      "1.0    57\n",
      "3.0    49\n",
      "2.0    13\n",
      "Name: rectal examination - feces, dtype: int64\n",
      "5.0    79\n",
      "4.0    43\n",
      "1.0    28\n",
      "2.0    19\n",
      "3.0    13\n",
      "Name: abdomen, dtype: int64\n"
     ]
    }
   ],
   "source": [
    "#these columns will be encoded with dummy variables\n",
    "print(horse_colic_train['rectal examination - feces'].value_counts())\n",
    "print(horse_colic_train['abdomen'].value_counts())"
   ],
   "metadata": {
    "collapsed": false,
    "ExecuteTime": {
     "end_time": "2023-06-02T07:22:13.605700900Z",
     "start_time": "2023-06-02T07:22:13.589606700Z"
    }
   }
  },
  {
   "cell_type": "code",
   "execution_count": 18,
   "outputs": [
    {
     "name": "stdout",
     "output_type": "stream",
     "text": [
      "count    271.000000\n",
      "mean      46.295203\n",
      "std       10.419335\n",
      "min       23.000000\n",
      "25%       38.000000\n",
      "50%       45.000000\n",
      "75%       52.000000\n",
      "max       75.000000\n",
      "Name: packed cell volume, dtype: float64\n",
      "144    75.0\n",
      "151    75.0\n",
      "4      74.0\n",
      "49     73.0\n",
      "35     73.0\n",
      "Name: packed cell volume, dtype: float64\n"
     ]
    }
   ],
   "source": [
    "#this column is a continuous variable, values look good - probably no outliers\n",
    "print(horse_colic_train['packed cell volume'].describe())\n",
    "print(horse_colic_train['packed cell volume'].sort_values(ascending=False).head())"
   ],
   "metadata": {
    "collapsed": false,
    "ExecuteTime": {
     "end_time": "2023-06-01T19:51:40.960885Z",
     "start_time": "2023-06-01T19:51:40.887177700Z"
    }
   }
  },
  {
   "cell_type": "code",
   "execution_count": 18,
   "outputs": [
    {
     "name": "stdout",
     "output_type": "stream",
     "text": [
      "count    267.000000\n",
      "mean      24.456929\n",
      "std       27.475009\n",
      "min        3.300000\n",
      "25%        6.500000\n",
      "50%        7.500000\n",
      "75%       57.000000\n",
      "max       89.000000\n",
      "Name: total protein, dtype: float64\n",
      "208    89.0\n",
      "90     86.0\n",
      "1      85.0\n",
      "63     82.0\n",
      "14     81.0\n",
      "Name: total protein, dtype: float64\n"
     ]
    }
   ],
   "source": [
    "#this column is a continuous variable, values also look good - probably no outliers\n",
    "print(horse_colic_train['total protein'].describe())\n",
    "print(horse_colic_train['total protein'].sort_values(ascending=False).head())"
   ],
   "metadata": {
    "collapsed": false,
    "ExecuteTime": {
     "end_time": "2023-06-02T07:22:57.208350700Z",
     "start_time": "2023-06-02T07:22:57.200341300Z"
    }
   }
  },
  {
   "cell_type": "code",
   "execution_count": 19,
   "outputs": [
    {
     "name": "stdout",
     "output_type": "stream",
     "text": [
      "2.0    48\n",
      "3.0    46\n",
      "1.0    41\n",
      "Name: abdominocentesis appearance, dtype: int64\n",
      "count    102.000000\n",
      "mean       3.019608\n",
      "std        1.968567\n",
      "min        0.100000\n",
      "25%        2.000000\n",
      "50%        2.250000\n",
      "75%        3.900000\n",
      "max       10.100000\n",
      "Name: abdomcentesis total protein, dtype: float64\n"
     ]
    }
   ],
   "source": [
    "#we will remove these columns because they have many missing values\n",
    "print(horse_colic_train['abdominocentesis appearance'].value_counts())\n",
    "print(horse_colic_train['abdomcentesis total protein'].describe())"
   ],
   "metadata": {
    "collapsed": false,
    "ExecuteTime": {
     "end_time": "2023-06-02T07:23:08.437391100Z",
     "start_time": "2023-06-02T07:23:08.398997900Z"
    }
   }
  },
  {
   "cell_type": "code",
   "execution_count": 21,
   "outputs": [
    {
     "data": {
      "text/plain": "1.0    178\n2.0     77\n3.0     44\nName: outcome, dtype: int64"
     },
     "execution_count": 21,
     "metadata": {},
     "output_type": "execute_result"
    }
   ],
   "source": [
    "#we want to predict the value of this column - its missing in one row in training set so this row will be removed\n",
    "#we will also decode it back to string representation (1 = lived, 2 = died, 3 = was euthanized)\n",
    "horse_colic_train['outcome'].value_counts()"
   ],
   "metadata": {
    "collapsed": false,
    "ExecuteTime": {
     "end_time": "2023-06-02T07:23:57.664554600Z",
     "start_time": "2023-06-02T07:23:57.615711Z"
    }
   }
  },
  {
   "cell_type": "code",
   "execution_count": 22,
   "outputs": [
    {
     "name": "stdout",
     "output_type": "stream",
     "text": [
      "1    191\n",
      "2    109\n",
      "Name: surgical lesion?, dtype: int64\n"
     ]
    }
   ],
   "source": [
    "#this column indicates whether the horse had a lesion. it will be removed because we will be more interested in total number of lesion - see below\n",
    "print(horse_colic_train['surgical lesion?'].value_counts())"
   ],
   "metadata": {
    "collapsed": false,
    "ExecuteTime": {
     "end_time": "2023-06-02T07:24:05.496806Z",
     "start_time": "2023-06-02T07:24:05.481179600Z"
    }
   }
  },
  {
   "cell_type": "code",
   "execution_count": 23,
   "outputs": [
    {
     "name": "stdout",
     "output_type": "stream",
     "text": [
      "56 horse(s) with 0 lesion(s)\n",
      "237 horse(s) with 1 lesion(s)\n",
      "6 horse(s) with 2 lesion(s)\n",
      "1 horse(s) with 3 lesion(s)\n",
      "-------------------------\n",
      "total=300\n"
     ]
    }
   ],
   "source": [
    "#3 next columns indicates horse's lesions. there are max 3 lesions listed in dataset but horse can have 0, 1, 2 or 3 lesions. statistics are computed and showed below\n",
    "_lesions = horse_colic_train.loc[:, ['lesion type 1', 'lesion type 2', 'lesion type 3']]\n",
    "_lesions_counts = [\n",
    "    _lesions[_lesions.iloc[:, 0] == '00000'].count()[0],\n",
    "    _lesions[(_lesions.iloc[:,0] != '00000') & (_lesions.iloc[:,1] == '00000')].count()[0],\n",
    "    _lesions[(_lesions.iloc[:,0] != '00000') & (_lesions.iloc[:,1] != '00000') & (_lesions.iloc[:,2] == '00000')].count()[0],\n",
    "    _lesions[(_lesions.iloc[:,0] != '00000') & (_lesions.iloc[:,1] != '00000') & (_lesions.iloc[:,2] != '00000')].count()[0]\n",
    "]\n",
    "\n",
    "for i, count in zip(range(4), _lesions_counts):\\\n",
    "    print(f\"{count} horse(s) with {i} lesion(s)\")\n",
    "print(f\"-------------------------\\ntotal={sum(_lesions_counts)}\")"
   ],
   "metadata": {
    "collapsed": false,
    "ExecuteTime": {
     "end_time": "2023-06-02T07:24:14.795312900Z",
     "start_time": "2023-06-02T07:24:14.767311600Z"
    }
   }
  },
  {
   "cell_type": "code",
   "execution_count": 24,
   "outputs": [
    {
     "data": {
      "text/plain": "  lesion type 1 lesion type 2 lesion type 3\n0         11300         00000         00000\n1         02208         00000         00000\n2         00000         00000         00000\n3         02208         00000         00000\n4         04300         00000         00000",
      "text/html": "<div>\n<style scoped>\n    .dataframe tbody tr th:only-of-type {\n        vertical-align: middle;\n    }\n\n    .dataframe tbody tr th {\n        vertical-align: top;\n    }\n\n    .dataframe thead th {\n        text-align: right;\n    }\n</style>\n<table border=\"1\" class=\"dataframe\">\n  <thead>\n    <tr style=\"text-align: right;\">\n      <th></th>\n      <th>lesion type 1</th>\n      <th>lesion type 2</th>\n      <th>lesion type 3</th>\n    </tr>\n  </thead>\n  <tbody>\n    <tr>\n      <th>0</th>\n      <td>11300</td>\n      <td>00000</td>\n      <td>00000</td>\n    </tr>\n    <tr>\n      <th>1</th>\n      <td>02208</td>\n      <td>00000</td>\n      <td>00000</td>\n    </tr>\n    <tr>\n      <th>2</th>\n      <td>00000</td>\n      <td>00000</td>\n      <td>00000</td>\n    </tr>\n    <tr>\n      <th>3</th>\n      <td>02208</td>\n      <td>00000</td>\n      <td>00000</td>\n    </tr>\n    <tr>\n      <th>4</th>\n      <td>04300</td>\n      <td>00000</td>\n      <td>00000</td>\n    </tr>\n  </tbody>\n</table>\n</div>"
     },
     "execution_count": 24,
     "metadata": {},
     "output_type": "execute_result"
    }
   ],
   "source": [
    "#moreover each lesion is composed of 4 parts: site of lesion (11 possible values),\n",
    "#lesion type (4 possible values), lesion subtype (3 possible values) and \"lesion specific code\" (11 possible values).\n",
    "#this in total gives (11 + 4 + 3 + 11) * 3 = 87 dummy variables!\n",
    "#its definitely too much so our approach will use only one lesion (the recent one) details and total number of lesions.\n",
    "_lesions.head()"
   ],
   "metadata": {
    "collapsed": false,
    "ExecuteTime": {
     "end_time": "2023-06-02T07:25:15.287746500Z",
     "start_time": "2023-06-02T07:25:15.269742800Z"
    }
   }
  },
  {
   "cell_type": "code",
   "execution_count": 25,
   "outputs": [
    {
     "name": "stdout",
     "output_type": "stream",
     "text": [
      "5    300\n",
      "Name: lesion type 1, dtype: int64\n",
      "5    300\n",
      "Name: lesion type 2, dtype: int64\n",
      "5    299\n",
      "6      1\n",
      "Name: lesion type 3, dtype: int64\n"
     ]
    }
   ],
   "source": [
    "#lesion parts are encoded with positional numbers but its length is not fixed. 1st part is can have 1 or 2 digits (range from 00 to 11), 2nd and 3rd are fixed to 1 digit, 4th part can have 1 or 2 digits (range from 0 to 10).\n",
    "#As we see we practically always have 5 digits. In this case if 2 first digits are in 1t part range then we will\n",
    "#always interpret them as 1st part. Else we will interpret 2 last digits as a 4th part.\n",
    "print(_lesions['lesion type 1'].apply(lambda x: len(x)).value_counts())\n",
    "print(_lesions['lesion type 2'].apply(lambda x: len(x)).value_counts())\n",
    "print(_lesions['lesion type 3'].apply(lambda x: len(x)).value_counts())"
   ],
   "metadata": {
    "collapsed": false,
    "ExecuteTime": {
     "end_time": "2023-06-02T07:25:43.145304200Z",
     "start_time": "2023-06-02T07:25:43.131035500Z"
    }
   }
  },
  {
   "cell_type": "code",
   "execution_count": 26,
   "outputs": [
    {
     "data": {
      "text/plain": "2    201\n1     99\nName: cp_data, dtype: int64"
     },
     "execution_count": 26,
     "metadata": {},
     "output_type": "execute_result"
    }
   ],
   "source": [
    "#meaning of this column is not clear, so it will be deleted\n",
    "horse_colic_train['cp_data'].value_counts()"
   ],
   "metadata": {
    "collapsed": false,
    "ExecuteTime": {
     "end_time": "2023-06-02T07:26:01.326503600Z",
     "start_time": "2023-06-02T07:26:01.267163100Z"
    }
   }
  },
  {
   "cell_type": "markdown",
   "source": [
    "#### Test set quick inspection\n",
    "Now we will look at test set. We will check if every column with no NA values in train set is also filled in test set. If not and we don't handle this now it could lead to problems in model evaluation. We won't touch test set! If its true we will adjust our pipe in next section."
   ],
   "metadata": {
    "collapsed": false
   }
  },
  {
   "cell_type": "code",
   "execution_count": 27,
   "outputs": [
    {
     "name": "stdout",
     "output_type": "stream",
     "text": [
      "<class 'pandas.core.frame.DataFrame'>\n",
      "RangeIndex: 68 entries, 0 to 67\n",
      "Data columns (total 28 columns):\n",
      " #   Column                       Non-Null Count  Dtype  \n",
      "---  ------                       --------------  -----  \n",
      " 0   surgery?                     67 non-null     float64\n",
      " 1   Age                          68 non-null     int64  \n",
      " 2   Hospital Number              68 non-null     int64  \n",
      " 3   rectal temperature           59 non-null     float64\n",
      " 4   pulse                        66 non-null     float64\n",
      " 5   respiratory rate             55 non-null     float64\n",
      " 6   temperature of extremities   59 non-null     float64\n",
      " 7   peripheral pulse             54 non-null     float64\n",
      " 8   mucous membranes             67 non-null     float64\n",
      " 9   capillary refill time        62 non-null     float64\n",
      " 10  pain                         60 non-null     float64\n",
      " 11  peristalsis                  60 non-null     float64\n",
      " 12  abdominal distension         59 non-null     float64\n",
      " 13  nasogastric tube             41 non-null     float64\n",
      " 14  nasogastric reflux           41 non-null     float64\n",
      " 15  nasogastric reflux PH        16 non-null     float64\n",
      " 16  rectal examination - feces   42 non-null     float64\n",
      " 17  abdomen                      43 non-null     float64\n",
      " 18  packed cell volume           60 non-null     float64\n",
      " 19  total protein                58 non-null     float64\n",
      " 20  abdominocentesis appearance  39 non-null     float64\n",
      " 21  abdomcentesis total protein  31 non-null     float64\n",
      " 22  outcome                      67 non-null     float64\n",
      " 23  surgical lesion?             68 non-null     int64  \n",
      " 24  lesion type 1                68 non-null     object \n",
      " 25  lesion type 2                68 non-null     object \n",
      " 26  lesion type 3                68 non-null     object \n",
      " 27  cp_data                      68 non-null     int64  \n",
      "dtypes: float64(21), int64(4), object(3)\n",
      "memory usage: 15.0+ KB\n"
     ]
    }
   ],
   "source": [
    "horse_colic_test.info()"
   ],
   "metadata": {
    "collapsed": false,
    "ExecuteTime": {
     "end_time": "2023-06-02T07:27:05.734523100Z",
     "start_time": "2023-06-02T07:27:05.725093Z"
    }
   }
  },
  {
   "cell_type": "code",
   "execution_count": 28,
   "outputs": [
    {
     "data": {
      "text/plain": "1.0    44\n2.0    18\nName: capillary refill time, dtype: int64"
     },
     "execution_count": 28,
     "metadata": {},
     "output_type": "execute_result"
    }
   ],
   "source": [
    "#we had invalid value in this column in train set but in test set its fine\n",
    "horse_colic_test['capillary refill time'].value_counts()"
   ],
   "metadata": {
    "collapsed": false,
    "ExecuteTime": {
     "end_time": "2023-06-02T07:27:12.866882900Z",
     "start_time": "2023-06-02T07:27:12.850875800Z"
    }
   }
  },
  {
   "cell_type": "code",
   "execution_count": 29,
   "outputs": [
    {
     "data": {
      "text/plain": "surgery?                       False\nAge                            False\nHospital Number                False\nrectal temperature             False\npulse                          False\nrespiratory rate               False\ntemperature of extremities     False\nperipheral pulse               False\nmucous membranes               False\ncapillary refill time          False\npain                           False\nperistalsis                    False\nabdominal distension           False\nnasogastric tube               False\nnasogastric reflux             False\nnasogastric reflux PH          False\nrectal examination - feces     False\nabdomen                        False\npacked cell volume             False\ntotal protein                  False\nabdominocentesis appearance    False\nabdomcentesis total protein    False\noutcome                        False\nsurgical lesion?               False\nlesion type 1                  False\nlesion type 2                  False\nlesion type 3                  False\ncp_data                        False\ndtype: bool"
     },
     "execution_count": 29,
     "metadata": {},
     "output_type": "execute_result"
    }
   ],
   "source": [
    "#columns with na in test AND columns with NOT na in train (we don't care about opposite direction)\n",
    "horse_colic_test.isna().any() & ~horse_colic_train.isna().any()\n",
    "#all columns with False so our test set if fine"
   ],
   "metadata": {
    "collapsed": false,
    "ExecuteTime": {
     "end_time": "2023-06-02T07:27:27.550807600Z",
     "start_time": "2023-06-02T07:27:27.535235700Z"
    }
   }
  },
  {
   "cell_type": "markdown",
   "source": [
    "### Data pre-processing\n",
    "Now, based on last section, we will prepare our data for machine learning algorithms. We will use sklearn Pipeline so this steps will be reusable (and used for test set in evaluation phase)."
   ],
   "metadata": {
    "collapsed": false
   }
  },
  {
   "cell_type": "markdown",
   "source": [
    "#### Column dropping\n",
    "In this step we will drop columns which were marked to drop during analysis."
   ],
   "metadata": {
    "collapsed": false
   }
  },
  {
   "cell_type": "code",
   "execution_count": 30,
   "outputs": [
    {
     "name": "stdout",
     "output_type": "stream",
     "text": [
      "<class 'pandas.core.frame.DataFrame'>\n",
      "RangeIndex: 300 entries, 0 to 299\n",
      "Data columns (total 20 columns):\n",
      " #   Column                      Non-Null Count  Dtype  \n",
      "---  ------                      --------------  -----  \n",
      " 0   surgery?                    299 non-null    float64\n",
      " 1   Age                         300 non-null    int64  \n",
      " 2   rectal temperature          240 non-null    float64\n",
      " 3   pulse                       276 non-null    float64\n",
      " 4   respiratory rate            242 non-null    float64\n",
      " 5   mucous membranes            253 non-null    float64\n",
      " 6   capillary refill time       266 non-null    float64\n",
      " 7   pain                        245 non-null    float64\n",
      " 8   peristalsis                 256 non-null    float64\n",
      " 9   abdominal distension        244 non-null    float64\n",
      " 10  nasogastric tube            196 non-null    float64\n",
      " 11  nasogastric reflux          194 non-null    float64\n",
      " 12  rectal examination - feces  198 non-null    float64\n",
      " 13  abdomen                     182 non-null    float64\n",
      " 14  packed cell volume          271 non-null    float64\n",
      " 15  total protein               267 non-null    float64\n",
      " 16  outcome                     299 non-null    float64\n",
      " 17  lesion type 1               300 non-null    object \n",
      " 18  lesion type 2               300 non-null    object \n",
      " 19  lesion type 3               300 non-null    object \n",
      "dtypes: float64(16), int64(1), object(3)\n",
      "memory usage: 47.0+ KB\n"
     ]
    }
   ],
   "source": [
    "#https://stackoverflow.com/questions/68402691/adding-dropping-column-instance-into-a-pipeline\n",
    "class ColumnDropperTransformer:\n",
    "    def __init__(self,columns):\n",
    "        self.columns=columns\n",
    "\n",
    "    def transform(self,X,y=None):\n",
    "        return X.drop(self.columns,axis=1)\n",
    "\n",
    "    def fit(self, X, y=None):\n",
    "        return self\n",
    "\n",
    "columnDropper = ColumnDropperTransformer(['Hospital Number','temperature of extremities',\n",
    "                                          'peripheral pulse', 'nasogastric reflux PH',\n",
    "                                          'abdominocentesis appearance', 'abdomcentesis total protein',\n",
    "                                          'surgical lesion?', 'cp_data'\n",
    "                                          ])\n",
    "\n",
    "#We create copy of training set because we don't want to use transformer on training set yet.\n",
    "#We will later use all transformers on original training set at once with Pipeline.\n",
    "horse_colic_train_cp = horse_colic_train.copy()\n",
    "horse_colic_train_cp = columnDropper.transform(horse_colic_train_cp)\n",
    "horse_colic_train_cp.info()"
   ],
   "metadata": {
    "collapsed": false,
    "ExecuteTime": {
     "end_time": "2023-06-02T07:28:38.731465100Z",
     "start_time": "2023-06-02T07:28:38.713857400Z"
    }
   }
  },
  {
   "cell_type": "markdown",
   "source": [
    "#### Row dropping\n",
    "In this step we will drop row which is the only row with missing values in 2 particular columns - 'surgery?' and 'outcome'.\n",
    "By this action we lose only one observation (row) but we fix na values in 2 columns."
   ],
   "metadata": {
    "collapsed": false
   }
  },
  {
   "cell_type": "code",
   "execution_count": 31,
   "outputs": [
    {
     "name": "stdout",
     "output_type": "stream",
     "text": [
      "<class 'pandas.core.frame.DataFrame'>\n",
      "Int64Index: 299 entries, 0 to 299\n",
      "Data columns (total 20 columns):\n",
      " #   Column                      Non-Null Count  Dtype  \n",
      "---  ------                      --------------  -----  \n",
      " 0   surgery?                    299 non-null    float64\n",
      " 1   Age                         299 non-null    int64  \n",
      " 2   rectal temperature          239 non-null    float64\n",
      " 3   pulse                       275 non-null    float64\n",
      " 4   respiratory rate            241 non-null    float64\n",
      " 5   mucous membranes            252 non-null    float64\n",
      " 6   capillary refill time       265 non-null    float64\n",
      " 7   pain                        244 non-null    float64\n",
      " 8   peristalsis                 255 non-null    float64\n",
      " 9   abdominal distension        243 non-null    float64\n",
      " 10  nasogastric tube            195 non-null    float64\n",
      " 11  nasogastric reflux          193 non-null    float64\n",
      " 12  rectal examination - feces  197 non-null    float64\n",
      " 13  abdomen                     181 non-null    float64\n",
      " 14  packed cell volume          270 non-null    float64\n",
      " 15  total protein               266 non-null    float64\n",
      " 16  outcome                     299 non-null    float64\n",
      " 17  lesion type 1               299 non-null    object \n",
      " 18  lesion type 2               299 non-null    object \n",
      " 19  lesion type 3               299 non-null    object \n",
      "dtypes: float64(16), int64(1), object(3)\n",
      "memory usage: 49.1+ KB\n"
     ]
    }
   ],
   "source": [
    "class RowDropperTransformer:\n",
    "    def __init__(self,columns):\n",
    "        self.columns=columns\n",
    "\n",
    "    def transform(self,X,y=None):\n",
    "        return X.dropna(subset = self.columns)\n",
    "\n",
    "    def fit(self, X, y=None):\n",
    "        return self\n",
    "\n",
    "rowDropper = RowDropperTransformer(['surgery?', 'outcome'])\n",
    "horse_colic_train_cp = rowDropper.transform(horse_colic_train_cp)\n",
    "horse_colic_train_cp.info()"
   ],
   "metadata": {
    "collapsed": false,
    "ExecuteTime": {
     "end_time": "2023-06-02T07:29:09.051022600Z",
     "start_time": "2023-06-02T07:29:08.989730Z"
    }
   }
  },
  {
   "cell_type": "markdown",
   "source": [
    "#### Filling missing values\n",
    "In this step we will fit missing values in all columns. We will do it with 3 different ways:\n",
    "- filling continuous columns with mean,\n",
    "- filling discrete columns with mode,\n",
    "- and finally we will fill one important column with KNN estimator.\n",
    "\n",
    "KNNImputer works only as regressor, so later we will have to convert it's output to discrete variable.\n",
    "To specify different imputers for individual columns we will use ColumnTransformer. ColumnTransformer changes column names, so we will create CustomColumnTransformer which doesn't."
   ],
   "metadata": {
    "collapsed": false
   }
  },
  {
   "cell_type": "code",
   "execution_count": 32,
   "outputs": [],
   "source": [
    "from sklearn.compose import ColumnTransformer\n",
    "\n",
    "class CustomColumnTransformer:\n",
    "    def __init__(self, transformations, remainder=\"passthrough\", names_mapper = lambda x: x):\n",
    "        self.transformations=transformations\n",
    "        self.remainder = remainder\n",
    "        self.names_mapper = names_mapper #it will be useful in later CustomColumnTransformer usage\n",
    "\n",
    "    def transform(self,X,y=None):\n",
    "        ct =  ColumnTransformer(self.transformations, remainder=self.remainder).set_output(transform=\"pandas\")\n",
    "        result = ct.fit_transform(X)\n",
    "        #Result columns names are determined by \"{transformation_name}__{original_column_name}\", so we need to delete this first part.\n",
    "        result.columns = [self.names_mapper(name[name.index('__')+2:]) for name in ct.get_feature_names_out()]\n",
    "        return result\n",
    "\n",
    "    def fit(self, X, y=None):\n",
    "        return self"
   ],
   "metadata": {
    "collapsed": false,
    "ExecuteTime": {
     "end_time": "2023-06-02T07:31:06.608058100Z",
     "start_time": "2023-06-02T07:31:05.784437400Z"
    }
   }
  },
  {
   "cell_type": "code",
   "execution_count": 33,
   "outputs": [
    {
     "name": "stdout",
     "output_type": "stream",
     "text": [
      "<class 'pandas.core.frame.DataFrame'>\n",
      "Int64Index: 299 entries, 0 to 299\n",
      "Data columns (total 20 columns):\n",
      " #   Column                      Non-Null Count  Dtype  \n",
      "---  ------                      --------------  -----  \n",
      " 0   rectal temperature          299 non-null    float64\n",
      " 1   pulse                       299 non-null    float64\n",
      " 2   respiratory rate            299 non-null    float64\n",
      " 3   packed cell volume          299 non-null    float64\n",
      " 4   total protein               299 non-null    float64\n",
      " 5   mucous membranes            299 non-null    float64\n",
      " 6   capillary refill time       299 non-null    float64\n",
      " 7   pain                        299 non-null    float64\n",
      " 8   peristalsis                 299 non-null    float64\n",
      " 9   nasogastric tube            299 non-null    float64\n",
      " 10  nasogastric reflux          299 non-null    float64\n",
      " 11  rectal examination - feces  299 non-null    float64\n",
      " 12  abdomen                     299 non-null    float64\n",
      " 13  abdominal distension        299 non-null    float64\n",
      " 14  surgery?                    299 non-null    float64\n",
      " 15  Age                         299 non-null    int64  \n",
      " 16  outcome                     299 non-null    float64\n",
      " 17  lesion type 1               299 non-null    object \n",
      " 18  lesion type 2               299 non-null    object \n",
      " 19  lesion type 3               299 non-null    object \n",
      "dtypes: float64(16), int64(1), object(3)\n",
      "memory usage: 49.1+ KB\n"
     ]
    }
   ],
   "source": [
    "from sklearn.impute import SimpleImputer, KNNImputer\n",
    "\n",
    "#these columns will be imputed with a mean\n",
    "continuousColumns = ['rectal temperature', 'pulse', 'respiratory rate', 'packed cell volume', 'total protein', ]\n",
    "#these columns will be imputed with a median\n",
    "discreteColumns = ['mucous membranes', 'capillary refill time', 'pain', 'peristalsis', 'nasogastric tube', 'nasogastric reflux', 'rectal examination - feces', 'abdomen', ]\n",
    "#this column will be imputed with a KNN because its marked as an important parameter\n",
    "knnColumns = ['abdominal distension']\n",
    "\n",
    "fillNaTransformer = CustomColumnTransformer([\n",
    "    ('fillWithMean', SimpleImputer(strategy='mean'), continuousColumns),\n",
    "    ('fillWithMedian', SimpleImputer(strategy=\"most_frequent\"), discreteColumns),\n",
    "    ('fillWithKnn', KNNImputer(n_neighbors=3), knnColumns)\n",
    "])\n",
    "\n",
    "horse_colic_train_cp = fillNaTransformer.transform(horse_colic_train_cp)\n",
    "horse_colic_train_cp.info()"
   ],
   "metadata": {
    "collapsed": false,
    "ExecuteTime": {
     "end_time": "2023-06-02T07:31:14.678901600Z",
     "start_time": "2023-06-02T07:31:14.500131900Z"
    }
   }
  },
  {
   "cell_type": "code",
   "execution_count": 34,
   "outputs": [
    {
     "data": {
      "text/plain": "   rectal temperature  pulse  respiratory rate  packed cell volume  \\\n0                38.5   66.0              28.0                45.0   \n1                39.2   88.0              20.0                50.0   \n2                38.3   40.0              24.0                33.0   \n3                39.1  164.0              84.0                48.0   \n4                37.3  104.0              35.0                74.0   \n\n   total protein  mucous membranes  capillary refill time  pain  peristalsis  \\\n0            8.4               1.0                    2.0   5.0          4.0   \n1           85.0               4.0                    1.0   3.0          4.0   \n2            6.7               3.0                    1.0   3.0          3.0   \n3            7.2               6.0                    2.0   2.0          4.0   \n4            7.4               6.0                    2.0   3.0          3.0   \n\n   nasogastric tube  nasogastric reflux  rectal examination - feces  abdomen  \\\n0               2.0                 1.0                         3.0      5.0   \n1               2.0                 1.0                         4.0      2.0   \n2               2.0                 1.0                         1.0      1.0   \n3               1.0                 2.0                         3.0      5.0   \n4               2.0                 1.0                         4.0      5.0   \n\n   abdominal distension  surgery?  Age  outcome lesion type 1 lesion type 2  \\\n0              4.000000       2.0    1      2.0         11300         00000   \n1              2.000000       1.0    1      3.0         02208         00000   \n2              1.000000       2.0    1      1.0         00000         00000   \n3              4.000000       1.0    9      2.0         02208         00000   \n4              2.271605       2.0    1      2.0         04300         00000   \n\n  lesion type 3  \n0         00000  \n1         00000  \n2         00000  \n3         00000  \n4         00000  ",
      "text/html": "<div>\n<style scoped>\n    .dataframe tbody tr th:only-of-type {\n        vertical-align: middle;\n    }\n\n    .dataframe tbody tr th {\n        vertical-align: top;\n    }\n\n    .dataframe thead th {\n        text-align: right;\n    }\n</style>\n<table border=\"1\" class=\"dataframe\">\n  <thead>\n    <tr style=\"text-align: right;\">\n      <th></th>\n      <th>rectal temperature</th>\n      <th>pulse</th>\n      <th>respiratory rate</th>\n      <th>packed cell volume</th>\n      <th>total protein</th>\n      <th>mucous membranes</th>\n      <th>capillary refill time</th>\n      <th>pain</th>\n      <th>peristalsis</th>\n      <th>nasogastric tube</th>\n      <th>nasogastric reflux</th>\n      <th>rectal examination - feces</th>\n      <th>abdomen</th>\n      <th>abdominal distension</th>\n      <th>surgery?</th>\n      <th>Age</th>\n      <th>outcome</th>\n      <th>lesion type 1</th>\n      <th>lesion type 2</th>\n      <th>lesion type 3</th>\n    </tr>\n  </thead>\n  <tbody>\n    <tr>\n      <th>0</th>\n      <td>38.5</td>\n      <td>66.0</td>\n      <td>28.0</td>\n      <td>45.0</td>\n      <td>8.4</td>\n      <td>1.0</td>\n      <td>2.0</td>\n      <td>5.0</td>\n      <td>4.0</td>\n      <td>2.0</td>\n      <td>1.0</td>\n      <td>3.0</td>\n      <td>5.0</td>\n      <td>4.000000</td>\n      <td>2.0</td>\n      <td>1</td>\n      <td>2.0</td>\n      <td>11300</td>\n      <td>00000</td>\n      <td>00000</td>\n    </tr>\n    <tr>\n      <th>1</th>\n      <td>39.2</td>\n      <td>88.0</td>\n      <td>20.0</td>\n      <td>50.0</td>\n      <td>85.0</td>\n      <td>4.0</td>\n      <td>1.0</td>\n      <td>3.0</td>\n      <td>4.0</td>\n      <td>2.0</td>\n      <td>1.0</td>\n      <td>4.0</td>\n      <td>2.0</td>\n      <td>2.000000</td>\n      <td>1.0</td>\n      <td>1</td>\n      <td>3.0</td>\n      <td>02208</td>\n      <td>00000</td>\n      <td>00000</td>\n    </tr>\n    <tr>\n      <th>2</th>\n      <td>38.3</td>\n      <td>40.0</td>\n      <td>24.0</td>\n      <td>33.0</td>\n      <td>6.7</td>\n      <td>3.0</td>\n      <td>1.0</td>\n      <td>3.0</td>\n      <td>3.0</td>\n      <td>2.0</td>\n      <td>1.0</td>\n      <td>1.0</td>\n      <td>1.0</td>\n      <td>1.000000</td>\n      <td>2.0</td>\n      <td>1</td>\n      <td>1.0</td>\n      <td>00000</td>\n      <td>00000</td>\n      <td>00000</td>\n    </tr>\n    <tr>\n      <th>3</th>\n      <td>39.1</td>\n      <td>164.0</td>\n      <td>84.0</td>\n      <td>48.0</td>\n      <td>7.2</td>\n      <td>6.0</td>\n      <td>2.0</td>\n      <td>2.0</td>\n      <td>4.0</td>\n      <td>1.0</td>\n      <td>2.0</td>\n      <td>3.0</td>\n      <td>5.0</td>\n      <td>4.000000</td>\n      <td>1.0</td>\n      <td>9</td>\n      <td>2.0</td>\n      <td>02208</td>\n      <td>00000</td>\n      <td>00000</td>\n    </tr>\n    <tr>\n      <th>4</th>\n      <td>37.3</td>\n      <td>104.0</td>\n      <td>35.0</td>\n      <td>74.0</td>\n      <td>7.4</td>\n      <td>6.0</td>\n      <td>2.0</td>\n      <td>3.0</td>\n      <td>3.0</td>\n      <td>2.0</td>\n      <td>1.0</td>\n      <td>4.0</td>\n      <td>5.0</td>\n      <td>2.271605</td>\n      <td>2.0</td>\n      <td>1</td>\n      <td>2.0</td>\n      <td>04300</td>\n      <td>00000</td>\n      <td>00000</td>\n    </tr>\n  </tbody>\n</table>\n</div>"
     },
     "execution_count": 34,
     "metadata": {},
     "output_type": "execute_result"
    }
   ],
   "source": [
    "horse_colic_train_cp.head()"
   ],
   "metadata": {
    "collapsed": false,
    "ExecuteTime": {
     "end_time": "2023-06-02T07:31:20.467368400Z",
     "start_time": "2023-06-02T07:31:20.426702200Z"
    }
   }
  },
  {
   "cell_type": "markdown",
   "source": [
    "#### Fixing discrete encoding\n",
    "As we agreed during analysis there are some things to do with discrete variables. For ordinal ones we need to fix order in some columns. For nominal ones we agreed that it's better to use their names because later created dummy variables will be more readable.\n",
    "We will create custom transformer to handle this encoding fixation. Moreover, this transformer will allow to change column name and type."
   ],
   "metadata": {
    "collapsed": false
   }
  },
  {
   "cell_type": "code",
   "execution_count": 35,
   "outputs": [],
   "source": [
    "class DiscreteEncodingTransformer:\n",
    "    def __init__(self, column, mapping, target_name=None, target_type='uint8'):\n",
    "        self.column = column\n",
    "        self.mapping = mapping\n",
    "        self.target_name = target_name\n",
    "        self.target_type = target_type\n",
    "\n",
    "    def transform(self,X,y=None):\n",
    "        #fillna handles situation when mapping is not specified for some values. we want to keep existing value in this situation.\n",
    "        #without fillna it will lead to setting this value to None.\n",
    "        X[self.column] = X[self.column].map(self.mapping).fillna(X[self.column])\n",
    "        if self.target_type:\n",
    "            X[self.column] = X[self.column].astype({self.column: self.target_type})\n",
    "        if self.target_name:\n",
    "            X = X.rename(columns={self.column: self.target_name})\n",
    "        return X\n",
    "\n",
    "    def fit(self, X, y=None):\n",
    "        return self"
   ],
   "metadata": {
    "collapsed": false,
    "ExecuteTime": {
     "end_time": "2023-06-02T07:32:27.826872400Z",
     "start_time": "2023-06-02T07:32:27.820035300Z"
    }
   }
  },
  {
   "cell_type": "code",
   "execution_count": 36,
   "outputs": [
    {
     "name": "stdout",
     "output_type": "stream",
     "text": [
      "<class 'pandas.core.frame.DataFrame'>\n",
      "Int64Index: 299 entries, 0 to 299\n",
      "Data columns (total 20 columns):\n",
      " #   Column                        Non-Null Count  Dtype   \n",
      "---  ------                        --------------  -----   \n",
      " 0   rectal temperature            299 non-null    float64 \n",
      " 1   pulse                         299 non-null    float64 \n",
      " 2   respiratory rate              299 non-null    float64 \n",
      " 3   packed cell volume            299 non-null    float64 \n",
      " 4   total protein                 299 non-null    float64 \n",
      " 5   mucous membranes              299 non-null    uint8   \n",
      " 6   capillary refill time >= 3s?  299 non-null    uint8   \n",
      " 7   pain                          299 non-null    category\n",
      " 8   peristalsis                   299 non-null    category\n",
      " 9   nasogastric tube              299 non-null    uint8   \n",
      " 10  nasogastric reflux            299 non-null    uint8   \n",
      " 11  rectal examination - feces    299 non-null    category\n",
      " 12  abdomen                       299 non-null    category\n",
      " 13  abdominal distension          299 non-null    uint8   \n",
      " 14  surgery?                      299 non-null    uint8   \n",
      " 15  adult?                        299 non-null    uint8   \n",
      " 16  outcome                       299 non-null    category\n",
      " 17  lesion type 1                 299 non-null    object  \n",
      " 18  lesion type 2                 299 non-null    object  \n",
      " 19  lesion type 3                 299 non-null    object  \n",
      "dtypes: category(5), float64(5), object(3), uint8(7)\n",
      "memory usage: 25.5+ KB\n"
     ]
    }
   ],
   "source": [
    "from sklearn.pipeline import Pipeline\n",
    "\n",
    "discreteEncodingTransformersPipe = Pipeline([\n",
    "    ('det_1', DiscreteEncodingTransformer('surgery?', {2: 0})),\n",
    "    ('det_2', DiscreteEncodingTransformer('Age', {9:0}, target_name='adult?')),\n",
    "    ('det_3', DiscreteEncodingTransformer('mucous membranes', {5: 6, 6: 5})),\n",
    "    ('det_4', DiscreteEncodingTransformer('mucous membranes', lambda x: x-1)),\n",
    "    ('det_5', DiscreteEncodingTransformer('capillary refill time', lambda x: x-1, target_name='capillary refill time >= 3s?')),\n",
    "    ('det_6', DiscreteEncodingTransformer('pain', {1: 'alert, no pain', 2: 'depressed',\n",
    "                                                   3: 'intermittent mild pain',\n",
    "                                                   4: 'intermittent severe pain',\n",
    "                                                   5: 'continuous severe pain'},\n",
    "                                          target_type='category')),\n",
    "    ('det_7', DiscreteEncodingTransformer('peristalsis', {1: 'hypermotile', 2: 'normal',\n",
    "                                                          3: 'hypomotile', 4: 'absent'},\n",
    "                                          target_type='category')),\n",
    "    ('det_8', DiscreteEncodingTransformer('abdominal distension', lambda x: round(x-1))), #fix KNNImputer result\n",
    "    ('det_9', DiscreteEncodingTransformer('nasogastric tube', lambda x: x-1)),\n",
    "    ('det_10', DiscreteEncodingTransformer('nasogastric reflux', {1: 0, 3: 1})),\n",
    "    ('det_11', DiscreteEncodingTransformer('rectal examination - feces', {1: 'normal', 2:'increased',\n",
    "                                                                          3: 'decreased', 4: 'absent'},\n",
    "                                           target_type='category')),\n",
    "    ('det_12', DiscreteEncodingTransformer('abdomen', {1: 'normal', 2:'other', 3: 'firm feces in the large intestine',\n",
    "                                                       4: 'distended small intestine', 5: 'distended large intestine'},\n",
    "                                           target_type='category')),\n",
    "    ('det_13', DiscreteEncodingTransformer('outcome', {1: 'lived', 2: 'died', 3: 'was euthanized'},\n",
    "                                           target_type='category'))\n",
    "])\n",
    "\n",
    "horse_colic_train_cp = discreteEncodingTransformersPipe.fit_transform(horse_colic_train_cp)\n",
    "horse_colic_train_cp.info()"
   ],
   "metadata": {
    "collapsed": false,
    "ExecuteTime": {
     "end_time": "2023-06-02T07:32:32.104561900Z",
     "start_time": "2023-06-02T07:32:32.052035100Z"
    }
   }
  },
  {
   "cell_type": "code",
   "execution_count": 37,
   "outputs": [
    {
     "data": {
      "text/plain": "   rectal temperature  pulse  respiratory rate  packed cell volume  \\\n0                38.5   66.0              28.0                45.0   \n1                39.2   88.0              20.0                50.0   \n2                38.3   40.0              24.0                33.0   \n3                39.1  164.0              84.0                48.0   \n4                37.3  104.0              35.0                74.0   \n\n   total protein  mucous membranes  capillary refill time >= 3s?  \\\n0            8.4                 0                             1   \n1           85.0                 3                             0   \n2            6.7                 2                             0   \n3            7.2                 4                             1   \n4            7.4                 4                             1   \n\n                     pain peristalsis  nasogastric tube  nasogastric reflux  \\\n0  continuous severe pain      absent                 1                   0   \n1  intermittent mild pain      absent                 1                   0   \n2  intermittent mild pain  hypomotile                 1                   0   \n3               depressed      absent                 0                   2   \n4  intermittent mild pain  hypomotile                 1                   0   \n\n  rectal examination - feces                    abdomen  abdominal distension  \\\n0                  decreased  distended large intestine                     3   \n1                     absent                      other                     1   \n2                     normal                     normal                     0   \n3                  decreased  distended large intestine                     3   \n4                     absent  distended large intestine                     1   \n\n   surgery?  adult?         outcome lesion type 1 lesion type 2 lesion type 3  \n0         0       1            died         11300         00000         00000  \n1         1       1  was euthanized         02208         00000         00000  \n2         0       1           lived         00000         00000         00000  \n3         1       0            died         02208         00000         00000  \n4         0       1            died         04300         00000         00000  ",
      "text/html": "<div>\n<style scoped>\n    .dataframe tbody tr th:only-of-type {\n        vertical-align: middle;\n    }\n\n    .dataframe tbody tr th {\n        vertical-align: top;\n    }\n\n    .dataframe thead th {\n        text-align: right;\n    }\n</style>\n<table border=\"1\" class=\"dataframe\">\n  <thead>\n    <tr style=\"text-align: right;\">\n      <th></th>\n      <th>rectal temperature</th>\n      <th>pulse</th>\n      <th>respiratory rate</th>\n      <th>packed cell volume</th>\n      <th>total protein</th>\n      <th>mucous membranes</th>\n      <th>capillary refill time &gt;= 3s?</th>\n      <th>pain</th>\n      <th>peristalsis</th>\n      <th>nasogastric tube</th>\n      <th>nasogastric reflux</th>\n      <th>rectal examination - feces</th>\n      <th>abdomen</th>\n      <th>abdominal distension</th>\n      <th>surgery?</th>\n      <th>adult?</th>\n      <th>outcome</th>\n      <th>lesion type 1</th>\n      <th>lesion type 2</th>\n      <th>lesion type 3</th>\n    </tr>\n  </thead>\n  <tbody>\n    <tr>\n      <th>0</th>\n      <td>38.5</td>\n      <td>66.0</td>\n      <td>28.0</td>\n      <td>45.0</td>\n      <td>8.4</td>\n      <td>0</td>\n      <td>1</td>\n      <td>continuous severe pain</td>\n      <td>absent</td>\n      <td>1</td>\n      <td>0</td>\n      <td>decreased</td>\n      <td>distended large intestine</td>\n      <td>3</td>\n      <td>0</td>\n      <td>1</td>\n      <td>died</td>\n      <td>11300</td>\n      <td>00000</td>\n      <td>00000</td>\n    </tr>\n    <tr>\n      <th>1</th>\n      <td>39.2</td>\n      <td>88.0</td>\n      <td>20.0</td>\n      <td>50.0</td>\n      <td>85.0</td>\n      <td>3</td>\n      <td>0</td>\n      <td>intermittent mild pain</td>\n      <td>absent</td>\n      <td>1</td>\n      <td>0</td>\n      <td>absent</td>\n      <td>other</td>\n      <td>1</td>\n      <td>1</td>\n      <td>1</td>\n      <td>was euthanized</td>\n      <td>02208</td>\n      <td>00000</td>\n      <td>00000</td>\n    </tr>\n    <tr>\n      <th>2</th>\n      <td>38.3</td>\n      <td>40.0</td>\n      <td>24.0</td>\n      <td>33.0</td>\n      <td>6.7</td>\n      <td>2</td>\n      <td>0</td>\n      <td>intermittent mild pain</td>\n      <td>hypomotile</td>\n      <td>1</td>\n      <td>0</td>\n      <td>normal</td>\n      <td>normal</td>\n      <td>0</td>\n      <td>0</td>\n      <td>1</td>\n      <td>lived</td>\n      <td>00000</td>\n      <td>00000</td>\n      <td>00000</td>\n    </tr>\n    <tr>\n      <th>3</th>\n      <td>39.1</td>\n      <td>164.0</td>\n      <td>84.0</td>\n      <td>48.0</td>\n      <td>7.2</td>\n      <td>4</td>\n      <td>1</td>\n      <td>depressed</td>\n      <td>absent</td>\n      <td>0</td>\n      <td>2</td>\n      <td>decreased</td>\n      <td>distended large intestine</td>\n      <td>3</td>\n      <td>1</td>\n      <td>0</td>\n      <td>died</td>\n      <td>02208</td>\n      <td>00000</td>\n      <td>00000</td>\n    </tr>\n    <tr>\n      <th>4</th>\n      <td>37.3</td>\n      <td>104.0</td>\n      <td>35.0</td>\n      <td>74.0</td>\n      <td>7.4</td>\n      <td>4</td>\n      <td>1</td>\n      <td>intermittent mild pain</td>\n      <td>hypomotile</td>\n      <td>1</td>\n      <td>0</td>\n      <td>absent</td>\n      <td>distended large intestine</td>\n      <td>1</td>\n      <td>0</td>\n      <td>1</td>\n      <td>died</td>\n      <td>04300</td>\n      <td>00000</td>\n      <td>00000</td>\n    </tr>\n  </tbody>\n</table>\n</div>"
     },
     "execution_count": 37,
     "metadata": {},
     "output_type": "execute_result"
    }
   ],
   "source": [
    "horse_colic_train_cp.head()"
   ],
   "metadata": {
    "collapsed": false,
    "ExecuteTime": {
     "end_time": "2023-06-02T07:32:36.040532700Z",
     "start_time": "2023-06-02T07:32:35.992533300Z"
    }
   }
  },
  {
   "cell_type": "markdown",
   "source": [
    "#### Parsing lesion columns\n",
    "There is a lot to do with lesion columns. We need to do the following:\n",
    "- determine which lesion is latest and use it to further processing,\n",
    "- encode number of lesions,\n",
    "- for latest lesion split encoded number into 4 new columns,\n",
    "- drop old lesion columns.\n",
    "\n",
    "We will create LesionTransformer to do thing above. Later we will need to encode created columns with names because they are nominal variables."
   ],
   "metadata": {
    "collapsed": false
   }
  },
  {
   "cell_type": "code",
   "execution_count": 38,
   "outputs": [],
   "source": [
    "class LesionTransformer:\n",
    "    def transform(self,X,y=None):\n",
    "        lesion_type_names = ['lesion type 1', 'lesion type 2', 'lesion type 3'] #input columns\n",
    "        lesion_part_names = ['lesion site', 'lesion type', 'lesion subtype', 'lesion specific code'] #output columns\n",
    "        X['number of lesions'] = (X.loc[:, lesion_type_names] != '00000').sum(axis=1) #total number of lesions, '00000' indicates no lesion\n",
    "        X['lesion'] = X.apply(LesionTransformer._get_latest_lesion, axis=1)\n",
    "        for index, name in zip(range(4), lesion_part_names): #create new column for particular lesion part\n",
    "            X[name] = X.apply(lambda x: LesionTransformer._split_lesion(x, index), axis=1)\n",
    "        X.drop([*lesion_type_names, 'lesion'], inplace=True, axis=1) #drop columns that will no longer be used\n",
    "        return X\n",
    "\n",
    "    def fit(self, X, y=None):\n",
    "        return self\n",
    "\n",
    "    @staticmethod\n",
    "    def _get_latest_lesion(row):\n",
    "        #determines which lesion is latest by total number of lesions\n",
    "        num_of_lesions = row['number of lesions']\n",
    "        if num_of_lesions != 0:\n",
    "            return row[f'lesion type {num_of_lesions}']\n",
    "        else:\n",
    "            return '00000'\n",
    "\n",
    "    @staticmethod\n",
    "    def _split_lesion(row, part):\n",
    "        #splits lesion and returns part determined by argument\n",
    "        lesion = row['lesion']\n",
    "        #2 possible splits (according to analysis):\n",
    "        split_1 = [int(part) for part in (lesion[:2], lesion[2], lesion[3], lesion[4:])]\n",
    "        split_2 = [int(part) for part in (lesion[0], lesion[1], lesion[2], lesion[3:])]\n",
    "        if len(lesion) == 6: #if len=6 then 2 first chars are part1 and 2 last chars are part4\n",
    "            return split_1[part]\n",
    "        else:\n",
    "            if int(lesion[:2]) <= 11: #if len 5 and 2 first chars in part1 range, then 2 first chars are part 1 and 1 last char is part 4\n",
    "                return split_1[part]\n",
    "            else: #if len 5 and 2 first chars not in part1 range, then 1 first char is part 1 and 2 last chars are part 4\n",
    "                return split_2[part]"
   ],
   "metadata": {
    "collapsed": false,
    "ExecuteTime": {
     "end_time": "2023-06-02T07:34:10.841438Z",
     "start_time": "2023-06-02T07:34:10.827737400Z"
    }
   }
  },
  {
   "cell_type": "code",
   "execution_count": 39,
   "outputs": [
    {
     "name": "stdout",
     "output_type": "stream",
     "text": [
      "<class 'pandas.core.frame.DataFrame'>\n",
      "Int64Index: 299 entries, 0 to 299\n",
      "Data columns (total 22 columns):\n",
      " #   Column                        Non-Null Count  Dtype   \n",
      "---  ------                        --------------  -----   \n",
      " 0   rectal temperature            299 non-null    float64 \n",
      " 1   pulse                         299 non-null    float64 \n",
      " 2   respiratory rate              299 non-null    float64 \n",
      " 3   packed cell volume            299 non-null    float64 \n",
      " 4   total protein                 299 non-null    float64 \n",
      " 5   mucous membranes              299 non-null    uint8   \n",
      " 6   capillary refill time >= 3s?  299 non-null    uint8   \n",
      " 7   pain                          299 non-null    category\n",
      " 8   peristalsis                   299 non-null    category\n",
      " 9   nasogastric tube              299 non-null    uint8   \n",
      " 10  nasogastric reflux            299 non-null    uint8   \n",
      " 11  rectal examination - feces    299 non-null    category\n",
      " 12  abdomen                       299 non-null    category\n",
      " 13  abdominal distension          299 non-null    uint8   \n",
      " 14  surgery?                      299 non-null    uint8   \n",
      " 15  adult?                        299 non-null    uint8   \n",
      " 16  outcome                       299 non-null    category\n",
      " 17  number of lesions             299 non-null    int64   \n",
      " 18  lesion site                   299 non-null    category\n",
      " 19  lesion type                   299 non-null    category\n",
      " 20  lesion subtype                299 non-null    category\n",
      " 21  lesion specific code          299 non-null    category\n",
      "dtypes: category(9), float64(5), int64(1), uint8(7)\n",
      "memory usage: 23.1 KB\n"
     ]
    }
   ],
   "source": [
    "#Values map are placed in top-level dict because they will be used also in OneHotEncoder.\n",
    "#'other', 'na' etc. values won't be encoded, and later they will be treated as unknown by OneHotEncoder.\n",
    "lesion_site_values_map = {1: 'gastric', 2: 'sm intestine', 3: 'lg colo',\n",
    "                          4: 'lg colon and cecum', 5: 'cecum', 6: 'transverse colon',\n",
    "                          7: 'retum/descending colon', 8: 'uterus', 9: 'bladder',\n",
    "                          11: 'all intestinal sites'}\n",
    "lesion_type_values_map = {1: 'simple', 2: 'strangulation', 3: 'inflammation'}\n",
    "lesion_subtype_values_map = {1: 'mechanical', 2: 'paralytic'}\n",
    "lesion_spec_code_values_map = {1: 'obturation', 2: 'intrinsic', 3: 'extrinsic',\n",
    "                               4: 'adynamic', 5: 'volvulus/torsion', 6: 'intussuption',\n",
    "                               7: 'thromboembolic', 8: 'hernia', 9: 'lipoma/slenic incarceration',\n",
    "                               10: 'displacement'}\n",
    "lesionPipe = Pipeline([\n",
    "    ('lesion_transformer', LesionTransformer()),\n",
    "    ('det_1', DiscreteEncodingTransformer('lesion site', lesion_site_values_map, target_type='category')),\n",
    "    ('det_2', DiscreteEncodingTransformer('lesion type', lesion_type_values_map, target_type='category')),\n",
    "    ('det_3', DiscreteEncodingTransformer('lesion subtype', lesion_subtype_values_map, target_type='category')),\n",
    "    ('det_4', DiscreteEncodingTransformer('lesion specific code', lesion_spec_code_values_map, target_type='category')),\n",
    "])\n",
    "\n",
    "horse_colic_train_cp = lesionPipe.fit_transform(horse_colic_train_cp)\n",
    "horse_colic_train_cp.info()"
   ],
   "metadata": {
    "collapsed": false,
    "ExecuteTime": {
     "end_time": "2023-06-02T07:34:41.006337300Z",
     "start_time": "2023-06-02T07:34:40.957308700Z"
    }
   }
  },
  {
   "cell_type": "code",
   "execution_count": 40,
   "outputs": [
    {
     "name": "stdout",
     "output_type": "stream",
     "text": [
      "lg colo                   85\n",
      "sm intestine              79\n",
      "0                         63\n",
      "lg colon and cecum        21\n",
      "retum/descending colon    13\n",
      "cecum                     12\n",
      "gastric                   12\n",
      "all intestinal sites       4\n",
      "transverse colon           4\n",
      "bladder                    3\n",
      "uterus                     3\n",
      "Name: lesion site, dtype: int64\n",
      "strangulation    104\n",
      "simple            97\n",
      "0                 61\n",
      "4                 25\n",
      "inflammation      12\n",
      "Name: lesion type, dtype: int64\n",
      "0             197\n",
      "mechanical     77\n",
      "paralytic      24\n",
      "3               1\n",
      "Name: lesion subtype, dtype: int64\n",
      "0                              93\n",
      "volvulus/torsion               56\n",
      "obturation                     48\n",
      "hernia                         21\n",
      "lipoma/slenic incarceration    19\n",
      "adynamic                       18\n",
      "intrinsic                      14\n",
      "displacement                    9\n",
      "extrinsic                       9\n",
      "intussuption                    7\n",
      "thromboembolic                  5\n",
      "Name: lesion specific code, dtype: int64\n"
     ]
    }
   ],
   "source": [
    "print(horse_colic_train_cp['lesion site'].value_counts())\n",
    "print(horse_colic_train_cp['lesion type'].value_counts())\n",
    "print(horse_colic_train_cp['lesion subtype'].value_counts())#\n",
    "print(horse_colic_train_cp['lesion specific code'].value_counts())"
   ],
   "metadata": {
    "collapsed": false,
    "ExecuteTime": {
     "end_time": "2023-06-02T07:34:47.914587100Z",
     "start_time": "2023-06-02T07:34:47.908586300Z"
    }
   }
  },
  {
   "cell_type": "code",
   "execution_count": 41,
   "outputs": [
    {
     "data": {
      "text/plain": "   rectal temperature  pulse  respiratory rate  packed cell volume  \\\n0                38.5   66.0              28.0                45.0   \n1                39.2   88.0              20.0                50.0   \n2                38.3   40.0              24.0                33.0   \n3                39.1  164.0              84.0                48.0   \n4                37.3  104.0              35.0                74.0   \n\n   total protein  mucous membranes  capillary refill time >= 3s?  \\\n0            8.4                 0                             1   \n1           85.0                 3                             0   \n2            6.7                 2                             0   \n3            7.2                 4                             1   \n4            7.4                 4                             1   \n\n                     pain peristalsis  nasogastric tube  ...  \\\n0  continuous severe pain      absent                 1  ...   \n1  intermittent mild pain      absent                 1  ...   \n2  intermittent mild pain  hypomotile                 1  ...   \n3               depressed      absent                 0  ...   \n4  intermittent mild pain  hypomotile                 1  ...   \n\n                     abdomen abdominal distension surgery?  adult?  \\\n0  distended large intestine                    3        0       1   \n1                      other                    1        1       1   \n2                     normal                    0        0       1   \n3  distended large intestine                    3        1       0   \n4  distended large intestine                    1        0       1   \n\n          outcome  number of lesions           lesion site    lesion type  \\\n0            died                  1  all intestinal sites   inflammation   \n1  was euthanized                  1          sm intestine  strangulation   \n2           lived                  0                     0              0   \n3            died                  1          sm intestine  strangulation   \n4            died                  1    lg colon and cecum   inflammation   \n\n  lesion subtype lesion specific code  \n0              0                    0  \n1              0               hernia  \n2              0                    0  \n3              0               hernia  \n4              0                    0  \n\n[5 rows x 22 columns]",
      "text/html": "<div>\n<style scoped>\n    .dataframe tbody tr th:only-of-type {\n        vertical-align: middle;\n    }\n\n    .dataframe tbody tr th {\n        vertical-align: top;\n    }\n\n    .dataframe thead th {\n        text-align: right;\n    }\n</style>\n<table border=\"1\" class=\"dataframe\">\n  <thead>\n    <tr style=\"text-align: right;\">\n      <th></th>\n      <th>rectal temperature</th>\n      <th>pulse</th>\n      <th>respiratory rate</th>\n      <th>packed cell volume</th>\n      <th>total protein</th>\n      <th>mucous membranes</th>\n      <th>capillary refill time &gt;= 3s?</th>\n      <th>pain</th>\n      <th>peristalsis</th>\n      <th>nasogastric tube</th>\n      <th>...</th>\n      <th>abdomen</th>\n      <th>abdominal distension</th>\n      <th>surgery?</th>\n      <th>adult?</th>\n      <th>outcome</th>\n      <th>number of lesions</th>\n      <th>lesion site</th>\n      <th>lesion type</th>\n      <th>lesion subtype</th>\n      <th>lesion specific code</th>\n    </tr>\n  </thead>\n  <tbody>\n    <tr>\n      <th>0</th>\n      <td>38.5</td>\n      <td>66.0</td>\n      <td>28.0</td>\n      <td>45.0</td>\n      <td>8.4</td>\n      <td>0</td>\n      <td>1</td>\n      <td>continuous severe pain</td>\n      <td>absent</td>\n      <td>1</td>\n      <td>...</td>\n      <td>distended large intestine</td>\n      <td>3</td>\n      <td>0</td>\n      <td>1</td>\n      <td>died</td>\n      <td>1</td>\n      <td>all intestinal sites</td>\n      <td>inflammation</td>\n      <td>0</td>\n      <td>0</td>\n    </tr>\n    <tr>\n      <th>1</th>\n      <td>39.2</td>\n      <td>88.0</td>\n      <td>20.0</td>\n      <td>50.0</td>\n      <td>85.0</td>\n      <td>3</td>\n      <td>0</td>\n      <td>intermittent mild pain</td>\n      <td>absent</td>\n      <td>1</td>\n      <td>...</td>\n      <td>other</td>\n      <td>1</td>\n      <td>1</td>\n      <td>1</td>\n      <td>was euthanized</td>\n      <td>1</td>\n      <td>sm intestine</td>\n      <td>strangulation</td>\n      <td>0</td>\n      <td>hernia</td>\n    </tr>\n    <tr>\n      <th>2</th>\n      <td>38.3</td>\n      <td>40.0</td>\n      <td>24.0</td>\n      <td>33.0</td>\n      <td>6.7</td>\n      <td>2</td>\n      <td>0</td>\n      <td>intermittent mild pain</td>\n      <td>hypomotile</td>\n      <td>1</td>\n      <td>...</td>\n      <td>normal</td>\n      <td>0</td>\n      <td>0</td>\n      <td>1</td>\n      <td>lived</td>\n      <td>0</td>\n      <td>0</td>\n      <td>0</td>\n      <td>0</td>\n      <td>0</td>\n    </tr>\n    <tr>\n      <th>3</th>\n      <td>39.1</td>\n      <td>164.0</td>\n      <td>84.0</td>\n      <td>48.0</td>\n      <td>7.2</td>\n      <td>4</td>\n      <td>1</td>\n      <td>depressed</td>\n      <td>absent</td>\n      <td>0</td>\n      <td>...</td>\n      <td>distended large intestine</td>\n      <td>3</td>\n      <td>1</td>\n      <td>0</td>\n      <td>died</td>\n      <td>1</td>\n      <td>sm intestine</td>\n      <td>strangulation</td>\n      <td>0</td>\n      <td>hernia</td>\n    </tr>\n    <tr>\n      <th>4</th>\n      <td>37.3</td>\n      <td>104.0</td>\n      <td>35.0</td>\n      <td>74.0</td>\n      <td>7.4</td>\n      <td>4</td>\n      <td>1</td>\n      <td>intermittent mild pain</td>\n      <td>hypomotile</td>\n      <td>1</td>\n      <td>...</td>\n      <td>distended large intestine</td>\n      <td>1</td>\n      <td>0</td>\n      <td>1</td>\n      <td>died</td>\n      <td>1</td>\n      <td>lg colon and cecum</td>\n      <td>inflammation</td>\n      <td>0</td>\n      <td>0</td>\n    </tr>\n  </tbody>\n</table>\n<p>5 rows × 22 columns</p>\n</div>"
     },
     "execution_count": 41,
     "metadata": {},
     "output_type": "execute_result"
    }
   ],
   "source": [
    "horse_colic_train_cp.head()"
   ],
   "metadata": {
    "collapsed": false,
    "ExecuteTime": {
     "end_time": "2023-06-02T07:34:51.437318500Z",
     "start_time": "2023-06-02T07:34:51.397992900Z"
    }
   }
  },
  {
   "cell_type": "markdown",
   "source": [
    "#### Encoding nominal columns with dummies\n",
    "In this step we will encode nominal variables with dummies. Lesion are treated specially because we want to fill unknown values with na (all dummies will be 0s).\n",
    "Moreover, CustomColumnTransformer will encode dummies names with \"{column_name} -> {column_value}\" by specifying names_mapper parameter."
   ],
   "metadata": {
    "collapsed": false
   }
  },
  {
   "cell_type": "code",
   "execution_count": 42,
   "outputs": [
    {
     "name": "stdout",
     "output_type": "stream",
     "text": [
      "<class 'pandas.core.frame.DataFrame'>\n",
      "Int64Index: 299 entries, 0 to 299\n",
      "Data columns (total 57 columns):\n",
      " #   Column                                               Non-Null Count  Dtype   \n",
      "---  ------                                               --------------  -----   \n",
      " 0   lesion site -> gastric                               299 non-null    float64 \n",
      " 1   lesion site -> sm intestine                          299 non-null    float64 \n",
      " 2   lesion site -> lg colo                               299 non-null    float64 \n",
      " 3   lesion site -> lg colon and cecum                    299 non-null    float64 \n",
      " 4   lesion site -> cecum                                 299 non-null    float64 \n",
      " 5   lesion site -> transverse colon                      299 non-null    float64 \n",
      " 6   lesion site -> retum/descending colon                299 non-null    float64 \n",
      " 7   lesion site -> uterus                                299 non-null    float64 \n",
      " 8   lesion site -> bladder                               299 non-null    float64 \n",
      " 9   lesion site -> all intestinal sites                  299 non-null    float64 \n",
      " 10  lesion type -> simple                                299 non-null    float64 \n",
      " 11  lesion type -> strangulation                         299 non-null    float64 \n",
      " 12  lesion type -> inflammation                          299 non-null    float64 \n",
      " 13  lesion subtype -> mechanical                         299 non-null    float64 \n",
      " 14  lesion subtype -> paralytic                          299 non-null    float64 \n",
      " 15  lesion specific code -> obturation                   299 non-null    float64 \n",
      " 16  lesion specific code -> intrinsic                    299 non-null    float64 \n",
      " 17  lesion specific code -> extrinsic                    299 non-null    float64 \n",
      " 18  lesion specific code -> adynamic                     299 non-null    float64 \n",
      " 19  lesion specific code -> volvulus/torsion             299 non-null    float64 \n",
      " 20  lesion specific code -> intussuption                 299 non-null    float64 \n",
      " 21  lesion specific code -> thromboembolic               299 non-null    float64 \n",
      " 22  lesion specific code -> hernia                       299 non-null    float64 \n",
      " 23  lesion specific code -> lipoma/slenic incarceration  299 non-null    float64 \n",
      " 24  lesion specific code -> displacement                 299 non-null    float64 \n",
      " 25  pain -> alert, no pain                               299 non-null    float64 \n",
      " 26  pain -> continuous severe pain                       299 non-null    float64 \n",
      " 27  pain -> depressed                                    299 non-null    float64 \n",
      " 28  pain -> intermittent mild pain                       299 non-null    float64 \n",
      " 29  pain -> intermittent severe pain                     299 non-null    float64 \n",
      " 30  peristalsis -> absent                                299 non-null    float64 \n",
      " 31  peristalsis -> hypermotile                           299 non-null    float64 \n",
      " 32  peristalsis -> hypomotile                            299 non-null    float64 \n",
      " 33  peristalsis -> normal                                299 non-null    float64 \n",
      " 34  rectal examination - feces -> absent                 299 non-null    float64 \n",
      " 35  rectal examination - feces -> decreased              299 non-null    float64 \n",
      " 36  rectal examination - feces -> increased              299 non-null    float64 \n",
      " 37  rectal examination - feces -> normal                 299 non-null    float64 \n",
      " 38  abdomen -> distended large intestine                 299 non-null    float64 \n",
      " 39  abdomen -> distended small intestine                 299 non-null    float64 \n",
      " 40  abdomen -> firm feces in the large intestine         299 non-null    float64 \n",
      " 41  abdomen -> normal                                    299 non-null    float64 \n",
      " 42  abdomen -> other                                     299 non-null    float64 \n",
      " 43  rectal temperature                                   299 non-null    float64 \n",
      " 44  pulse                                                299 non-null    float64 \n",
      " 45  respiratory rate                                     299 non-null    float64 \n",
      " 46  packed cell volume                                   299 non-null    float64 \n",
      " 47  total protein                                        299 non-null    float64 \n",
      " 48  mucous membranes                                     299 non-null    uint8   \n",
      " 49  capillary refill time >= 3s?                         299 non-null    uint8   \n",
      " 50  nasogastric tube                                     299 non-null    uint8   \n",
      " 51  nasogastric reflux                                   299 non-null    uint8   \n",
      " 52  abdominal distension                                 299 non-null    uint8   \n",
      " 53  surgery?                                             299 non-null    uint8   \n",
      " 54  adult?                                               299 non-null    uint8   \n",
      " 55  outcome                                              299 non-null    category\n",
      " 56  number of lesions                                    299 non-null    int64   \n",
      "dtypes: category(1), float64(48), int64(1), uint8(7)\n",
      "memory usage: 119.3 KB\n"
     ]
    }
   ],
   "source": [
    "from sklearn.preprocessing import OneHotEncoder\n",
    "\n",
    "oneHotEncodersTransformer = CustomColumnTransformer([\n",
    "    ('encodeLesionSite', OneHotEncoder(categories=[list(lesion_site_values_map.values())], handle_unknown='ignore', sparse_output=False), ['lesion site']),\n",
    "    ('encodeLesionType', OneHotEncoder(categories=[list(lesion_type_values_map.values())], handle_unknown='ignore', sparse_output=False), ['lesion type']),\n",
    "    ('encodeLesionSubtype', OneHotEncoder(categories=[list(lesion_subtype_values_map.values())], handle_unknown='ignore', sparse_output=False), ['lesion subtype']),\n",
    "    ('encodeLesionSpecCode', OneHotEncoder(categories=[list(lesion_spec_code_values_map.values())], handle_unknown='ignore', sparse_output=False), ['lesion specific code']),\n",
    "    ('encodeOther', OneHotEncoder(sparse_output=False), ['pain', 'peristalsis', 'rectal examination - feces', 'abdomen']),\n",
    "], names_mapper = lambda x: x.replace('_', ' -> '))\n",
    "\n",
    "horse_colic_train_cp = oneHotEncodersTransformer.transform(horse_colic_train_cp)\n",
    "horse_colic_train_cp.info()"
   ],
   "metadata": {
    "collapsed": false,
    "ExecuteTime": {
     "end_time": "2023-06-02T07:35:24.651389600Z",
     "start_time": "2023-06-02T07:35:24.600878100Z"
    }
   }
  },
  {
   "cell_type": "code",
   "execution_count": 43,
   "outputs": [
    {
     "data": {
      "text/plain": "   lesion site -> gastric  lesion site -> sm intestine  \\\n0                     0.0                          0.0   \n1                     0.0                          1.0   \n2                     0.0                          0.0   \n3                     0.0                          1.0   \n4                     0.0                          0.0   \n\n   lesion site -> lg colo  lesion site -> lg colon and cecum  \\\n0                     0.0                                0.0   \n1                     0.0                                0.0   \n2                     0.0                                0.0   \n3                     0.0                                0.0   \n4                     0.0                                1.0   \n\n   lesion site -> cecum  lesion site -> transverse colon  \\\n0                   0.0                              0.0   \n1                   0.0                              0.0   \n2                   0.0                              0.0   \n3                   0.0                              0.0   \n4                   0.0                              0.0   \n\n   lesion site -> retum/descending colon  lesion site -> uterus  \\\n0                                    0.0                    0.0   \n1                                    0.0                    0.0   \n2                                    0.0                    0.0   \n3                                    0.0                    0.0   \n4                                    0.0                    0.0   \n\n   lesion site -> bladder  lesion site -> all intestinal sites  ...  \\\n0                     0.0                                  1.0  ...   \n1                     0.0                                  0.0  ...   \n2                     0.0                                  0.0  ...   \n3                     0.0                                  0.0  ...   \n4                     0.0                                  0.0  ...   \n\n   total protein  mucous membranes  capillary refill time >= 3s?  \\\n0            8.4                 0                             1   \n1           85.0                 3                             0   \n2            6.7                 2                             0   \n3            7.2                 4                             1   \n4            7.4                 4                             1   \n\n   nasogastric tube  nasogastric reflux  abdominal distension  surgery?  \\\n0                 1                   0                     3         0   \n1                 1                   0                     1         1   \n2                 1                   0                     0         0   \n3                 0                   2                     3         1   \n4                 1                   0                     1         0   \n\n   adult?         outcome  number of lesions  \n0       1            died                  1  \n1       1  was euthanized                  1  \n2       1           lived                  0  \n3       0            died                  1  \n4       1            died                  1  \n\n[5 rows x 57 columns]",
      "text/html": "<div>\n<style scoped>\n    .dataframe tbody tr th:only-of-type {\n        vertical-align: middle;\n    }\n\n    .dataframe tbody tr th {\n        vertical-align: top;\n    }\n\n    .dataframe thead th {\n        text-align: right;\n    }\n</style>\n<table border=\"1\" class=\"dataframe\">\n  <thead>\n    <tr style=\"text-align: right;\">\n      <th></th>\n      <th>lesion site -&gt; gastric</th>\n      <th>lesion site -&gt; sm intestine</th>\n      <th>lesion site -&gt; lg colo</th>\n      <th>lesion site -&gt; lg colon and cecum</th>\n      <th>lesion site -&gt; cecum</th>\n      <th>lesion site -&gt; transverse colon</th>\n      <th>lesion site -&gt; retum/descending colon</th>\n      <th>lesion site -&gt; uterus</th>\n      <th>lesion site -&gt; bladder</th>\n      <th>lesion site -&gt; all intestinal sites</th>\n      <th>...</th>\n      <th>total protein</th>\n      <th>mucous membranes</th>\n      <th>capillary refill time &gt;= 3s?</th>\n      <th>nasogastric tube</th>\n      <th>nasogastric reflux</th>\n      <th>abdominal distension</th>\n      <th>surgery?</th>\n      <th>adult?</th>\n      <th>outcome</th>\n      <th>number of lesions</th>\n    </tr>\n  </thead>\n  <tbody>\n    <tr>\n      <th>0</th>\n      <td>0.0</td>\n      <td>0.0</td>\n      <td>0.0</td>\n      <td>0.0</td>\n      <td>0.0</td>\n      <td>0.0</td>\n      <td>0.0</td>\n      <td>0.0</td>\n      <td>0.0</td>\n      <td>1.0</td>\n      <td>...</td>\n      <td>8.4</td>\n      <td>0</td>\n      <td>1</td>\n      <td>1</td>\n      <td>0</td>\n      <td>3</td>\n      <td>0</td>\n      <td>1</td>\n      <td>died</td>\n      <td>1</td>\n    </tr>\n    <tr>\n      <th>1</th>\n      <td>0.0</td>\n      <td>1.0</td>\n      <td>0.0</td>\n      <td>0.0</td>\n      <td>0.0</td>\n      <td>0.0</td>\n      <td>0.0</td>\n      <td>0.0</td>\n      <td>0.0</td>\n      <td>0.0</td>\n      <td>...</td>\n      <td>85.0</td>\n      <td>3</td>\n      <td>0</td>\n      <td>1</td>\n      <td>0</td>\n      <td>1</td>\n      <td>1</td>\n      <td>1</td>\n      <td>was euthanized</td>\n      <td>1</td>\n    </tr>\n    <tr>\n      <th>2</th>\n      <td>0.0</td>\n      <td>0.0</td>\n      <td>0.0</td>\n      <td>0.0</td>\n      <td>0.0</td>\n      <td>0.0</td>\n      <td>0.0</td>\n      <td>0.0</td>\n      <td>0.0</td>\n      <td>0.0</td>\n      <td>...</td>\n      <td>6.7</td>\n      <td>2</td>\n      <td>0</td>\n      <td>1</td>\n      <td>0</td>\n      <td>0</td>\n      <td>0</td>\n      <td>1</td>\n      <td>lived</td>\n      <td>0</td>\n    </tr>\n    <tr>\n      <th>3</th>\n      <td>0.0</td>\n      <td>1.0</td>\n      <td>0.0</td>\n      <td>0.0</td>\n      <td>0.0</td>\n      <td>0.0</td>\n      <td>0.0</td>\n      <td>0.0</td>\n      <td>0.0</td>\n      <td>0.0</td>\n      <td>...</td>\n      <td>7.2</td>\n      <td>4</td>\n      <td>1</td>\n      <td>0</td>\n      <td>2</td>\n      <td>3</td>\n      <td>1</td>\n      <td>0</td>\n      <td>died</td>\n      <td>1</td>\n    </tr>\n    <tr>\n      <th>4</th>\n      <td>0.0</td>\n      <td>0.0</td>\n      <td>0.0</td>\n      <td>1.0</td>\n      <td>0.0</td>\n      <td>0.0</td>\n      <td>0.0</td>\n      <td>0.0</td>\n      <td>0.0</td>\n      <td>0.0</td>\n      <td>...</td>\n      <td>7.4</td>\n      <td>4</td>\n      <td>1</td>\n      <td>1</td>\n      <td>0</td>\n      <td>1</td>\n      <td>0</td>\n      <td>1</td>\n      <td>died</td>\n      <td>1</td>\n    </tr>\n  </tbody>\n</table>\n<p>5 rows × 57 columns</p>\n</div>"
     },
     "execution_count": 43,
     "metadata": {},
     "output_type": "execute_result"
    }
   ],
   "source": [
    "horse_colic_train_cp.head()"
   ],
   "metadata": {
    "collapsed": false,
    "ExecuteTime": {
     "end_time": "2023-06-02T07:35:27.378930500Z",
     "start_time": "2023-06-02T07:35:27.334580200Z"
    }
   }
  },
  {
   "cell_type": "markdown",
   "source": [
    "#### Data scaling\n",
    "In this step we will scale data with MinMaxScaler that ensures that all values are between 0 and 1. We will use CustomColumnTransformer because we want to exclude outcome from scaling."
   ],
   "metadata": {
    "collapsed": false
   }
  },
  {
   "cell_type": "code",
   "execution_count": 44,
   "outputs": [],
   "source": [
    "from sklearn.preprocessing import MinMaxScaler\n",
    "\n",
    "minMaxScalerTransformer = CustomColumnTransformer([\n",
    "    ('scaler', MinMaxScaler(), horse_colic_train_cp.columns.drop('outcome'))\n",
    "])\n",
    "\n",
    "horse_colic_train_cp = minMaxScalerTransformer.transform(horse_colic_train_cp)"
   ],
   "metadata": {
    "collapsed": false,
    "ExecuteTime": {
     "end_time": "2023-06-02T07:35:54.674584600Z",
     "start_time": "2023-06-02T07:35:54.660984900Z"
    }
   }
  },
  {
   "cell_type": "markdown",
   "source": [
    "### Final processed dataset\n",
    "Data preprocessing is done! Now we will construct a final pipe:"
   ],
   "metadata": {
    "collapsed": false
   }
  },
  {
   "cell_type": "code",
   "execution_count": 45,
   "outputs": [],
   "source": [
    "dataTransformationPipe = Pipeline([\n",
    "    ('column_dropper', columnDropper),\n",
    "    ('row_dropper', rowDropper),\n",
    "    ('fill_na', fillNaTransformer),\n",
    "    ('discrete_encoding', discreteEncodingTransformersPipe),\n",
    "    ('lesion', lesionPipe),\n",
    "    ('one_hot', oneHotEncodersTransformer),\n",
    "    ('scaler', minMaxScalerTransformer)\n",
    "])"
   ],
   "metadata": {
    "collapsed": false,
    "ExecuteTime": {
     "end_time": "2023-06-02T07:36:15.594268300Z",
     "start_time": "2023-06-02T07:36:15.578268Z"
    }
   }
  },
  {
   "cell_type": "markdown",
   "source": [
    "And now we process original train set with this pipe:"
   ],
   "metadata": {
    "collapsed": false
   }
  },
  {
   "cell_type": "code",
   "execution_count": 46,
   "outputs": [],
   "source": [
    "dataTransformationPipe.fit(horse_colic_train)\n",
    "horse_colic_train_processed = dataTransformationPipe.transform(horse_colic_train)"
   ],
   "metadata": {
    "collapsed": false,
    "ExecuteTime": {
     "end_time": "2023-06-02T07:36:19.417290400Z",
     "start_time": "2023-06-02T07:36:19.303649Z"
    }
   }
  },
  {
   "cell_type": "markdown",
   "source": [
    "Lets see how final train set looks like:"
   ],
   "metadata": {
    "collapsed": false
   }
  },
  {
   "cell_type": "code",
   "execution_count": 47,
   "outputs": [
    {
     "name": "stdout",
     "output_type": "stream",
     "text": [
      "<class 'pandas.core.frame.DataFrame'>\n",
      "Int64Index: 299 entries, 0 to 299\n",
      "Data columns (total 57 columns):\n",
      " #   Column                                               Non-Null Count  Dtype   \n",
      "---  ------                                               --------------  -----   \n",
      " 0   lesion site -> gastric                               299 non-null    float64 \n",
      " 1   lesion site -> sm intestine                          299 non-null    float64 \n",
      " 2   lesion site -> lg colo                               299 non-null    float64 \n",
      " 3   lesion site -> lg colon and cecum                    299 non-null    float64 \n",
      " 4   lesion site -> cecum                                 299 non-null    float64 \n",
      " 5   lesion site -> transverse colon                      299 non-null    float64 \n",
      " 6   lesion site -> retum/descending colon                299 non-null    float64 \n",
      " 7   lesion site -> uterus                                299 non-null    float64 \n",
      " 8   lesion site -> bladder                               299 non-null    float64 \n",
      " 9   lesion site -> all intestinal sites                  299 non-null    float64 \n",
      " 10  lesion type -> simple                                299 non-null    float64 \n",
      " 11  lesion type -> strangulation                         299 non-null    float64 \n",
      " 12  lesion type -> inflammation                          299 non-null    float64 \n",
      " 13  lesion subtype -> mechanical                         299 non-null    float64 \n",
      " 14  lesion subtype -> paralytic                          299 non-null    float64 \n",
      " 15  lesion specific code -> obturation                   299 non-null    float64 \n",
      " 16  lesion specific code -> intrinsic                    299 non-null    float64 \n",
      " 17  lesion specific code -> extrinsic                    299 non-null    float64 \n",
      " 18  lesion specific code -> adynamic                     299 non-null    float64 \n",
      " 19  lesion specific code -> volvulus/torsion             299 non-null    float64 \n",
      " 20  lesion specific code -> intussuption                 299 non-null    float64 \n",
      " 21  lesion specific code -> thromboembolic               299 non-null    float64 \n",
      " 22  lesion specific code -> hernia                       299 non-null    float64 \n",
      " 23  lesion specific code -> lipoma/slenic incarceration  299 non-null    float64 \n",
      " 24  lesion specific code -> displacement                 299 non-null    float64 \n",
      " 25  pain -> alert, no pain                               299 non-null    float64 \n",
      " 26  pain -> continuous severe pain                       299 non-null    float64 \n",
      " 27  pain -> depressed                                    299 non-null    float64 \n",
      " 28  pain -> intermittent mild pain                       299 non-null    float64 \n",
      " 29  pain -> intermittent severe pain                     299 non-null    float64 \n",
      " 30  peristalsis -> absent                                299 non-null    float64 \n",
      " 31  peristalsis -> hypermotile                           299 non-null    float64 \n",
      " 32  peristalsis -> hypomotile                            299 non-null    float64 \n",
      " 33  peristalsis -> normal                                299 non-null    float64 \n",
      " 34  rectal examination - feces -> absent                 299 non-null    float64 \n",
      " 35  rectal examination - feces -> decreased              299 non-null    float64 \n",
      " 36  rectal examination - feces -> increased              299 non-null    float64 \n",
      " 37  rectal examination - feces -> normal                 299 non-null    float64 \n",
      " 38  abdomen -> distended large intestine                 299 non-null    float64 \n",
      " 39  abdomen -> distended small intestine                 299 non-null    float64 \n",
      " 40  abdomen -> firm feces in the large intestine         299 non-null    float64 \n",
      " 41  abdomen -> normal                                    299 non-null    float64 \n",
      " 42  abdomen -> other                                     299 non-null    float64 \n",
      " 43  rectal temperature                                   299 non-null    float64 \n",
      " 44  pulse                                                299 non-null    float64 \n",
      " 45  respiratory rate                                     299 non-null    float64 \n",
      " 46  packed cell volume                                   299 non-null    float64 \n",
      " 47  total protein                                        299 non-null    float64 \n",
      " 48  mucous membranes                                     299 non-null    float64 \n",
      " 49  capillary refill time >= 3s?                         299 non-null    float64 \n",
      " 50  nasogastric tube                                     299 non-null    float64 \n",
      " 51  nasogastric reflux                                   299 non-null    float64 \n",
      " 52  abdominal distension                                 299 non-null    float64 \n",
      " 53  surgery?                                             299 non-null    float64 \n",
      " 54  adult?                                               299 non-null    float64 \n",
      " 55  number of lesions                                    299 non-null    float64 \n",
      " 56  outcome                                              299 non-null    category\n",
      "dtypes: category(1), float64(56)\n",
      "memory usage: 133.6 KB\n"
     ]
    }
   ],
   "source": [
    "horse_colic_train_processed.info()"
   ],
   "metadata": {
    "collapsed": false,
    "ExecuteTime": {
     "end_time": "2023-06-02T07:36:21.626626400Z",
     "start_time": "2023-06-02T07:36:21.602424900Z"
    }
   }
  },
  {
   "cell_type": "code",
   "execution_count": 48,
   "outputs": [
    {
     "data": {
      "text/plain": "   lesion site -> gastric  lesion site -> sm intestine  \\\n0                     0.0                          0.0   \n1                     0.0                          1.0   \n2                     0.0                          0.0   \n3                     0.0                          1.0   \n4                     0.0                          0.0   \n\n   lesion site -> lg colo  lesion site -> lg colon and cecum  \\\n0                     0.0                                0.0   \n1                     0.0                                0.0   \n2                     0.0                                0.0   \n3                     0.0                                0.0   \n4                     0.0                                1.0   \n\n   lesion site -> cecum  lesion site -> transverse colon  \\\n0                   0.0                              0.0   \n1                   0.0                              0.0   \n2                   0.0                              0.0   \n3                   0.0                              0.0   \n4                   0.0                              0.0   \n\n   lesion site -> retum/descending colon  lesion site -> uterus  \\\n0                                    0.0                    0.0   \n1                                    0.0                    0.0   \n2                                    0.0                    0.0   \n3                                    0.0                    0.0   \n4                                    0.0                    0.0   \n\n   lesion site -> bladder  lesion site -> all intestinal sites  ...  \\\n0                     0.0                                  1.0  ...   \n1                     0.0                                  0.0  ...   \n2                     0.0                                  0.0  ...   \n3                     0.0                                  0.0  ...   \n4                     0.0                                  0.0  ...   \n\n   total protein  mucous membranes  capillary refill time >= 3s?  \\\n0       0.059510               0.0                           1.0   \n1       0.953326               0.6                           0.0   \n2       0.039673               0.4                           0.0   \n3       0.045508               0.8                           1.0   \n4       0.047841               0.8                           1.0   \n\n   nasogastric tube  nasogastric reflux  abdominal distension  surgery?  \\\n0               0.5                 0.0              1.000000       0.0   \n1               0.5                 0.0              0.333333       1.0   \n2               0.5                 0.0              0.000000       0.0   \n3               0.0                 1.0              1.000000       1.0   \n4               0.5                 0.0              0.333333       0.0   \n\n   adult?  number of lesions         outcome  \n0     1.0           0.333333            died  \n1     1.0           0.333333  was euthanized  \n2     1.0           0.000000           lived  \n3     0.0           0.333333            died  \n4     1.0           0.333333            died  \n\n[5 rows x 57 columns]",
      "text/html": "<div>\n<style scoped>\n    .dataframe tbody tr th:only-of-type {\n        vertical-align: middle;\n    }\n\n    .dataframe tbody tr th {\n        vertical-align: top;\n    }\n\n    .dataframe thead th {\n        text-align: right;\n    }\n</style>\n<table border=\"1\" class=\"dataframe\">\n  <thead>\n    <tr style=\"text-align: right;\">\n      <th></th>\n      <th>lesion site -&gt; gastric</th>\n      <th>lesion site -&gt; sm intestine</th>\n      <th>lesion site -&gt; lg colo</th>\n      <th>lesion site -&gt; lg colon and cecum</th>\n      <th>lesion site -&gt; cecum</th>\n      <th>lesion site -&gt; transverse colon</th>\n      <th>lesion site -&gt; retum/descending colon</th>\n      <th>lesion site -&gt; uterus</th>\n      <th>lesion site -&gt; bladder</th>\n      <th>lesion site -&gt; all intestinal sites</th>\n      <th>...</th>\n      <th>total protein</th>\n      <th>mucous membranes</th>\n      <th>capillary refill time &gt;= 3s?</th>\n      <th>nasogastric tube</th>\n      <th>nasogastric reflux</th>\n      <th>abdominal distension</th>\n      <th>surgery?</th>\n      <th>adult?</th>\n      <th>number of lesions</th>\n      <th>outcome</th>\n    </tr>\n  </thead>\n  <tbody>\n    <tr>\n      <th>0</th>\n      <td>0.0</td>\n      <td>0.0</td>\n      <td>0.0</td>\n      <td>0.0</td>\n      <td>0.0</td>\n      <td>0.0</td>\n      <td>0.0</td>\n      <td>0.0</td>\n      <td>0.0</td>\n      <td>1.0</td>\n      <td>...</td>\n      <td>0.059510</td>\n      <td>0.0</td>\n      <td>1.0</td>\n      <td>0.5</td>\n      <td>0.0</td>\n      <td>1.000000</td>\n      <td>0.0</td>\n      <td>1.0</td>\n      <td>0.333333</td>\n      <td>died</td>\n    </tr>\n    <tr>\n      <th>1</th>\n      <td>0.0</td>\n      <td>1.0</td>\n      <td>0.0</td>\n      <td>0.0</td>\n      <td>0.0</td>\n      <td>0.0</td>\n      <td>0.0</td>\n      <td>0.0</td>\n      <td>0.0</td>\n      <td>0.0</td>\n      <td>...</td>\n      <td>0.953326</td>\n      <td>0.6</td>\n      <td>0.0</td>\n      <td>0.5</td>\n      <td>0.0</td>\n      <td>0.333333</td>\n      <td>1.0</td>\n      <td>1.0</td>\n      <td>0.333333</td>\n      <td>was euthanized</td>\n    </tr>\n    <tr>\n      <th>2</th>\n      <td>0.0</td>\n      <td>0.0</td>\n      <td>0.0</td>\n      <td>0.0</td>\n      <td>0.0</td>\n      <td>0.0</td>\n      <td>0.0</td>\n      <td>0.0</td>\n      <td>0.0</td>\n      <td>0.0</td>\n      <td>...</td>\n      <td>0.039673</td>\n      <td>0.4</td>\n      <td>0.0</td>\n      <td>0.5</td>\n      <td>0.0</td>\n      <td>0.000000</td>\n      <td>0.0</td>\n      <td>1.0</td>\n      <td>0.000000</td>\n      <td>lived</td>\n    </tr>\n    <tr>\n      <th>3</th>\n      <td>0.0</td>\n      <td>1.0</td>\n      <td>0.0</td>\n      <td>0.0</td>\n      <td>0.0</td>\n      <td>0.0</td>\n      <td>0.0</td>\n      <td>0.0</td>\n      <td>0.0</td>\n      <td>0.0</td>\n      <td>...</td>\n      <td>0.045508</td>\n      <td>0.8</td>\n      <td>1.0</td>\n      <td>0.0</td>\n      <td>1.0</td>\n      <td>1.000000</td>\n      <td>1.0</td>\n      <td>0.0</td>\n      <td>0.333333</td>\n      <td>died</td>\n    </tr>\n    <tr>\n      <th>4</th>\n      <td>0.0</td>\n      <td>0.0</td>\n      <td>0.0</td>\n      <td>1.0</td>\n      <td>0.0</td>\n      <td>0.0</td>\n      <td>0.0</td>\n      <td>0.0</td>\n      <td>0.0</td>\n      <td>0.0</td>\n      <td>...</td>\n      <td>0.047841</td>\n      <td>0.8</td>\n      <td>1.0</td>\n      <td>0.5</td>\n      <td>0.0</td>\n      <td>0.333333</td>\n      <td>0.0</td>\n      <td>1.0</td>\n      <td>0.333333</td>\n      <td>died</td>\n    </tr>\n  </tbody>\n</table>\n<p>5 rows × 57 columns</p>\n</div>"
     },
     "execution_count": 48,
     "metadata": {},
     "output_type": "execute_result"
    }
   ],
   "source": [
    "horse_colic_train_processed.head()"
   ],
   "metadata": {
    "collapsed": false,
    "ExecuteTime": {
     "end_time": "2023-06-02T07:36:23.181766100Z",
     "start_time": "2023-06-02T07:36:23.149746500Z"
    }
   }
  },
  {
   "cell_type": "code",
   "execution_count": 49,
   "outputs": [
    {
     "data": {
      "text/plain": "       lesion site -> gastric  lesion site -> sm intestine  \\\ncount              299.000000                   299.000000   \nmean                 0.040134                     0.264214   \nstd                  0.196602                     0.441653   \nmin                  0.000000                     0.000000   \n25%                  0.000000                     0.000000   \n50%                  0.000000                     0.000000   \n75%                  0.000000                     1.000000   \nmax                  1.000000                     1.000000   \n\n       lesion site -> lg colo  lesion site -> lg colon and cecum  \\\ncount              299.000000                         299.000000   \nmean                 0.284281                           0.070234   \nstd                  0.451827                           0.255970   \nmin                  0.000000                           0.000000   \n25%                  0.000000                           0.000000   \n50%                  0.000000                           0.000000   \n75%                  1.000000                           0.000000   \nmax                  1.000000                           1.000000   \n\n       lesion site -> cecum  lesion site -> transverse colon  \\\ncount            299.000000                       299.000000   \nmean               0.040134                         0.013378   \nstd                0.196602                         0.115079   \nmin                0.000000                         0.000000   \n25%                0.000000                         0.000000   \n50%                0.000000                         0.000000   \n75%                0.000000                         0.000000   \nmax                1.000000                         1.000000   \n\n       lesion site -> retum/descending colon  lesion site -> uterus  \\\ncount                             299.000000             299.000000   \nmean                                0.043478               0.010033   \nstd                                 0.204273               0.099830   \nmin                                 0.000000               0.000000   \n25%                                 0.000000               0.000000   \n50%                                 0.000000               0.000000   \n75%                                 0.000000               0.000000   \nmax                                 1.000000               1.000000   \n\n       lesion site -> bladder  lesion site -> all intestinal sites  ...  \\\ncount              299.000000                           299.000000  ...   \nmean                 0.010033                             0.013378  ...   \nstd                  0.099830                             0.115079  ...   \nmin                  0.000000                             0.000000  ...   \n25%                  0.000000                             0.000000  ...   \n50%                  0.000000                             0.000000  ...   \n75%                  0.000000                             0.000000  ...   \nmax                  1.000000                             1.000000  ...   \n\n       packed cell volume  total protein  mucous membranes  \\\ncount          299.000000     299.000000        299.000000   \nmean             0.448219       0.244743          0.315719   \nstd              0.190691       0.301104          0.333157   \nmin              0.000000       0.000000          0.000000   \n25%              0.307692       0.038506          0.000000   \n50%              0.442308       0.051342          0.200000   \n75%              0.519231       0.568261          0.600000   \nmax              1.000000       1.000000          1.000000   \n\n       capillary refill time >= 3s?  nasogastric tube  nasogastric reflux  \\\ncount                    299.000000        299.000000          299.000000   \nmean                       0.260870          0.419732            0.182274   \nstd                        0.439845          0.269062            0.341808   \nmin                        0.000000          0.000000            0.000000   \n25%                        0.000000          0.500000            0.000000   \n50%                        0.000000          0.500000            0.000000   \n75%                        1.000000          0.500000            0.000000   \nmax                        1.000000          1.000000            1.000000   \n\n       abdominal distension    surgery?      adult?  number of lesions  \ncount            299.000000  299.000000  299.000000         299.000000  \nmean               0.406912    0.602007    0.919732           0.280936  \nstd                0.321624    0.490305    0.272162           0.149086  \nmin                0.000000    0.000000    0.000000           0.000000  \n25%                0.166667    0.000000    1.000000           0.333333  \n50%                0.333333    1.000000    1.000000           0.333333  \n75%                0.666667    1.000000    1.000000           0.333333  \nmax                1.000000    1.000000    1.000000           1.000000  \n\n[8 rows x 56 columns]",
      "text/html": "<div>\n<style scoped>\n    .dataframe tbody tr th:only-of-type {\n        vertical-align: middle;\n    }\n\n    .dataframe tbody tr th {\n        vertical-align: top;\n    }\n\n    .dataframe thead th {\n        text-align: right;\n    }\n</style>\n<table border=\"1\" class=\"dataframe\">\n  <thead>\n    <tr style=\"text-align: right;\">\n      <th></th>\n      <th>lesion site -&gt; gastric</th>\n      <th>lesion site -&gt; sm intestine</th>\n      <th>lesion site -&gt; lg colo</th>\n      <th>lesion site -&gt; lg colon and cecum</th>\n      <th>lesion site -&gt; cecum</th>\n      <th>lesion site -&gt; transverse colon</th>\n      <th>lesion site -&gt; retum/descending colon</th>\n      <th>lesion site -&gt; uterus</th>\n      <th>lesion site -&gt; bladder</th>\n      <th>lesion site -&gt; all intestinal sites</th>\n      <th>...</th>\n      <th>packed cell volume</th>\n      <th>total protein</th>\n      <th>mucous membranes</th>\n      <th>capillary refill time &gt;= 3s?</th>\n      <th>nasogastric tube</th>\n      <th>nasogastric reflux</th>\n      <th>abdominal distension</th>\n      <th>surgery?</th>\n      <th>adult?</th>\n      <th>number of lesions</th>\n    </tr>\n  </thead>\n  <tbody>\n    <tr>\n      <th>count</th>\n      <td>299.000000</td>\n      <td>299.000000</td>\n      <td>299.000000</td>\n      <td>299.000000</td>\n      <td>299.000000</td>\n      <td>299.000000</td>\n      <td>299.000000</td>\n      <td>299.000000</td>\n      <td>299.000000</td>\n      <td>299.000000</td>\n      <td>...</td>\n      <td>299.000000</td>\n      <td>299.000000</td>\n      <td>299.000000</td>\n      <td>299.000000</td>\n      <td>299.000000</td>\n      <td>299.000000</td>\n      <td>299.000000</td>\n      <td>299.000000</td>\n      <td>299.000000</td>\n      <td>299.000000</td>\n    </tr>\n    <tr>\n      <th>mean</th>\n      <td>0.040134</td>\n      <td>0.264214</td>\n      <td>0.284281</td>\n      <td>0.070234</td>\n      <td>0.040134</td>\n      <td>0.013378</td>\n      <td>0.043478</td>\n      <td>0.010033</td>\n      <td>0.010033</td>\n      <td>0.013378</td>\n      <td>...</td>\n      <td>0.448219</td>\n      <td>0.244743</td>\n      <td>0.315719</td>\n      <td>0.260870</td>\n      <td>0.419732</td>\n      <td>0.182274</td>\n      <td>0.406912</td>\n      <td>0.602007</td>\n      <td>0.919732</td>\n      <td>0.280936</td>\n    </tr>\n    <tr>\n      <th>std</th>\n      <td>0.196602</td>\n      <td>0.441653</td>\n      <td>0.451827</td>\n      <td>0.255970</td>\n      <td>0.196602</td>\n      <td>0.115079</td>\n      <td>0.204273</td>\n      <td>0.099830</td>\n      <td>0.099830</td>\n      <td>0.115079</td>\n      <td>...</td>\n      <td>0.190691</td>\n      <td>0.301104</td>\n      <td>0.333157</td>\n      <td>0.439845</td>\n      <td>0.269062</td>\n      <td>0.341808</td>\n      <td>0.321624</td>\n      <td>0.490305</td>\n      <td>0.272162</td>\n      <td>0.149086</td>\n    </tr>\n    <tr>\n      <th>min</th>\n      <td>0.000000</td>\n      <td>0.000000</td>\n      <td>0.000000</td>\n      <td>0.000000</td>\n      <td>0.000000</td>\n      <td>0.000000</td>\n      <td>0.000000</td>\n      <td>0.000000</td>\n      <td>0.000000</td>\n      <td>0.000000</td>\n      <td>...</td>\n      <td>0.000000</td>\n      <td>0.000000</td>\n      <td>0.000000</td>\n      <td>0.000000</td>\n      <td>0.000000</td>\n      <td>0.000000</td>\n      <td>0.000000</td>\n      <td>0.000000</td>\n      <td>0.000000</td>\n      <td>0.000000</td>\n    </tr>\n    <tr>\n      <th>25%</th>\n      <td>0.000000</td>\n      <td>0.000000</td>\n      <td>0.000000</td>\n      <td>0.000000</td>\n      <td>0.000000</td>\n      <td>0.000000</td>\n      <td>0.000000</td>\n      <td>0.000000</td>\n      <td>0.000000</td>\n      <td>0.000000</td>\n      <td>...</td>\n      <td>0.307692</td>\n      <td>0.038506</td>\n      <td>0.000000</td>\n      <td>0.000000</td>\n      <td>0.500000</td>\n      <td>0.000000</td>\n      <td>0.166667</td>\n      <td>0.000000</td>\n      <td>1.000000</td>\n      <td>0.333333</td>\n    </tr>\n    <tr>\n      <th>50%</th>\n      <td>0.000000</td>\n      <td>0.000000</td>\n      <td>0.000000</td>\n      <td>0.000000</td>\n      <td>0.000000</td>\n      <td>0.000000</td>\n      <td>0.000000</td>\n      <td>0.000000</td>\n      <td>0.000000</td>\n      <td>0.000000</td>\n      <td>...</td>\n      <td>0.442308</td>\n      <td>0.051342</td>\n      <td>0.200000</td>\n      <td>0.000000</td>\n      <td>0.500000</td>\n      <td>0.000000</td>\n      <td>0.333333</td>\n      <td>1.000000</td>\n      <td>1.000000</td>\n      <td>0.333333</td>\n    </tr>\n    <tr>\n      <th>75%</th>\n      <td>0.000000</td>\n      <td>1.000000</td>\n      <td>1.000000</td>\n      <td>0.000000</td>\n      <td>0.000000</td>\n      <td>0.000000</td>\n      <td>0.000000</td>\n      <td>0.000000</td>\n      <td>0.000000</td>\n      <td>0.000000</td>\n      <td>...</td>\n      <td>0.519231</td>\n      <td>0.568261</td>\n      <td>0.600000</td>\n      <td>1.000000</td>\n      <td>0.500000</td>\n      <td>0.000000</td>\n      <td>0.666667</td>\n      <td>1.000000</td>\n      <td>1.000000</td>\n      <td>0.333333</td>\n    </tr>\n    <tr>\n      <th>max</th>\n      <td>1.000000</td>\n      <td>1.000000</td>\n      <td>1.000000</td>\n      <td>1.000000</td>\n      <td>1.000000</td>\n      <td>1.000000</td>\n      <td>1.000000</td>\n      <td>1.000000</td>\n      <td>1.000000</td>\n      <td>1.000000</td>\n      <td>...</td>\n      <td>1.000000</td>\n      <td>1.000000</td>\n      <td>1.000000</td>\n      <td>1.000000</td>\n      <td>1.000000</td>\n      <td>1.000000</td>\n      <td>1.000000</td>\n      <td>1.000000</td>\n      <td>1.000000</td>\n      <td>1.000000</td>\n    </tr>\n  </tbody>\n</table>\n<p>8 rows × 56 columns</p>\n</div>"
     },
     "execution_count": 49,
     "metadata": {},
     "output_type": "execute_result"
    }
   ],
   "source": [
    "horse_colic_train_processed.describe()"
   ],
   "metadata": {
    "collapsed": false,
    "ExecuteTime": {
     "end_time": "2023-06-02T07:36:24.092910300Z",
     "start_time": "2023-06-02T07:36:24.033670100Z"
    }
   }
  },
  {
   "cell_type": "markdown",
   "source": [
    "## Modeling\n",
    "Now when our data is well-prepared it's time to train our model. We will try many classification models and choose the best with cross-validation.\n",
    "Classifiers that we will test:\n",
    "- Logistic Regression classifier\n",
    "- Discriminant Analysis classifiers\n",
    "    - Linear Discriminant Analysis classifiers\n",
    "    - Quadratic Discriminant Analysis classifiers\n",
    "- KNN classifier\n",
    "- SVM classifiers\n",
    "    - Linear support vector classifier\n",
    "    - C-Support Vector classifier\n",
    "- Decision tree classifier\n",
    "- Ensemble classifiers\n",
    "    - Random forest classifier\n",
    "    - Bagging classifier\n",
    "    - Gradient boosting classifier\n",
    "- Naive Bayes classifiers\n",
    "    - Gaussian Naive Bayes\n",
    "    - Multinomial Naive Bayes"
   ],
   "metadata": {
    "collapsed": false
   }
  },
  {
   "cell_type": "markdown",
   "source": [
    "### Modeling preparation\n",
    "Before we start building models we will do some things. At first, we will split train set into X (features) and y (labels). Then we will choose one common scoring for validating all classifiers.\n",
    "We don't choose accuracy because precision and recall may be an important statistics. We choose one of f1 scoring - the f1_micro scoring because there is a significant difference in outcome value counts."
   ],
   "metadata": {
    "collapsed": false
   }
  },
  {
   "cell_type": "code",
   "execution_count": 50,
   "outputs": [],
   "source": [
    "X, y = horse_colic_train_processed.drop('outcome', axis=1), horse_colic_train_processed['outcome']\n",
    "\n",
    "SCORING = \"f1_micro\"\n",
    "\n",
    "RANDOM_STATE = 42\n",
    "\n",
    "models = {} #container for models\n",
    "\n",
    "def print_model_summary(name, grid):\n",
    "    models[name] = grid\n",
    "    print(f\"[{name}] best score = {grid.best_score_}, best params = {grid.best_params_}\")"
   ],
   "metadata": {
    "collapsed": false,
    "ExecuteTime": {
     "end_time": "2023-06-02T07:37:27.415119600Z",
     "start_time": "2023-06-02T07:37:27.389270Z"
    }
   }
  },
  {
   "cell_type": "markdown",
   "source": [
    "### Logistic Regression"
   ],
   "metadata": {
    "collapsed": false
   }
  },
  {
   "cell_type": "code",
   "execution_count": 51,
   "outputs": [
    {
     "name": "stdout",
     "output_type": "stream",
     "text": [
      "[LogisticRegression] best score = 0.7024858757062147, best params = {'C': 1.1}\n"
     ]
    }
   ],
   "source": [
    "from sklearn.linear_model import LogisticRegression\n",
    "from sklearn.model_selection import GridSearchCV\n",
    "\n",
    "model1_param_grid = {\n",
    "    'C': [0.1, 0.9, 1, 1.1, 10]\n",
    "}\n",
    "\n",
    "model1 = GridSearchCV(LogisticRegression(random_state=RANDOM_STATE, solver='newton-cg'), model1_param_grid, scoring=SCORING) #according to documentation this solver is the best for our dataset\n",
    "model1.fit(X, y)\n",
    "print_model_summary('LogisticRegression', model1)"
   ],
   "metadata": {
    "collapsed": false,
    "ExecuteTime": {
     "end_time": "2023-06-02T07:37:34.515036600Z",
     "start_time": "2023-06-02T07:37:34.087424600Z"
    }
   }
  },
  {
   "cell_type": "markdown",
   "source": [
    "### Discriminant Analysis\n",
    "#### Linear Discriminant Analysis"
   ],
   "metadata": {
    "collapsed": false
   }
  },
  {
   "cell_type": "code",
   "execution_count": 52,
   "outputs": [
    {
     "name": "stdout",
     "output_type": "stream",
     "text": [
      "[LinearDiscriminantAnalysis] best score = 0.6888700564971751, best params = {'shrinkage': 'auto', 'solver': 'lsqr'}\n"
     ]
    }
   ],
   "source": [
    "import warnings\n",
    "from sklearn.discriminant_analysis import LinearDiscriminantAnalysis\n",
    "\n",
    "model2_param_grid = [\n",
    "    {\n",
    "        'solver': ['lsqr', 'eigen'],\n",
    "        'shrinkage': ['auto'],\n",
    "    },\n",
    "    {\n",
    "        'solver': ['svd', 'lsqr']\n",
    "    }\n",
    "]\n",
    "\n",
    "model2 = GridSearchCV(LinearDiscriminantAnalysis(), model2_param_grid, scoring=SCORING)\n",
    "with warnings.catch_warnings(record=True):\n",
    "    model2.fit(X, y)\n",
    "print_model_summary('LinearDiscriminantAnalysis', model2)"
   ],
   "metadata": {
    "collapsed": false,
    "ExecuteTime": {
     "end_time": "2023-06-02T07:37:38.094201200Z",
     "start_time": "2023-06-02T07:37:37.894045900Z"
    }
   }
  },
  {
   "cell_type": "markdown",
   "source": [
    "#### Quadratic Discriminant Analysis"
   ],
   "metadata": {
    "collapsed": false
   }
  },
  {
   "cell_type": "code",
   "execution_count": 53,
   "outputs": [
    {
     "name": "stdout",
     "output_type": "stream",
     "text": [
      "[QuadraticDiscriminantAnalysis] best score = 0.685593220338983, best params = {'reg_param': 0.1}\n"
     ]
    }
   ],
   "source": [
    "from sklearn.discriminant_analysis import QuadraticDiscriminantAnalysis\n",
    "\n",
    "model3_param_grid = {\n",
    "    'reg_param': [0.0, 0.1, 0.3, 0.5, 0.7, 0.9]\n",
    "}\n",
    "\n",
    "model3 = GridSearchCV(QuadraticDiscriminantAnalysis(), model3_param_grid, scoring=SCORING)\n",
    "with warnings.catch_warnings(record=True):\n",
    "    model3.fit(X, y)\n",
    "print_model_summary('QuadraticDiscriminantAnalysis', model3)"
   ],
   "metadata": {
    "collapsed": false,
    "ExecuteTime": {
     "end_time": "2023-06-02T07:37:42.993876400Z",
     "start_time": "2023-06-02T07:37:42.789698300Z"
    }
   }
  },
  {
   "cell_type": "markdown",
   "source": [
    "### KNN classifier"
   ],
   "metadata": {
    "collapsed": false
   }
  },
  {
   "cell_type": "code",
   "execution_count": 54,
   "outputs": [
    {
     "name": "stdout",
     "output_type": "stream",
     "text": [
      "[KNeighborsClassifier] best score = 0.692090395480226, best params = {'n_neighbors': 20, 'p': 2, 'weights': 'uniform'}\n"
     ]
    }
   ],
   "source": [
    "from sklearn.neighbors import KNeighborsClassifier\n",
    "\n",
    "model4_param_grid = {\n",
    "    'n_neighbors': [3, 5, 10, 20, 50],\n",
    "    'weights': ['uniform', 'distance'],\n",
    "    'p': [1, 2]\n",
    "}\n",
    "\n",
    "model4 = GridSearchCV(KNeighborsClassifier(), model4_param_grid, scoring=SCORING)\n",
    "model4.fit(X, y)\n",
    "print_model_summary('KNeighborsClassifier', model4)"
   ],
   "metadata": {
    "collapsed": false,
    "ExecuteTime": {
     "end_time": "2023-06-02T07:37:54.504652800Z",
     "start_time": "2023-06-02T07:37:51.387927Z"
    }
   }
  },
  {
   "cell_type": "markdown",
   "source": [
    "### SVM classifiers\n",
    "#### Linear support vector classifier"
   ],
   "metadata": {
    "collapsed": false
   }
  },
  {
   "cell_type": "code",
   "execution_count": 55,
   "outputs": [
    {
     "name": "stdout",
     "output_type": "stream",
     "text": [
      "[LinearSVC] best score = 0.7259887005649717, best params = {'C': 2, 'dual': False}\n"
     ]
    }
   ],
   "source": [
    "from sklearn.svm import LinearSVC\n",
    "\n",
    "model5_param_grid = {\n",
    "    'dual': [False, True],\n",
    "    'C': [0.01, 0.1, 1, 2, 3, 5, 10]\n",
    "}\n",
    "\n",
    "model5 = GridSearchCV(LinearSVC(random_state=RANDOM_STATE), model5_param_grid, scoring=SCORING)\n",
    "with warnings.catch_warnings(record=True):\n",
    "    model5.fit(X, y)\n",
    "print_model_summary('LinearSVC', model5)"
   ],
   "metadata": {
    "collapsed": false,
    "ExecuteTime": {
     "end_time": "2023-06-02T07:37:58.540869300Z",
     "start_time": "2023-06-02T07:37:57.932612200Z"
    }
   }
  },
  {
   "cell_type": "markdown",
   "source": [
    "#### C-Support Vector classifier"
   ],
   "metadata": {
    "collapsed": false
   }
  },
  {
   "cell_type": "code",
   "execution_count": 56,
   "outputs": [
    {
     "name": "stdout",
     "output_type": "stream",
     "text": [
      "[SVC] best score = 0.7122598870056498, best params = {'C': 2, 'degree': 2, 'gamma': 'scale', 'kernel': 'rbf'}\n"
     ]
    }
   ],
   "source": [
    "from sklearn.svm import SVC\n",
    "\n",
    "model6_param_grid = {\n",
    "    'C': [0.01, 0.1, 1, 2, 3, 5, 10],\n",
    "    'kernel': ['linear', 'poly', 'rbf', 'sigmoid'],\n",
    "    'degree': [2, 3, 4, 5, 6, 8, 10],\n",
    "    'gamma': ['scale', 'auto']\n",
    "}\n",
    "\n",
    "model6 = GridSearchCV(SVC(random_state=RANDOM_STATE), model6_param_grid, scoring=SCORING)\n",
    "with warnings.catch_warnings(record=True):\n",
    "    model6.fit(X, y)\n",
    "print_model_summary('SVC', model6)"
   ],
   "metadata": {
    "collapsed": false,
    "ExecuteTime": {
     "end_time": "2023-06-02T07:38:15.706799200Z",
     "start_time": "2023-06-02T07:38:03.958578100Z"
    }
   }
  },
  {
   "cell_type": "markdown",
   "source": [
    "### Decision tree classifier"
   ],
   "metadata": {
    "collapsed": false
   }
  },
  {
   "cell_type": "code",
   "execution_count": 57,
   "outputs": [
    {
     "name": "stdout",
     "output_type": "stream",
     "text": [
      "[DecisionTreeClassifier] best score = 0.6924858757062147, best params = {'ccp_alpha': 0.007943143812709028}\n"
     ]
    }
   ],
   "source": [
    "from sklearn.tree import DecisionTreeClassifier\n",
    "\n",
    "ccp_alpha = DecisionTreeClassifier().cost_complexity_pruning_path(X, y)['ccp_alphas']\n",
    "\n",
    "model7_param_grid = {\n",
    "    'ccp_alpha': ccp_alpha\n",
    "}\n",
    "\n",
    "model7 = GridSearchCV(DecisionTreeClassifier(random_state=RANDOM_STATE), model7_param_grid, scoring=SCORING)\n",
    "with warnings.catch_warnings(record=True):\n",
    "    model7.fit(X, y)\n",
    "print_model_summary('DecisionTreeClassifier', model7)"
   ],
   "metadata": {
    "collapsed": false,
    "ExecuteTime": {
     "end_time": "2023-06-02T07:38:20.981409800Z",
     "start_time": "2023-06-02T07:38:19.908128Z"
    }
   }
  },
  {
   "cell_type": "markdown",
   "source": [
    "### Ensemble classifiers\n",
    "#### Random forest classifier"
   ],
   "metadata": {
    "collapsed": false
   }
  },
  {
   "cell_type": "code",
   "execution_count": 58,
   "outputs": [
    {
     "name": "stdout",
     "output_type": "stream",
     "text": [
      "[RandomForestClassifier] best score = 0.7323728813559323, best params = {'ccp_alpha': 0.002210917811940833, 'n_estimators': 100}\n"
     ]
    }
   ],
   "source": [
    "from sklearn.ensemble import RandomForestClassifier\n",
    "\n",
    "model8_param_grid = {\n",
    "    'n_estimators': [80, 100, 120],\n",
    "    'ccp_alpha': ccp_alpha,\n",
    "}\n",
    "\n",
    "model8 = GridSearchCV(RandomForestClassifier(random_state=RANDOM_STATE), model8_param_grid, scoring=SCORING)\n",
    "with warnings.catch_warnings(record=True):\n",
    "    model8.fit(X, y) #execution took 1m16s on my hardware\n",
    "print_model_summary('RandomForestClassifier', model8)"
   ],
   "metadata": {
    "collapsed": false,
    "ExecuteTime": {
     "end_time": "2023-06-02T07:39:37.909096500Z",
     "start_time": "2023-06-02T07:38:23.675063200Z"
    }
   }
  },
  {
   "cell_type": "markdown",
   "source": [
    " #### Bagging classifier"
   ],
   "metadata": {
    "collapsed": false
   }
  },
  {
   "cell_type": "code",
   "execution_count": 59,
   "outputs": [
    {
     "name": "stdout",
     "output_type": "stream",
     "text": [
      "[BaggingClassifier] best score = 0.7224293785310734, best params = {'n_estimators': 20}\n"
     ]
    }
   ],
   "source": [
    "from sklearn.ensemble import BaggingClassifier\n",
    "\n",
    "model9_param_grid = {\n",
    "    'n_estimators': [8, 10, 12, 16, 18, 20, 22, 30]\n",
    "}\n",
    "\n",
    "model9 = GridSearchCV(BaggingClassifier(random_state=RANDOM_STATE, estimator=DecisionTreeClassifier(**model7.best_params_)), model9_param_grid, scoring=SCORING)\n",
    "with warnings.catch_warnings(record=True):\n",
    "    model9.fit(X, y)\n",
    "print_model_summary('BaggingClassifier', model9)"
   ],
   "metadata": {
    "collapsed": false,
    "ExecuteTime": {
     "end_time": "2023-06-02T07:52:44.840541400Z",
     "start_time": "2023-06-02T07:52:43.176439100Z"
    }
   }
  },
  {
   "cell_type": "markdown",
   "source": [
    "#### Gradient boosting classifier"
   ],
   "metadata": {
    "collapsed": false
   }
  },
  {
   "cell_type": "code",
   "execution_count": 60,
   "outputs": [
    {
     "name": "stdout",
     "output_type": "stream",
     "text": [
      "[GradientBoostingClassifier] best score = 0.729265536723164, best params = {'ccp_alpha': 0.0, 'n_estimators': 100}\n"
     ]
    }
   ],
   "source": [
    "from sklearn.ensemble import GradientBoostingClassifier\n",
    "\n",
    "model10_param_grid = {\n",
    "    'n_estimators': [80, 100, 120],\n",
    "    'ccp_alpha': ccp_alpha,\n",
    "}\n",
    "\n",
    "model10 = GridSearchCV(GradientBoostingClassifier(random_state=RANDOM_STATE), model10_param_grid, scoring=SCORING)\n",
    "with warnings.catch_warnings(record=True):\n",
    "    model10.fit(X, y) #execution took 2m44s on my hardware\n",
    "print_model_summary('GradientBoostingClassifier', model10)"
   ],
   "metadata": {
    "collapsed": false,
    "ExecuteTime": {
     "end_time": "2023-06-02T07:55:28.236437400Z",
     "start_time": "2023-06-02T07:52:48.070061300Z"
    }
   }
  },
  {
   "cell_type": "markdown",
   "source": [
    "### Naive Bayes classifiers\n",
    "#### Gaussian Naive Bayes"
   ],
   "metadata": {
    "collapsed": false
   }
  },
  {
   "cell_type": "code",
   "execution_count": 61,
   "outputs": [
    {
     "name": "stdout",
     "output_type": "stream",
     "text": [
      "[GaussianNB] best score = 0.6687005649717515, best params = {'var_smoothing': 1}\n"
     ]
    }
   ],
   "source": [
    "from sklearn.naive_bayes import GaussianNB\n",
    "\n",
    "model11_param_grid = {\n",
    "    'var_smoothing': [1e-10, 1e-9, 1e-8, 1e-6, 1e-4, 1e-2, 1, 10]\n",
    "}\n",
    "\n",
    "model11 = GridSearchCV(GaussianNB(), model11_param_grid, scoring=SCORING)\n",
    "with warnings.catch_warnings(record=True):\n",
    "    model11.fit(X, y)\n",
    "print_model_summary('GaussianNB', model11)"
   ],
   "metadata": {
    "collapsed": false,
    "ExecuteTime": {
     "end_time": "2023-06-02T07:56:30.720009500Z",
     "start_time": "2023-06-02T07:56:30.548049300Z"
    }
   }
  },
  {
   "cell_type": "markdown",
   "source": [
    "#### Multinomial Naive Bayes"
   ],
   "metadata": {
    "collapsed": false
   }
  },
  {
   "cell_type": "code",
   "execution_count": 62,
   "outputs": [
    {
     "name": "stdout",
     "output_type": "stream",
     "text": [
      "[MultinomialNB] best score = 0.6887570621468926, best params = {'alpha': 1.1}\n"
     ]
    }
   ],
   "source": [
    "from sklearn.naive_bayes import MultinomialNB\n",
    "\n",
    "model12_param_grid = {\n",
    "    'alpha': [0.01, 0.1, 0.9, 1.0, 1.1, 10]\n",
    "}\n",
    "\n",
    "model12 = GridSearchCV(MultinomialNB(), model12_param_grid, scoring=SCORING)\n",
    "with warnings.catch_warnings(record=True):\n",
    "    model12.fit(X, y)\n",
    "print_model_summary('MultinomialNB', model12)"
   ],
   "metadata": {
    "collapsed": false,
    "ExecuteTime": {
     "end_time": "2023-06-02T07:56:33.874461100Z",
     "start_time": "2023-06-02T07:56:33.710251600Z"
    }
   }
  },
  {
   "cell_type": "markdown",
   "source": [
    "### Modeling summary\n",
    "We trained 12 classifiers. Results are very similiar. Summary dataframe is builded and showed in cell below."
   ],
   "metadata": {
    "collapsed": false
   }
  },
  {
   "cell_type": "code",
   "execution_count": 63,
   "outputs": [
    {
     "data": {
      "text/plain": "                       Classifier  Best score  Average score  Average std  \\\n4                       LinearSVC      0.7260         0.7099       0.0473   \n8               BaggingClassifier      0.7224         0.7074       0.0308   \n7          RandomForestClassifier      0.7324         0.6994       0.0283   \n0              LogisticRegression      0.7025         0.6991       0.0233   \n1      LinearDiscriminantAnalysis      0.6889         0.6790       0.0347   \n11                  MultinomialNB      0.6888         0.6759       0.0467   \n9      GradientBoostingClassifier      0.7293         0.6748       0.0173   \n6          DecisionTreeClassifier      0.6925         0.6733       0.0383   \n3            KNeighborsClassifier      0.6921         0.6703       0.0340   \n2   QuadraticDiscriminantAnalysis      0.6856         0.6644       0.0279   \n5                             SVC      0.7123         0.6558       0.0274   \n10                     GaussianNB      0.6687         0.5868       0.0783   \n\n                                          Best params  \n4                             {'C': 2, 'dual': False}  \n8                                {'n_estimators': 20}  \n7   {'ccp_alpha': 0.002210917811940833, 'n_estimat...  \n0                                          {'C': 1.1}  \n1             {'shrinkage': 'auto', 'solver': 'lsqr'}  \n11                                     {'alpha': 1.1}  \n9             {'ccp_alpha': 0.0, 'n_estimators': 100}  \n6                 {'ccp_alpha': 0.007943143812709028}  \n3   {'n_neighbors': 20, 'p': 2, 'weights': 'uniform'}  \n2                                  {'reg_param': 0.1}  \n5   {'C': 2, 'degree': 2, 'gamma': 'scale', 'kerne...  \n10                               {'var_smoothing': 1}  ",
      "text/html": "<div>\n<style scoped>\n    .dataframe tbody tr th:only-of-type {\n        vertical-align: middle;\n    }\n\n    .dataframe tbody tr th {\n        vertical-align: top;\n    }\n\n    .dataframe thead th {\n        text-align: right;\n    }\n</style>\n<table border=\"1\" class=\"dataframe\">\n  <thead>\n    <tr style=\"text-align: right;\">\n      <th></th>\n      <th>Classifier</th>\n      <th>Best score</th>\n      <th>Average score</th>\n      <th>Average std</th>\n      <th>Best params</th>\n    </tr>\n  </thead>\n  <tbody>\n    <tr>\n      <th>4</th>\n      <td>LinearSVC</td>\n      <td>0.7260</td>\n      <td>0.7099</td>\n      <td>0.0473</td>\n      <td>{'C': 2, 'dual': False}</td>\n    </tr>\n    <tr>\n      <th>8</th>\n      <td>BaggingClassifier</td>\n      <td>0.7224</td>\n      <td>0.7074</td>\n      <td>0.0308</td>\n      <td>{'n_estimators': 20}</td>\n    </tr>\n    <tr>\n      <th>7</th>\n      <td>RandomForestClassifier</td>\n      <td>0.7324</td>\n      <td>0.6994</td>\n      <td>0.0283</td>\n      <td>{'ccp_alpha': 0.002210917811940833, 'n_estimat...</td>\n    </tr>\n    <tr>\n      <th>0</th>\n      <td>LogisticRegression</td>\n      <td>0.7025</td>\n      <td>0.6991</td>\n      <td>0.0233</td>\n      <td>{'C': 1.1}</td>\n    </tr>\n    <tr>\n      <th>1</th>\n      <td>LinearDiscriminantAnalysis</td>\n      <td>0.6889</td>\n      <td>0.6790</td>\n      <td>0.0347</td>\n      <td>{'shrinkage': 'auto', 'solver': 'lsqr'}</td>\n    </tr>\n    <tr>\n      <th>11</th>\n      <td>MultinomialNB</td>\n      <td>0.6888</td>\n      <td>0.6759</td>\n      <td>0.0467</td>\n      <td>{'alpha': 1.1}</td>\n    </tr>\n    <tr>\n      <th>9</th>\n      <td>GradientBoostingClassifier</td>\n      <td>0.7293</td>\n      <td>0.6748</td>\n      <td>0.0173</td>\n      <td>{'ccp_alpha': 0.0, 'n_estimators': 100}</td>\n    </tr>\n    <tr>\n      <th>6</th>\n      <td>DecisionTreeClassifier</td>\n      <td>0.6925</td>\n      <td>0.6733</td>\n      <td>0.0383</td>\n      <td>{'ccp_alpha': 0.007943143812709028}</td>\n    </tr>\n    <tr>\n      <th>3</th>\n      <td>KNeighborsClassifier</td>\n      <td>0.6921</td>\n      <td>0.6703</td>\n      <td>0.0340</td>\n      <td>{'n_neighbors': 20, 'p': 2, 'weights': 'uniform'}</td>\n    </tr>\n    <tr>\n      <th>2</th>\n      <td>QuadraticDiscriminantAnalysis</td>\n      <td>0.6856</td>\n      <td>0.6644</td>\n      <td>0.0279</td>\n      <td>{'reg_param': 0.1}</td>\n    </tr>\n    <tr>\n      <th>5</th>\n      <td>SVC</td>\n      <td>0.7123</td>\n      <td>0.6558</td>\n      <td>0.0274</td>\n      <td>{'C': 2, 'degree': 2, 'gamma': 'scale', 'kerne...</td>\n    </tr>\n    <tr>\n      <th>10</th>\n      <td>GaussianNB</td>\n      <td>0.6687</td>\n      <td>0.5868</td>\n      <td>0.0783</td>\n      <td>{'var_smoothing': 1}</td>\n    </tr>\n  </tbody>\n</table>\n</div>"
     },
     "execution_count": 63,
     "metadata": {},
     "output_type": "execute_result"
    }
   ],
   "source": [
    "from statistics import mean\n",
    "\n",
    "DECIMAL_PLACES = 4\n",
    "\n",
    "models_summary_df = pd.DataFrame({'Classifier': models.keys(), 'Best score': [round(m.best_score_, DECIMAL_PLACES) for m in models.values()],\n",
    "                                  'Average score': [round(mean(m.cv_results_.get('mean_test_score')), DECIMAL_PLACES) for m in models.values()],\n",
    "                                  'Average std': [round(mean(m.cv_results_.get('std_test_score')), DECIMAL_PLACES) for m in models.values()],\n",
    "                                  'Best params': [m.best_params_ for m in models.values()]})\n",
    "models_summary_df = models_summary_df.sort_values('Average score', ascending=False)\n",
    "models_summary_df"
   ],
   "metadata": {
    "collapsed": false,
    "ExecuteTime": {
     "end_time": "2023-06-02T07:57:51.696396800Z",
     "start_time": "2023-06-02T07:57:51.654277500Z"
    }
   }
  },
  {
   "cell_type": "markdown",
   "source": [
    "In the cell below we build and show bar plot with classifiers results summary."
   ],
   "metadata": {
    "collapsed": false
   }
  },
  {
   "cell_type": "code",
   "execution_count": 72,
   "outputs": [
    {
     "data": {
      "text/plain": "<Figure size 1600x600 with 1 Axes>",
      "image/png": "[encoded data removed]"
     },
     "metadata": {},
     "output_type": "display_data"
    }
   ],
   "source": [
    "import matplotlib.pyplot as plt\n",
    "import matplotlib as mpl\n",
    "\n",
    "fig, ax = plt.subplots(figsize=(16,6))\n",
    "\n",
    "colors = [mpl.colormaps['Set3'](i) for i in range(12)]\n",
    "bars = ax.bar(models_summary_df['Classifier'], models_summary_df['Average score'], yerr=models_summary_df['Average std'], color=colors)\n",
    "ax.set_xticklabels([])\n",
    "ax.set_ylim(0.5, 0.8)\n",
    "ax.set_title('Average score by classifier', fontsize=\"18\")\n",
    "ax.set_xlabel('Classifier', fontsize=\"14\")\n",
    "ax.set_ylabel('Average score', fontsize=\"14\")\n",
    "ax.legend(bars, models_summary_df['Classifier'], bbox_to_anchor = (1.37, 0.5), loc='center right', fontsize=\"14\")\n",
    "\n",
    "fig.subplots_adjust(right=0.8)\n",
    "\n",
    "plt.show()"
   ],
   "metadata": {
    "collapsed": false,
    "ExecuteTime": {
     "end_time": "2023-06-02T07:59:24.999818900Z",
     "start_time": "2023-06-02T07:59:24.808169300Z"
    }
   }
  },
  {
   "cell_type": "markdown",
   "source": [
    "### Choosing final model\n",
    "As we see 4 classifiers have notably better scores than the others - Linear SVC and BaggingClassifier with about 71% and RandomForestClassifier and LogisticRegression with about 70% of f1_micro average score.\n",
    "Out of these 4 we choose RandomForestClassifier because it has the best 'best score' and second the best 'average std'."
   ],
   "metadata": {
    "collapsed": false
   }
  },
  {
   "cell_type": "code",
   "execution_count": 65,
   "outputs": [],
   "source": [
    "horse_colic_classifier = model8.best_estimator_"
   ],
   "metadata": {
    "collapsed": false,
    "ExecuteTime": {
     "end_time": "2023-06-02T07:58:40.810811600Z",
     "start_time": "2023-06-02T07:58:40.794587300Z"
    }
   }
  },
  {
   "cell_type": "markdown",
   "source": [
    "Once we have chosen the final classifier then we will get more familiar with it."
   ],
   "metadata": {
    "collapsed": false
   }
  },
  {
   "cell_type": "code",
   "execution_count": 66,
   "outputs": [
    {
     "data": {
      "text/plain": "                                              Feature  Importance\n47                                      total protein    0.096260\n46                                 packed cell volume    0.091343\n44                                              pulse    0.084533\n43                                 rectal temperature    0.063393\n45                                   respiratory rate    0.047700\n48                                   mucous membranes    0.047183\n11                       lesion type -> strangulation    0.038639\n52                               abdominal distension    0.037180\n19           lesion specific code -> volvulus/torsion    0.036397\n55                                  number of lesions    0.026675\n26                     pain -> continuous severe pain    0.024221\n49                       capillary refill time >= 3s?    0.023904\n29                   pain -> intermittent severe pain    0.022126\n53                                           surgery?    0.021806\n51                                 nasogastric reflux    0.019991\n50                                   nasogastric tube    0.018953\n10                              lesion type -> simple    0.016934\n28                     pain -> intermittent mild pain    0.015460\n34               rectal examination - feces -> absent    0.013885\n30                              peristalsis -> absent    0.013422\n2                              lesion site -> lg colo    0.013034\n32                          peristalsis -> hypomotile    0.012285\n1                         lesion site -> sm intestine    0.011243\n39               abdomen -> distended small intestine    0.010568\n0                              lesion site -> gastric    0.010220\n38               abdomen -> distended large intestine    0.009570\n35            rectal examination - feces -> decreased    0.009555\n3                   lesion site -> lg colon and cecum    0.009345\n22                     lesion specific code -> hernia    0.009338\n15                 lesion specific code -> obturation    0.009249\n13                       lesion subtype -> mechanical    0.009204\n23  lesion specific code -> lipoma/slenic incarcer...    0.009169\n27                                  pain -> depressed    0.009108\n6               lesion site -> retum/descending colon    0.009105\n17                  lesion specific code -> extrinsic    0.008530\n37               rectal examination - feces -> normal    0.007665\n9                 lesion site -> all intestinal sites    0.007339\n4                                lesion site -> cecum    0.007228\n12                        lesion type -> inflammation    0.007208\n54                                             adult?    0.006899\n14                        lesion subtype -> paralytic    0.006633\n16                  lesion specific code -> intrinsic    0.006024\n18                   lesion specific code -> adynamic    0.005193\n33                              peristalsis -> normal    0.004355\n41                                  abdomen -> normal    0.004295\n31                         peristalsis -> hypermotile    0.003318\n25                             pain -> alert, no pain    0.003304\n20               lesion specific code -> intussuption    0.003255\n5                     lesion site -> transverse colon    0.003169\n42                                   abdomen -> other    0.003158\n21             lesion specific code -> thromboembolic    0.002730\n36            rectal examination - feces -> increased    0.002514\n40       abdomen -> firm feces in the large intestine    0.002507\n24               lesion specific code -> displacement    0.001588\n7                               lesion site -> uterus    0.001056\n8                              lesion site -> bladder    0.001036",
      "text/html": "<div>\n<style scoped>\n    .dataframe tbody tr th:only-of-type {\n        vertical-align: middle;\n    }\n\n    .dataframe tbody tr th {\n        vertical-align: top;\n    }\n\n    .dataframe thead th {\n        text-align: right;\n    }\n</style>\n<table border=\"1\" class=\"dataframe\">\n  <thead>\n    <tr style=\"text-align: right;\">\n      <th></th>\n      <th>Feature</th>\n      <th>Importance</th>\n    </tr>\n  </thead>\n  <tbody>\n    <tr>\n      <th>47</th>\n      <td>total protein</td>\n      <td>0.096260</td>\n    </tr>\n    <tr>\n      <th>46</th>\n      <td>packed cell volume</td>\n      <td>0.091343</td>\n    </tr>\n    <tr>\n      <th>44</th>\n      <td>pulse</td>\n      <td>0.084533</td>\n    </tr>\n    <tr>\n      <th>43</th>\n      <td>rectal temperature</td>\n      <td>0.063393</td>\n    </tr>\n    <tr>\n      <th>45</th>\n      <td>respiratory rate</td>\n      <td>0.047700</td>\n    </tr>\n    <tr>\n      <th>48</th>\n      <td>mucous membranes</td>\n      <td>0.047183</td>\n    </tr>\n    <tr>\n      <th>11</th>\n      <td>lesion type -&gt; strangulation</td>\n      <td>0.038639</td>\n    </tr>\n    <tr>\n      <th>52</th>\n      <td>abdominal distension</td>\n      <td>0.037180</td>\n    </tr>\n    <tr>\n      <th>19</th>\n      <td>lesion specific code -&gt; volvulus/torsion</td>\n      <td>0.036397</td>\n    </tr>\n    <tr>\n      <th>55</th>\n      <td>number of lesions</td>\n      <td>0.026675</td>\n    </tr>\n    <tr>\n      <th>26</th>\n      <td>pain -&gt; continuous severe pain</td>\n      <td>0.024221</td>\n    </tr>\n    <tr>\n      <th>49</th>\n      <td>capillary refill time &gt;= 3s?</td>\n      <td>0.023904</td>\n    </tr>\n    <tr>\n      <th>29</th>\n      <td>pain -&gt; intermittent severe pain</td>\n      <td>0.022126</td>\n    </tr>\n    <tr>\n      <th>53</th>\n      <td>surgery?</td>\n      <td>0.021806</td>\n    </tr>\n    <tr>\n      <th>51</th>\n      <td>nasogastric reflux</td>\n      <td>0.019991</td>\n    </tr>\n    <tr>\n      <th>50</th>\n      <td>nasogastric tube</td>\n      <td>0.018953</td>\n    </tr>\n    <tr>\n      <th>10</th>\n      <td>lesion type -&gt; simple</td>\n      <td>0.016934</td>\n    </tr>\n    <tr>\n      <th>28</th>\n      <td>pain -&gt; intermittent mild pain</td>\n      <td>0.015460</td>\n    </tr>\n    <tr>\n      <th>34</th>\n      <td>rectal examination - feces -&gt; absent</td>\n      <td>0.013885</td>\n    </tr>\n    <tr>\n      <th>30</th>\n      <td>peristalsis -&gt; absent</td>\n      <td>0.013422</td>\n    </tr>\n    <tr>\n      <th>2</th>\n      <td>lesion site -&gt; lg colo</td>\n      <td>0.013034</td>\n    </tr>\n    <tr>\n      <th>32</th>\n      <td>peristalsis -&gt; hypomotile</td>\n      <td>0.012285</td>\n    </tr>\n    <tr>\n      <th>1</th>\n      <td>lesion site -&gt; sm intestine</td>\n      <td>0.011243</td>\n    </tr>\n    <tr>\n      <th>39</th>\n      <td>abdomen -&gt; distended small intestine</td>\n      <td>0.010568</td>\n    </tr>\n    <tr>\n      <th>0</th>\n      <td>lesion site -&gt; gastric</td>\n      <td>0.010220</td>\n    </tr>\n    <tr>\n      <th>38</th>\n      <td>abdomen -&gt; distended large intestine</td>\n      <td>0.009570</td>\n    </tr>\n    <tr>\n      <th>35</th>\n      <td>rectal examination - feces -&gt; decreased</td>\n      <td>0.009555</td>\n    </tr>\n    <tr>\n      <th>3</th>\n      <td>lesion site -&gt; lg colon and cecum</td>\n      <td>0.009345</td>\n    </tr>\n    <tr>\n      <th>22</th>\n      <td>lesion specific code -&gt; hernia</td>\n      <td>0.009338</td>\n    </tr>\n    <tr>\n      <th>15</th>\n      <td>lesion specific code -&gt; obturation</td>\n      <td>0.009249</td>\n    </tr>\n    <tr>\n      <th>13</th>\n      <td>lesion subtype -&gt; mechanical</td>\n      <td>0.009204</td>\n    </tr>\n    <tr>\n      <th>23</th>\n      <td>lesion specific code -&gt; lipoma/slenic incarcer...</td>\n      <td>0.009169</td>\n    </tr>\n    <tr>\n      <th>27</th>\n      <td>pain -&gt; depressed</td>\n      <td>0.009108</td>\n    </tr>\n    <tr>\n      <th>6</th>\n      <td>lesion site -&gt; retum/descending colon</td>\n      <td>0.009105</td>\n    </tr>\n    <tr>\n      <th>17</th>\n      <td>lesion specific code -&gt; extrinsic</td>\n      <td>0.008530</td>\n    </tr>\n    <tr>\n      <th>37</th>\n      <td>rectal examination - feces -&gt; normal</td>\n      <td>0.007665</td>\n    </tr>\n    <tr>\n      <th>9</th>\n      <td>lesion site -&gt; all intestinal sites</td>\n      <td>0.007339</td>\n    </tr>\n    <tr>\n      <th>4</th>\n      <td>lesion site -&gt; cecum</td>\n      <td>0.007228</td>\n    </tr>\n    <tr>\n      <th>12</th>\n      <td>lesion type -&gt; inflammation</td>\n      <td>0.007208</td>\n    </tr>\n    <tr>\n      <th>54</th>\n      <td>adult?</td>\n      <td>0.006899</td>\n    </tr>\n    <tr>\n      <th>14</th>\n      <td>lesion subtype -&gt; paralytic</td>\n      <td>0.006633</td>\n    </tr>\n    <tr>\n      <th>16</th>\n      <td>lesion specific code -&gt; intrinsic</td>\n      <td>0.006024</td>\n    </tr>\n    <tr>\n      <th>18</th>\n      <td>lesion specific code -&gt; adynamic</td>\n      <td>0.005193</td>\n    </tr>\n    <tr>\n      <th>33</th>\n      <td>peristalsis -&gt; normal</td>\n      <td>0.004355</td>\n    </tr>\n    <tr>\n      <th>41</th>\n      <td>abdomen -&gt; normal</td>\n      <td>0.004295</td>\n    </tr>\n    <tr>\n      <th>31</th>\n      <td>peristalsis -&gt; hypermotile</td>\n      <td>0.003318</td>\n    </tr>\n    <tr>\n      <th>25</th>\n      <td>pain -&gt; alert, no pain</td>\n      <td>0.003304</td>\n    </tr>\n    <tr>\n      <th>20</th>\n      <td>lesion specific code -&gt; intussuption</td>\n      <td>0.003255</td>\n    </tr>\n    <tr>\n      <th>5</th>\n      <td>lesion site -&gt; transverse colon</td>\n      <td>0.003169</td>\n    </tr>\n    <tr>\n      <th>42</th>\n      <td>abdomen -&gt; other</td>\n      <td>0.003158</td>\n    </tr>\n    <tr>\n      <th>21</th>\n      <td>lesion specific code -&gt; thromboembolic</td>\n      <td>0.002730</td>\n    </tr>\n    <tr>\n      <th>36</th>\n      <td>rectal examination - feces -&gt; increased</td>\n      <td>0.002514</td>\n    </tr>\n    <tr>\n      <th>40</th>\n      <td>abdomen -&gt; firm feces in the large intestine</td>\n      <td>0.002507</td>\n    </tr>\n    <tr>\n      <th>24</th>\n      <td>lesion specific code -&gt; displacement</td>\n      <td>0.001588</td>\n    </tr>\n    <tr>\n      <th>7</th>\n      <td>lesion site -&gt; uterus</td>\n      <td>0.001056</td>\n    </tr>\n    <tr>\n      <th>8</th>\n      <td>lesion site -&gt; bladder</td>\n      <td>0.001036</td>\n    </tr>\n  </tbody>\n</table>\n</div>"
     },
     "execution_count": 66,
     "metadata": {},
     "output_type": "execute_result"
    }
   ],
   "source": [
    "features_importance_df = pd.DataFrame({\"Feature\": X.columns, \"Importance\": horse_colic_classifier.feature_importances_})\n",
    "features_importance_df = features_importance_df.sort_values('Importance', ascending=False)\n",
    "features_importance_df"
   ],
   "metadata": {
    "collapsed": false,
    "ExecuteTime": {
     "end_time": "2023-06-02T07:58:46.951738900Z",
     "start_time": "2023-06-02T07:58:46.897449300Z"
    }
   }
  },
  {
   "cell_type": "markdown",
   "source": [
    "Now we will group OneHotEncoder variables into original ones. Importance of grouped features will be a max value of them."
   ],
   "metadata": {
    "collapsed": false
   }
  },
  {
   "cell_type": "code",
   "execution_count": 67,
   "outputs": [
    {
     "data": {
      "text/plain": "                         Feature  Importance\n0                  total protein    0.096260\n1             packed cell volume    0.091343\n2                          pulse    0.084533\n3             rectal temperature    0.063393\n4               respiratory rate    0.047700\n5               mucous membranes    0.047183\n19                   lesion type    0.038639\n6           abdominal distension    0.037180\n21          lesion specific code    0.036397\n7              number of lesions    0.026675\n22                          pain    0.024221\n8   capillary refill time >= 3s?    0.023904\n9                       surgery?    0.021806\n10            nasogastric reflux    0.019991\n11              nasogastric tube    0.018953\n24    rectal examination - feces    0.013885\n23                   peristalsis    0.013422\n18                   lesion site    0.013034\n25                       abdomen    0.010568\n20                lesion subtype    0.009204\n14                        adult?    0.006899",
      "text/html": "<div>\n<style scoped>\n    .dataframe tbody tr th:only-of-type {\n        vertical-align: middle;\n    }\n\n    .dataframe tbody tr th {\n        vertical-align: top;\n    }\n\n    .dataframe thead th {\n        text-align: right;\n    }\n</style>\n<table border=\"1\" class=\"dataframe\">\n  <thead>\n    <tr style=\"text-align: right;\">\n      <th></th>\n      <th>Feature</th>\n      <th>Importance</th>\n    </tr>\n  </thead>\n  <tbody>\n    <tr>\n      <th>0</th>\n      <td>total protein</td>\n      <td>0.096260</td>\n    </tr>\n    <tr>\n      <th>1</th>\n      <td>packed cell volume</td>\n      <td>0.091343</td>\n    </tr>\n    <tr>\n      <th>2</th>\n      <td>pulse</td>\n      <td>0.084533</td>\n    </tr>\n    <tr>\n      <th>3</th>\n      <td>rectal temperature</td>\n      <td>0.063393</td>\n    </tr>\n    <tr>\n      <th>4</th>\n      <td>respiratory rate</td>\n      <td>0.047700</td>\n    </tr>\n    <tr>\n      <th>5</th>\n      <td>mucous membranes</td>\n      <td>0.047183</td>\n    </tr>\n    <tr>\n      <th>19</th>\n      <td>lesion type</td>\n      <td>0.038639</td>\n    </tr>\n    <tr>\n      <th>6</th>\n      <td>abdominal distension</td>\n      <td>0.037180</td>\n    </tr>\n    <tr>\n      <th>21</th>\n      <td>lesion specific code</td>\n      <td>0.036397</td>\n    </tr>\n    <tr>\n      <th>7</th>\n      <td>number of lesions</td>\n      <td>0.026675</td>\n    </tr>\n    <tr>\n      <th>22</th>\n      <td>pain</td>\n      <td>0.024221</td>\n    </tr>\n    <tr>\n      <th>8</th>\n      <td>capillary refill time &gt;= 3s?</td>\n      <td>0.023904</td>\n    </tr>\n    <tr>\n      <th>9</th>\n      <td>surgery?</td>\n      <td>0.021806</td>\n    </tr>\n    <tr>\n      <th>10</th>\n      <td>nasogastric reflux</td>\n      <td>0.019991</td>\n    </tr>\n    <tr>\n      <th>11</th>\n      <td>nasogastric tube</td>\n      <td>0.018953</td>\n    </tr>\n    <tr>\n      <th>24</th>\n      <td>rectal examination - feces</td>\n      <td>0.013885</td>\n    </tr>\n    <tr>\n      <th>23</th>\n      <td>peristalsis</td>\n      <td>0.013422</td>\n    </tr>\n    <tr>\n      <th>18</th>\n      <td>lesion site</td>\n      <td>0.013034</td>\n    </tr>\n    <tr>\n      <th>25</th>\n      <td>abdomen</td>\n      <td>0.010568</td>\n    </tr>\n    <tr>\n      <th>20</th>\n      <td>lesion subtype</td>\n      <td>0.009204</td>\n    </tr>\n    <tr>\n      <th>14</th>\n      <td>adult?</td>\n      <td>0.006899</td>\n    </tr>\n  </tbody>\n</table>\n</div>"
     },
     "execution_count": 67,
     "metadata": {},
     "output_type": "execute_result"
    }
   ],
   "source": [
    "dummies = ['lesion site', 'lesion type', 'lesion subtype', 'lesion specific code', 'pain',\n",
    "                  'peristalsis', 'rectal examination - feces', 'abdomen']\n",
    "\n",
    "for dummy in dummies:\n",
    "    dummy_df = features_importance_df[features_importance_df['Feature'].str.startswith(dummy + \" ->\")]\n",
    "    if dummy_df.empty:\n",
    "        break\n",
    "    row_to_add = pd.DataFrame({\"Feature\": dummy, \"Importance\": dummy_df[\"Importance\"].max()}, index=[0])\n",
    "    features_importance_df = pd.concat([features_importance_df, row_to_add], ignore_index=True)\n",
    "    features_importance_df = features_importance_df.drop(features_importance_df[features_importance_df['Feature'].str.startswith(dummy + \" ->\")].index)\n",
    "\n",
    "features_importance_df = features_importance_df.sort_values('Importance', ascending=False)\n",
    "features_importance_df"
   ],
   "metadata": {
    "collapsed": false,
    "ExecuteTime": {
     "end_time": "2023-06-02T07:58:50.078066400Z",
     "start_time": "2023-06-02T07:58:50.020757100Z"
    }
   }
  },
  {
   "cell_type": "markdown",
   "source": [
    "And now we will plot a bar to visualize table above"
   ],
   "metadata": {
    "collapsed": false
   }
  },
  {
   "cell_type": "code",
   "execution_count": 74,
   "outputs": [
    {
     "data": {
      "text/plain": "<Figure size 1600x600 with 1 Axes>",
      "image/png": "[encoded data removed]"
     },
     "metadata": {},
     "output_type": "display_data"
    }
   ],
   "source": [
    "fig, ax = plt.subplots(figsize=(16,6))\n",
    "\n",
    "cm = plt.get_cmap('plasma')\n",
    "colors = [cm(12*i) for i in range(21)]\n",
    "bars = ax.bar(features_importance_df['Feature'], features_importance_df['Importance'], color=colors)\n",
    "ax.set_xticklabels([])\n",
    "ax.set_title('Random forest classifier features importance', fontsize=\"18\")\n",
    "ax.set_xlabel('Feature', fontsize=\"14\")\n",
    "ax.set_ylabel('Importance', fontsize=\"14\")\n",
    "ax.legend(bars, features_importance_df['Feature'], bbox_to_anchor = (1.33, 0.5), loc='center right', fontsize=\"14\")\n",
    "\n",
    "fig.subplots_adjust(right=0.8)\n",
    "\n",
    "plt.show()"
   ],
   "metadata": {
    "collapsed": false,
    "ExecuteTime": {
     "end_time": "2023-06-02T07:59:41.891607600Z",
     "start_time": "2023-06-02T07:59:41.607526400Z"
    }
   }
  },
  {
   "cell_type": "markdown",
   "source": [
    "## Evaluation\n",
    "Now we will evaluate our model with a test data."
   ],
   "metadata": {
    "collapsed": false
   }
  },
  {
   "cell_type": "code",
   "execution_count": 75,
   "outputs": [
    {
     "name": "stdout",
     "output_type": "stream",
     "text": [
      "<class 'pandas.core.frame.DataFrame'>\n",
      "Int64Index: 67 entries, 0 to 67\n",
      "Data columns (total 57 columns):\n",
      " #   Column                                               Non-Null Count  Dtype   \n",
      "---  ------                                               --------------  -----   \n",
      " 0   lesion site -> gastric                               67 non-null     float64 \n",
      " 1   lesion site -> sm intestine                          67 non-null     float64 \n",
      " 2   lesion site -> lg colo                               67 non-null     float64 \n",
      " 3   lesion site -> lg colon and cecum                    67 non-null     float64 \n",
      " 4   lesion site -> cecum                                 67 non-null     float64 \n",
      " 5   lesion site -> transverse colon                      67 non-null     float64 \n",
      " 6   lesion site -> retum/descending colon                67 non-null     float64 \n",
      " 7   lesion site -> uterus                                67 non-null     float64 \n",
      " 8   lesion site -> bladder                               67 non-null     float64 \n",
      " 9   lesion site -> all intestinal sites                  67 non-null     float64 \n",
      " 10  lesion type -> simple                                67 non-null     float64 \n",
      " 11  lesion type -> strangulation                         67 non-null     float64 \n",
      " 12  lesion type -> inflammation                          67 non-null     float64 \n",
      " 13  lesion subtype -> mechanical                         67 non-null     float64 \n",
      " 14  lesion subtype -> paralytic                          67 non-null     float64 \n",
      " 15  lesion specific code -> obturation                   67 non-null     float64 \n",
      " 16  lesion specific code -> intrinsic                    67 non-null     float64 \n",
      " 17  lesion specific code -> extrinsic                    67 non-null     float64 \n",
      " 18  lesion specific code -> adynamic                     67 non-null     float64 \n",
      " 19  lesion specific code -> volvulus/torsion             67 non-null     float64 \n",
      " 20  lesion specific code -> intussuption                 67 non-null     float64 \n",
      " 21  lesion specific code -> thromboembolic               67 non-null     float64 \n",
      " 22  lesion specific code -> hernia                       67 non-null     float64 \n",
      " 23  lesion specific code -> lipoma/slenic incarceration  67 non-null     float64 \n",
      " 24  lesion specific code -> displacement                 67 non-null     float64 \n",
      " 25  pain -> alert, no pain                               67 non-null     float64 \n",
      " 26  pain -> continuous severe pain                       67 non-null     float64 \n",
      " 27  pain -> depressed                                    67 non-null     float64 \n",
      " 28  pain -> intermittent mild pain                       67 non-null     float64 \n",
      " 29  pain -> intermittent severe pain                     67 non-null     float64 \n",
      " 30  peristalsis -> absent                                67 non-null     float64 \n",
      " 31  peristalsis -> hypermotile                           67 non-null     float64 \n",
      " 32  peristalsis -> hypomotile                            67 non-null     float64 \n",
      " 33  peristalsis -> normal                                67 non-null     float64 \n",
      " 34  rectal examination - feces -> absent                 67 non-null     float64 \n",
      " 35  rectal examination - feces -> decreased              67 non-null     float64 \n",
      " 36  rectal examination - feces -> increased              67 non-null     float64 \n",
      " 37  rectal examination - feces -> normal                 67 non-null     float64 \n",
      " 38  abdomen -> distended large intestine                 67 non-null     float64 \n",
      " 39  abdomen -> distended small intestine                 67 non-null     float64 \n",
      " 40  abdomen -> firm feces in the large intestine         67 non-null     float64 \n",
      " 41  abdomen -> normal                                    67 non-null     float64 \n",
      " 42  abdomen -> other                                     67 non-null     float64 \n",
      " 43  rectal temperature                                   67 non-null     float64 \n",
      " 44  pulse                                                67 non-null     float64 \n",
      " 45  respiratory rate                                     67 non-null     float64 \n",
      " 46  packed cell volume                                   67 non-null     float64 \n",
      " 47  total protein                                        67 non-null     float64 \n",
      " 48  mucous membranes                                     67 non-null     float64 \n",
      " 49  capillary refill time >= 3s?                         67 non-null     float64 \n",
      " 50  nasogastric tube                                     67 non-null     float64 \n",
      " 51  nasogastric reflux                                   67 non-null     float64 \n",
      " 52  abdominal distension                                 67 non-null     float64 \n",
      " 53  surgery?                                             67 non-null     float64 \n",
      " 54  adult?                                               67 non-null     float64 \n",
      " 55  number of lesions                                    67 non-null     float64 \n",
      " 56  outcome                                              67 non-null     category\n",
      "dtypes: category(1), float64(56)\n",
      "memory usage: 30.0 KB\n"
     ]
    }
   ],
   "source": [
    "horse_colic_test_processed = dataTransformationPipe.transform(horse_colic_test)\n",
    "horse_colic_test_processed.info()"
   ],
   "metadata": {
    "collapsed": false,
    "ExecuteTime": {
     "end_time": "2023-06-02T08:00:04.664857700Z",
     "start_time": "2023-06-02T08:00:04.603128700Z"
    }
   }
  },
  {
   "cell_type": "code",
   "execution_count": 76,
   "outputs": [],
   "source": [
    "X_test, y_test = horse_colic_test_processed.drop('outcome', axis=1), horse_colic_test_processed['outcome']\n",
    "y_pred = horse_colic_classifier.predict(X_test)"
   ],
   "metadata": {
    "collapsed": false,
    "ExecuteTime": {
     "end_time": "2023-06-02T08:00:09.580279400Z",
     "start_time": "2023-06-02T08:00:09.552635600Z"
    }
   }
  },
  {
   "cell_type": "markdown",
   "source": [
    "The final score and confusion matrix is showed below"
   ],
   "metadata": {
    "collapsed": false
   }
  },
  {
   "cell_type": "code",
   "execution_count": 77,
   "outputs": [
    {
     "name": "stdout",
     "output_type": "stream",
     "text": [
      "Confusion matrix:\n",
      "[[ 9  3  0]\n",
      " [ 5 40  2]\n",
      " [ 1  4  3]]\n",
      "F1-micro score: 0.7761\n"
     ]
    }
   ],
   "source": [
    "from sklearn.metrics import f1_score, confusion_matrix\n",
    "\n",
    "confusion_m = confusion_matrix(y_test, y_pred)\n",
    "print(f\"Confusion matrix:\\n{confusion_m}\")\n",
    "print(f\"F1-micro score: {round(f1_score(y_test, y_pred, average='micro'), DECIMAL_PLACES)}\")"
   ],
   "metadata": {
    "collapsed": false,
    "ExecuteTime": {
     "end_time": "2023-06-02T08:00:13.250413900Z",
     "start_time": "2023-06-02T08:00:13.230359500Z"
    }
   }
  },
  {
   "cell_type": "markdown",
   "source": [
    "In conclusion lets print out some statistics and visualize a confusion matrix on the plot."
   ],
   "metadata": {
    "collapsed": false
   }
  },
  {
   "cell_type": "code",
   "execution_count": 78,
   "outputs": [
    {
     "name": "stdout",
     "output_type": "stream",
     "text": [
      "                precision    recall  f1-score   support\n",
      "\n",
      "          died       0.60      0.75      0.67        12\n",
      "         lived       0.85      0.85      0.85        47\n",
      "was euthanized       0.60      0.38      0.46         8\n",
      "\n",
      "      accuracy                           0.78        67\n",
      "     macro avg       0.68      0.66      0.66        67\n",
      "  weighted avg       0.78      0.78      0.77        67\n",
      "\n"
     ]
    }
   ],
   "source": [
    "from sklearn.metrics import classification_report\n",
    "\n",
    "print(classification_report(y_test, y_pred))"
   ],
   "metadata": {
    "collapsed": false,
    "ExecuteTime": {
     "end_time": "2023-06-02T08:00:15.409218500Z",
     "start_time": "2023-06-02T08:00:15.389437700Z"
    }
   }
  },
  {
   "cell_type": "code",
   "execution_count": 79,
   "outputs": [
    {
     "data": {
      "text/plain": "<Figure size 640x480 with 2 Axes>",
      "image/png": "[encoded data removed]"
     },
     "metadata": {},
     "output_type": "display_data"
    }
   ],
   "source": [
    "from sklearn.metrics import ConfusionMatrixDisplay\n",
    "\n",
    "confusion_m_display = ConfusionMatrixDisplay(confusion_matrix = confusion_m, display_labels=['died', 'lived', 'was euthanized']).plot()\n",
    "\n",
    "plt.show()"
   ],
   "metadata": {
    "collapsed": false,
    "ExecuteTime": {
     "end_time": "2023-06-02T08:00:17.244225800Z",
     "start_time": "2023-06-02T08:00:17.120749200Z"
    }
   }
  },
  {
   "cell_type": "markdown",
   "source": [
    "## Extras - binary prediction (died/survived)"
   ],
   "metadata": {
    "collapsed": false
   }
  },
  {
   "cell_type": "code",
   "execution_count": 80,
   "outputs": [
    {
     "data": {
      "text/plain": "lived    178\ndied     121\nName: outcome, dtype: int64"
     },
     "execution_count": 80,
     "metadata": {},
     "output_type": "execute_result"
    }
   ],
   "source": [
    "class BinaryOutcomeTransformer:\n",
    "    def transform(self,X,y=None):\n",
    "        X[\"outcome\"] = X[\"outcome\"].replace(\"was euthanized\", \"died\")\n",
    "        return X\n",
    "\n",
    "    def fit(self, X, y=None):\n",
    "        return self\n",
    "\n",
    "dataTransformationBinaryPipe = Pipeline([\n",
    "    ('3_class_pipe', dataTransformationPipe),\n",
    "    ('binary', BinaryOutcomeTransformer())\n",
    "])\n",
    "\n",
    "horse_colic_train_binary = dataTransformationBinaryPipe.fit_transform(horse_colic_train)\n",
    "horse_colic_train_binary[\"outcome\"].value_counts()"
   ],
   "metadata": {
    "collapsed": false,
    "ExecuteTime": {
     "end_time": "2023-06-02T08:00:22.530164700Z",
     "start_time": "2023-06-02T08:00:22.446090500Z"
    }
   }
  },
  {
   "cell_type": "code",
   "execution_count": 81,
   "outputs": [
    {
     "data": {
      "text/plain": "RandomForestClassifier(ccp_alpha=0.002210917811940833, random_state=42)",
      "text/html": "<style>#sk-container-id-1 {color: black;background-color: white;}#sk-container-id-1 pre{padding: 0;}#sk-container-id-1 div.sk-toggleable {background-color: white;}#sk-container-id-1 label.sk-toggleable__label {cursor: pointer;display: block;width: 100%;margin-bottom: 0;padding: 0.3em;box-sizing: border-box;text-align: center;}#sk-container-id-1 label.sk-toggleable__label-arrow:before {content: \"▸\";float: left;margin-right: 0.25em;color: #696969;}#sk-container-id-1 label.sk-toggleable__label-arrow:hover:before {color: black;}#sk-container-id-1 div.sk-estimator:hover label.sk-toggleable__label-arrow:before {color: black;}#sk-container-id-1 div.sk-toggleable__content {max-height: 0;max-width: 0;overflow: hidden;text-align: left;background-color: #f0f8ff;}#sk-container-id-1 div.sk-toggleable__content pre {margin: 0.2em;color: black;border-radius: 0.25em;background-color: #f0f8ff;}#sk-container-id-1 input.sk-toggleable__control:checked~div.sk-toggleable__content {max-height: 200px;max-width: 100%;overflow: auto;}#sk-container-id-1 input.sk-toggleable__control:checked~label.sk-toggleable__label-arrow:before {content: \"▾\";}#sk-container-id-1 div.sk-estimator input.sk-toggleable__control:checked~label.sk-toggleable__label {background-color: #d4ebff;}#sk-container-id-1 div.sk-label input.sk-toggleable__control:checked~label.sk-toggleable__label {background-color: #d4ebff;}#sk-container-id-1 input.sk-hidden--visually {border: 0;clip: rect(1px 1px 1px 1px);clip: rect(1px, 1px, 1px, 1px);height: 1px;margin: -1px;overflow: hidden;padding: 0;position: absolute;width: 1px;}#sk-container-id-1 div.sk-estimator {font-family: monospace;background-color: #f0f8ff;border: 1px dotted black;border-radius: 0.25em;box-sizing: border-box;margin-bottom: 0.5em;}#sk-container-id-1 div.sk-estimator:hover {background-color: #d4ebff;}#sk-container-id-1 div.sk-parallel-item::after {content: \"\";width: 100%;border-bottom: 1px solid gray;flex-grow: 1;}#sk-container-id-1 div.sk-label:hover label.sk-toggleable__label {background-color: #d4ebff;}#sk-container-id-1 div.sk-serial::before {content: \"\";position: absolute;border-left: 1px solid gray;box-sizing: border-box;top: 0;bottom: 0;left: 50%;z-index: 0;}#sk-container-id-1 div.sk-serial {display: flex;flex-direction: column;align-items: center;background-color: white;padding-right: 0.2em;padding-left: 0.2em;position: relative;}#sk-container-id-1 div.sk-item {position: relative;z-index: 1;}#sk-container-id-1 div.sk-parallel {display: flex;align-items: stretch;justify-content: center;background-color: white;position: relative;}#sk-container-id-1 div.sk-item::before, #sk-container-id-1 div.sk-parallel-item::before {content: \"\";position: absolute;border-left: 1px solid gray;box-sizing: border-box;top: 0;bottom: 0;left: 50%;z-index: -1;}#sk-container-id-1 div.sk-parallel-item {display: flex;flex-direction: column;z-index: 1;position: relative;background-color: white;}#sk-container-id-1 div.sk-parallel-item:first-child::after {align-self: flex-end;width: 50%;}#sk-container-id-1 div.sk-parallel-item:last-child::after {align-self: flex-start;width: 50%;}#sk-container-id-1 div.sk-parallel-item:only-child::after {width: 0;}#sk-container-id-1 div.sk-dashed-wrapped {border: 1px dashed gray;margin: 0 0.4em 0.5em 0.4em;box-sizing: border-box;padding-bottom: 0.4em;background-color: white;}#sk-container-id-1 div.sk-label label {font-family: monospace;font-weight: bold;display: inline-block;line-height: 1.2em;}#sk-container-id-1 div.sk-label-container {text-align: center;}#sk-container-id-1 div.sk-container {/* jupyter's `normalize.less` sets `[hidden] { display: none; }` but bootstrap.min.css set `[hidden] { display: none !important; }` so we also need the `!important` here to be able to override the default hidden behavior on the sphinx rendered scikit-learn.org. See: https://github.com/scikit-learn/scikit-learn/issues/21755 */display: inline-block !important;position: relative;}#sk-container-id-1 div.sk-text-repr-fallback {display: none;}</style><div id=\"sk-container-id-1\" class=\"sk-top-container\"><div class=\"sk-text-repr-fallback\"><pre>RandomForestClassifier(ccp_alpha=0.002210917811940833, random_state=42)</pre><b>In a Jupyter environment, please rerun this cell to show the HTML representation or trust the notebook. <br />On GitHub, the HTML representation is unable to render, please try loading this page with nbviewer.org.</b></div><div class=\"sk-container\" hidden><div class=\"sk-item\"><div class=\"sk-estimator sk-toggleable\"><input class=\"sk-toggleable__control sk-hidden--visually\" id=\"sk-estimator-id-1\" type=\"checkbox\" checked><label for=\"sk-estimator-id-1\" class=\"sk-toggleable__label sk-toggleable__label-arrow\">RandomForestClassifier</label><div class=\"sk-toggleable__content\"><pre>RandomForestClassifier(ccp_alpha=0.002210917811940833, random_state=42)</pre></div></div></div></div></div>"
     },
     "execution_count": 81,
     "metadata": {},
     "output_type": "execute_result"
    }
   ],
   "source": [
    "from sklearn.base import clone\n",
    "\n",
    "\n",
    "X_train_binary, y_train_binary = horse_colic_train_binary.drop('outcome', axis=1), horse_colic_train_binary['outcome']\n",
    "\n",
    "horse_colic_classifier_binary = clone(horse_colic_classifier)\n",
    "horse_colic_classifier_binary.fit(X_train_binary, y_train_binary)"
   ],
   "metadata": {
    "collapsed": false,
    "ExecuteTime": {
     "end_time": "2023-06-02T08:00:40.049529600Z",
     "start_time": "2023-06-02T08:00:39.924923100Z"
    }
   }
  },
  {
   "cell_type": "code",
   "execution_count": 82,
   "outputs": [],
   "source": [
    "horse_colic_test_binary = dataTransformationBinaryPipe.transform(horse_colic_test)\n",
    "\n",
    "X_test_binary, y_test_binary = horse_colic_test_binary.drop('outcome', axis=1), horse_colic_test_binary['outcome']\n",
    "\n",
    "y_pred_binary = horse_colic_classifier_binary.predict(X_test_binary)"
   ],
   "metadata": {
    "collapsed": false,
    "ExecuteTime": {
     "end_time": "2023-06-02T08:00:41.395403200Z",
     "start_time": "2023-06-02T08:00:41.301931600Z"
    }
   }
  },
  {
   "cell_type": "code",
   "execution_count": 83,
   "outputs": [
    {
     "name": "stdout",
     "output_type": "stream",
     "text": [
      "Confusion matrix:\n",
      "[[17  3]\n",
      " [10 37]]\n",
      "F1 score: 0.806\n"
     ]
    }
   ],
   "source": [
    "confusion_m_binary = confusion_matrix(y_test_binary, y_pred_binary)\n",
    "print(f\"Confusion matrix:\\n{confusion_m_binary}\")\n",
    "print(f\"F1 score: {round(f1_score(y_test_binary, y_pred_binary, average='micro'), DECIMAL_PLACES)}\")"
   ],
   "metadata": {
    "collapsed": false,
    "ExecuteTime": {
     "end_time": "2023-06-02T08:00:42.192581500Z",
     "start_time": "2023-06-02T08:00:42.187580600Z"
    }
   }
  },
  {
   "cell_type": "code",
   "execution_count": 84,
   "outputs": [
    {
     "data": {
      "text/plain": "<Figure size 640x480 with 2 Axes>",
      "image/png": "[encoded data removed]"
     },
     "metadata": {},
     "output_type": "display_data"
    }
   ],
   "source": [
    "confusion_m_binary_display = ConfusionMatrixDisplay(confusion_matrix = confusion_m_binary, display_labels=['died', 'lived']).plot()\n",
    "\n",
    "plt.show()"
   ],
   "metadata": {
    "collapsed": false,
    "ExecuteTime": {
     "end_time": "2023-06-02T08:00:43.128502500Z",
     "start_time": "2023-06-02T08:00:42.924634700Z"
    }
   }
  }
 ],
 "metadata": {
  "kernelspec": {
   "display_name": "Python 3 (ipykernel)",
   "language": "python",
   "name": "python3"
  },
  "language_info": {
   "codemirror_mode": {
    "name": "ipython",
    "version": 3
   },
   "file_extension": ".py",
   "mimetype": "text/x-python",
   "name": "python",
   "nbconvert_exporter": "python",
   "pygments_lexer": "ipython3",
   "version": "3.8.15"
  }
 },
 "nbformat": 4,
 "nbformat_minor": 5
}
