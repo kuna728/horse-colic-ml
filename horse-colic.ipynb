{
 "cells": [
  {
   "cell_type": "markdown",
   "source": [
    "# Horse colic\n",
    "## Project goal\n",
    "The goal of the project is to train and build a horse colic complication model based on [Horse Colic Data Set](https://archive.ics.uci.edu/ml/datasets/Horse+Colic).\n",
    "The task is a multinomial classification problem and outcome model should predict whether a colic horse will die, survive or be euthanized."
   ],
   "metadata": {
    "collapsed": false
   }
  },
  {
   "cell_type": "markdown",
   "source": [
    "## Data acquisition, analysis and pre-processing\n",
    "### Data downloading\n",
    "Dataset is split into 3 parts:\n",
    "- file *horse-colic.data* with training data - 300 records\n",
    "- file *horse-colic.test* with test data - 68 records\n",
    "- file *horse-colic.names* with dataset description and column names\n",
    "\n",
    "Data is downloaded programmatically and saved into data subfolder of current working directory. However, *horse-colic.names* need to be parsed before pandas can use it as column names definition. Cell below does this task. Parsed column names are saved into *horse-colic.names.parsed* file."
   ],
   "metadata": {
    "collapsed": false
   }
  },
  {
   "cell_type": "code",
   "execution_count": 3,
   "outputs": [
    {
     "name": "stdout",
     "output_type": "stream",
     "text": [
      "Directory ./data already exists\n"
     ]
    }
   ],
   "source": [
    "URL = 'https://archive.ics.uci.edu/ml/machine-learning-databases/horse-colic'\n",
    "TRAIN_DATA_FILE_NAME = 'horse-colic.data'\n",
    "TEST_DATA_FILE_NAME = 'horse-colic.test'\n",
    "NAMES_FILE_NAME = 'horse-colic.names'\n",
    "DATA_DIRECTORY_PATH = './data'\n",
    "COLUMN_NAMES = []\n",
    "\n",
    "import os\n",
    "import re\n",
    "import requests\n",
    "\n",
    "#function downloads 3 files and saves it in given path. function also creates 4th file which contains parsed dataframe-ready column names\n",
    "def download_data(url=URL, train_file_name=TRAIN_DATA_FILE_NAME, test_file_name=TEST_DATA_FILE_NAME,\n",
    "                  names_file_name=NAMES_FILE_NAME, path=DATA_DIRECTORY_PATH):\n",
    "    try:\n",
    "        os.mkdir(path)\n",
    "    except FileExistsError:\n",
    "        print(f\"Directory {path} already exists\")\n",
    "    for filename in [train_file_name, test_file_name, names_file_name]:\n",
    "        download_save_file(url, filename, path=path)\n",
    "    parse_names(names_file_name, f\"{names_file_name}.parsed\")\n",
    "\n",
    "#function downloads single file and saves it in given path\n",
    "def download_save_file(url, filename, path=DATA_DIRECTORY_PATH):\n",
    "    content = requests.get(f\"{url}/{filename}\").content\n",
    "    with open(f\"{path}/{filename}\", 'w') as f:\n",
    "        f.write(bytes.decode(content, 'utf-8').replace(' \\n', '\\n')) #trailing space at the line endings leads to problems\n",
    "\n",
    "#function extracts column names from names file (file also contains column descriptions)\n",
    "def parse_names(filename_in, filename_out, path=DATA_DIRECTORY_PATH):\n",
    "    pattern = '^\\d+:\\s*' #columns are generally listed like '{id}:'\n",
    "    names = []\n",
    "    with open(f\"{path}/{filename_in}\") as f:\n",
    "        for line in [line.strip() for line in f.readlines()]:\n",
    "            if re.match(pattern, line):\n",
    "                names.append(re.sub(pattern, '', line))\n",
    "    last_name = names.pop()\n",
    "    names.extend(['lesion type 1', 'lesion type 2', 'lesion type 3']) #some columns are listed in different way\n",
    "    names.append(last_name)\n",
    "    with open(f\"{path}/{filename_out}\", \"w\") as f:\n",
    "        f.write(','.join(names))\n",
    "    COLUMN_NAMES.extend(names) #save it in variable for later usage\n",
    "\n",
    "download_data()"
   ],
   "metadata": {
    "collapsed": false,
    "ExecuteTime": {
     "end_time": "2023-05-23T18:49:21.733570800Z",
     "start_time": "2023-05-23T18:49:18.895014800Z"
    }
   }
  },
  {
   "cell_type": "markdown",
   "source": [
    "### Data analysis\n",
    "#### Missing values\n",
    "Many fields with null values - according to description its about 30% of missing values. There are only 7 columns out of 28 with value in every row! Moreover, there are only 6 rows out of 300 in values in every col! Fixing those missing values will be quite challenging.\n",
    "Rows with missing values in outcome column definitely should be dropped, because outcome is the value that we predict."
   ],
   "metadata": {
    "collapsed": false
   }
  },
  {
   "cell_type": "code",
   "execution_count": 4,
   "outputs": [
    {
     "name": "stdout",
     "output_type": "stream",
     "text": [
      "<class 'pandas.core.frame.DataFrame'>\n",
      "RangeIndex: 300 entries, 0 to 299\n",
      "Data columns (total 28 columns):\n",
      " #   Column                                                   Non-Null Count  Dtype  \n",
      "---  ------                                                   --------------  -----  \n",
      " 0   surgery?                                                 299 non-null    float64\n",
      " 1   Age                                                      300 non-null    int64  \n",
      " 2   Hospital Number                                          300 non-null    int64  \n",
      " 3   rectal temperature                                       240 non-null    float64\n",
      " 4   pulse                                                    276 non-null    float64\n",
      " 5   respiratory rate                                         242 non-null    float64\n",
      " 6   temperature of extremities                               244 non-null    float64\n",
      " 7   peripheral pulse                                         231 non-null    float64\n",
      " 8   mucous membranes                                         253 non-null    float64\n",
      " 9   capillary refill time                                    268 non-null    float64\n",
      " 10  pain - a subjective judgement of the horse's pain level  245 non-null    float64\n",
      " 11  peristalsis                                              256 non-null    float64\n",
      " 12  abdominal distension                                     244 non-null    float64\n",
      " 13  nasogastric tube                                         196 non-null    float64\n",
      " 14  nasogastric reflux                                       194 non-null    float64\n",
      " 15  nasogastric reflux PH                                    53 non-null     float64\n",
      " 16  rectal examination - feces                               198 non-null    float64\n",
      " 17  abdomen                                                  182 non-null    float64\n",
      " 18  packed cell volume                                       271 non-null    float64\n",
      " 19  total protein                                            267 non-null    float64\n",
      " 20  abdominocentesis appearance                              135 non-null    float64\n",
      " 21  abdomcentesis total protein                              102 non-null    float64\n",
      " 22  outcome                                                  299 non-null    float64\n",
      " 23  surgical lesion?                                         300 non-null    int64  \n",
      " 24  lesion type 1                                            300 non-null    int64  \n",
      " 25  lesion type 2                                            300 non-null    int64  \n",
      " 26  lesion type 3                                            300 non-null    int64  \n",
      " 27  cp_data                                                  300 non-null    int64  \n",
      "dtypes: float64(21), int64(7)\n",
      "memory usage: 65.8 KB\n",
      "not null rows count: 6\n"
     ]
    }
   ],
   "source": [
    "import pandas as pd\n",
    "\n",
    "horse_colic_train = pd.read_csv(\"./data/horse-colic.data\", sep=' ', na_values='?', header=None, names=COLUMN_NAMES)\n",
    "horse_colic_test = pd.read_csv(\"./data/horse-colic.test\", sep=' ', na_values='?', header=None, names=COLUMN_NAMES)\n",
    "horse_colic_train.info() #columns without nulls counted manually\n",
    "print(f\"not null rows count: {horse_colic_train[horse_colic_train.notnull().all(1)].shape[0]}\")"
   ],
   "metadata": {
    "collapsed": false,
    "ExecuteTime": {
     "end_time": "2023-05-23T18:49:26.545297400Z",
     "start_time": "2023-05-23T18:49:26.507403600Z"
    }
   }
  },
  {
   "cell_type": "markdown",
   "source": [
    "#### Column types\n",
    "All 27 columns are numerical. That's true only because every categorical column is encoded. We will of course need to deal with it.\n",
    "Continuous variables are fine as they are (for now let's omit data scaling etc.)\n",
    "Categorical variables with ordinal scale will stay encoded into numbers, however some modifications may be required e.g. when encoding does not represent natural order well.\n",
    "Categorical variables with nominal scale will be decoded back to strings. These variables will be dummy encoded in next steps so using string is better approach - readability will be improved."
   ],
   "metadata": {
    "collapsed": false
   }
  },
  {
   "cell_type": "code",
   "execution_count": 6,
   "outputs": [
    {
     "data": {
      "text/plain": "1.0    180\n2.0    119\nName: surgery?, dtype: int64"
     },
     "execution_count": 6,
     "metadata": {},
     "output_type": "execute_result"
    }
   ],
   "source": [
    "#it can be binary encoded with '0' and '1'\n",
    "horse_colic_train['surgery?'].value_counts()"
   ],
   "metadata": {
    "collapsed": false,
    "ExecuteTime": {
     "end_time": "2023-05-23T18:50:57.758677600Z",
     "start_time": "2023-05-23T18:50:57.741121100Z"
    }
   }
  },
  {
   "cell_type": "code",
   "execution_count": 19,
   "outputs": [
    {
     "data": {
      "text/plain": "1    276\n9     24\nName: Age, dtype: int64"
     },
     "execution_count": 19,
     "metadata": {},
     "output_type": "execute_result"
    }
   ],
   "source": [
    "#2 possible age values - according to description '1' for adult horse (>6 month) and '2' for young horse (<6 months)\n",
    "#however current column values are different. we assume that '9' means that horse is young\n",
    "#it's also better to rename this column to 'adult?' and encode it binary\n",
    "horse_colic_train['Age'].value_counts()"
   ],
   "metadata": {
    "collapsed": false,
    "ExecuteTime": {
     "end_time": "2023-05-23T19:43:46.067014200Z",
     "start_time": "2023-05-23T19:43:46.046513400Z"
    }
   }
  },
  {
   "cell_type": "code",
   "execution_count": 12,
   "outputs": [
    {
     "data": {
      "text/plain": "0       530101\n1       534817\n2       530334\n3      5290409\n4       530255\n        ...   \n295     533886\n296     527702\n297     529386\n298     530612\n299     534618\nName: Hospital Number, Length: 300, dtype: int64"
     },
     "execution_count": 12,
     "metadata": {},
     "output_type": "execute_result"
    }
   ],
   "source": [
    "#this column indicates horse unique identifier, some rows are repeated because one horse may have more than one row in dataset\n",
    "#this column may useful for creating an interesting time series but there is not enough data, so we will probably delete it.\n",
    "horse_colic_train['Hospital Number']"
   ],
   "metadata": {
    "collapsed": false,
    "ExecuteTime": {
     "end_time": "2023-05-23T19:04:32.633484700Z",
     "start_time": "2023-05-23T19:04:32.613797500Z"
    }
   }
  },
  {
   "cell_type": "code",
   "execution_count": 17,
   "outputs": [
    {
     "data": {
      "text/plain": "       rectal temperature       pulse  respiratory rate\ncount          240.000000  276.000000        242.000000\nmean            38.167917   71.913043         30.417355\nstd              0.732289   28.630557         17.642231\nmin             35.400000   30.000000          8.000000\n25%             37.800000   48.000000         18.500000\n50%             38.200000   64.000000         24.500000\n75%             38.500000   88.000000         36.000000\nmax             40.800000  184.000000         96.000000",
      "text/html": "<div>\n<style scoped>\n    .dataframe tbody tr th:only-of-type {\n        vertical-align: middle;\n    }\n\n    .dataframe tbody tr th {\n        vertical-align: top;\n    }\n\n    .dataframe thead th {\n        text-align: right;\n    }\n</style>\n<table border=\"1\" class=\"dataframe\">\n  <thead>\n    <tr style=\"text-align: right;\">\n      <th></th>\n      <th>rectal temperature</th>\n      <th>pulse</th>\n      <th>respiratory rate</th>\n    </tr>\n  </thead>\n  <tbody>\n    <tr>\n      <th>count</th>\n      <td>240.000000</td>\n      <td>276.000000</td>\n      <td>242.000000</td>\n    </tr>\n    <tr>\n      <th>mean</th>\n      <td>38.167917</td>\n      <td>71.913043</td>\n      <td>30.417355</td>\n    </tr>\n    <tr>\n      <th>std</th>\n      <td>0.732289</td>\n      <td>28.630557</td>\n      <td>17.642231</td>\n    </tr>\n    <tr>\n      <th>min</th>\n      <td>35.400000</td>\n      <td>30.000000</td>\n      <td>8.000000</td>\n    </tr>\n    <tr>\n      <th>25%</th>\n      <td>37.800000</td>\n      <td>48.000000</td>\n      <td>18.500000</td>\n    </tr>\n    <tr>\n      <th>50%</th>\n      <td>38.200000</td>\n      <td>64.000000</td>\n      <td>24.500000</td>\n    </tr>\n    <tr>\n      <th>75%</th>\n      <td>38.500000</td>\n      <td>88.000000</td>\n      <td>36.000000</td>\n    </tr>\n    <tr>\n      <th>max</th>\n      <td>40.800000</td>\n      <td>184.000000</td>\n      <td>96.000000</td>\n    </tr>\n  </tbody>\n</table>\n</div>"
     },
     "execution_count": 17,
     "metadata": {},
     "output_type": "execute_result"
    }
   ],
   "source": [
    "#next 3 columns (rectal temperature, pulse, respiratory rate) are continuous so for now we don't analyze them,\n",
    "#although they will probably be very relevant because they determine horse base vital signs.\n",
    "#pulse and respiratory rate have max value much bigger than 3rd quartile - we will verify that later\n",
    "horse_colic_train.iloc[:, 3:6].describe()"
   ],
   "metadata": {
    "collapsed": false,
    "ExecuteTime": {
     "end_time": "2023-05-23T19:43:29.698188400Z",
     "start_time": "2023-05-23T19:43:29.665488100Z"
    }
   }
  },
  {
   "cell_type": "code",
   "execution_count": 20,
   "outputs": [
    {
     "data": {
      "text/plain": "3.0    109\n1.0     78\n2.0     30\n4.0     27\nName: temperature of extremities, dtype: int64"
     },
     "execution_count": 20,
     "metadata": {},
     "output_type": "execute_result"
    }
   ],
   "source": [
    "#this column is in ordinal scale, so we will keep it encoded. however we will need to change encoding because\n",
    "#current one doesn't represent natural order (1 = Normal, 2 = Warm, 3 = Cool, 4 = Cold)\n",
    "#in case of regression model we will probably delete this column because it's strongly correlated with rectal temperature\n",
    "horse_colic_train['temperature of extremities'].value_counts()"
   ],
   "metadata": {
    "collapsed": false,
    "ExecuteTime": {
     "end_time": "2023-05-23T20:02:59.252954200Z",
     "start_time": "2023-05-23T20:02:59.237912Z"
    }
   }
  },
  {
   "cell_type": "code",
   "execution_count": 28,
   "outputs": [
    {
     "data": {
      "text/plain": "1.0    115\n3.0    103\n4.0      8\n2.0      5\nName: peripheral pulse, dtype: int64"
     },
     "execution_count": 28,
     "metadata": {},
     "output_type": "execute_result"
    }
   ],
   "source": [
    "#this column encoding should be also fixed, because for now it doesn't represent natural order (1 = normal, 2 = increased, 3 = reduced, 4 = absent)\n",
    "#we will consider removing this column because it's values are missing in 69 rows and it's very subjective\n",
    "horse_colic_train['peripheral pulse'].value_counts()"
   ],
   "metadata": {
    "collapsed": false,
    "ExecuteTime": {
     "end_time": "2023-05-23T20:38:20.126079700Z",
     "start_time": "2023-05-23T20:38:20.106520700Z"
    }
   }
  },
  {
   "cell_type": "code",
   "execution_count": 29,
   "outputs": [
    {
     "data": {
      "text/plain": "1.0    79\n3.0    58\n4.0    41\n2.0    30\n5.0    25\n6.0    20\nName: mucous membranes, dtype: int64"
     },
     "execution_count": 29,
     "metadata": {},
     "output_type": "execute_result"
    }
   ],
   "source": [
    "#this column ordering is also wrong, but this time we only need to swap '5' with '6'\n",
    "#encoding meaning - 1 = normal pink, 2 = bright pink, 3 = pale pink, 4 = pale cyanotic, 5 = bright red / injected, 6 = dark cyanotic\n",
    "#dataset description specifies 4 groups for these 6 values, so we would be able to reduce value count, however we will not do it\n",
    "#because we could lose some information and value count is not critical (ordinal scale = not dummies = no extra dimensions)\n",
    "horse_colic_train['mucous membranes'].value_counts()"
   ],
   "metadata": {
    "collapsed": false,
    "ExecuteTime": {
     "end_time": "2023-05-23T22:10:36.779953100Z",
     "start_time": "2023-05-23T22:10:36.736824100Z"
    }
   }
  },
  {
   "cell_type": "code",
   "execution_count": 30,
   "outputs": [
    {
     "data": {
      "text/plain": "1.0    188\n2.0     78\n3.0      2\nName: capillary refill time, dtype: int64"
     },
     "execution_count": 30,
     "metadata": {},
     "output_type": "execute_result"
    }
   ],
   "source": [
    "#this column can be encoded binary. according to dataset description there are only 2 possible values - '1' and '2', so we have to delete rows with '3' (meaningless)   y\n",
    "horse_colic_train['capillary refill time'].value_counts()"
   ],
   "metadata": {
    "collapsed": false,
    "ExecuteTime": {
     "end_time": "2023-05-23T22:11:28.188727300Z",
     "start_time": "2023-05-23T22:11:28.171694800Z"
    }
   }
  },
  {
   "cell_type": "code",
   "execution_count": null,
   "outputs": [],
   "source": [],
   "metadata": {
    "collapsed": false
   }
  }
 ],
 "metadata": {
  "kernelspec": {
   "display_name": "Python 3 (ipykernel)",
   "language": "python",
   "name": "python3"
  },
  "language_info": {
   "codemirror_mode": {
    "name": "ipython",
    "version": 3
   },
   "file_extension": ".py",
   "mimetype": "text/x-python",
   "name": "python",
   "nbconvert_exporter": "python",
   "pygments_lexer": "ipython3",
   "version": "3.8.15"
  }
 },
 "nbformat": 4,
 "nbformat_minor": 5
}
